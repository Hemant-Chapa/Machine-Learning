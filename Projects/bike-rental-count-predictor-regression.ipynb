{
 "cells": [
  {
   "cell_type": "code",
   "execution_count": 4,
   "metadata": {
    "_cell_guid": "b1076dfc-b9ad-4769-8c92-a6c4dae69d19",
    "_uuid": "8f2839f25d086af736a60e9eeb907d3b93b6e0e5",
    "execution": {
     "iopub.execute_input": "2021-09-08T20:18:13.837354Z",
     "iopub.status.busy": "2021-09-08T20:18:13.836917Z",
     "iopub.status.idle": "2021-09-08T20:18:13.852060Z",
     "shell.execute_reply": "2021-09-08T20:18:13.851024Z",
     "shell.execute_reply.started": "2021-09-08T20:18:13.837318Z"
    }
   },
   "outputs": [],
   "source": [
    "import numpy as np # linear algebra\n",
    "import pandas as pd # data processing, CSV file I/O (e.g. pd.read_csv)"
   ]
  },
  {
   "cell_type": "code",
   "execution_count": 1,
   "metadata": {},
   "outputs": [
    {
     "name": "stdout",
     "output_type": "stream",
     "text": [
      " Volume in drive C is OS\n",
      " Volume Serial Number is 9699-6BAB\n",
      "\n",
      " Directory of C:\\Users\\Hemant\\Documents\\GitHub\\Machine-Learning\\Projects\n",
      "\n",
      "09-09-2021  03:20    <DIR>          .\n",
      "09-09-2021  03:20    <DIR>          ..\n",
      "04-08-2021  01:00    <DIR>          .ipynb_checkpoints\n",
      "09-09-2021  03:19           607,316 bike-rental-count-predictor-regression.ipynb\n",
      "09-09-2021  03:22    <DIR>          Datasets\n",
      "07-07-2021  14:41           430,551 insurance-regression.ipynb\n",
      "25-06-2021  23:58           859,630 Loan Data Analysis.ipynb\n",
      "12-08-2021  03:13         2,394,318 nba-2k20-salary-prediction.ipynb\n",
      "06-07-2021  23:59         1,572,592 Pulsar Star Prediction.ipynb\n",
      "05-07-2021  02:19           101,026 Regression Analysis of King County.ipynb\n",
      "28-07-2021  01:19         4,171,743 water-potability-classifier.ipynb\n",
      "               7 File(s)     10,137,176 bytes\n",
      "               4 Dir(s)  34,344,820,736 bytes free\n"
     ]
    }
   ],
   "source": [
    "! dir"
   ]
  },
  {
   "cell_type": "markdown",
   "metadata": {},
   "source": [
    "## Importing Libraries"
   ]
  },
  {
   "cell_type": "code",
   "execution_count": 3,
   "metadata": {
    "execution": {
     "iopub.execute_input": "2021-09-08T20:18:13.854130Z",
     "iopub.status.busy": "2021-09-08T20:18:13.853725Z",
     "iopub.status.idle": "2021-09-08T20:18:15.001786Z",
     "shell.execute_reply": "2021-09-08T20:18:15.000788Z",
     "shell.execute_reply.started": "2021-09-08T20:18:13.854095Z"
    }
   },
   "outputs": [],
   "source": [
    "import matplotlib.pyplot as plt\n",
    "import seaborn as sns\n",
    "%matplotlib inline"
   ]
  },
  {
   "cell_type": "code",
   "execution_count": 6,
   "metadata": {},
   "outputs": [],
   "source": [
    "path = \"C:\\\\Users\\\\Hemant\\\\Documents\\\\GitHub\\\\Machine-Learning\\\\Projects\\\\Datasets\\\\hourly-bike_registration_prediction.csv\""
   ]
  },
  {
   "cell_type": "markdown",
   "metadata": {},
   "source": [
    "## Data Loading"
   ]
  },
  {
   "cell_type": "code",
   "execution_count": 7,
   "metadata": {
    "execution": {
     "iopub.execute_input": "2021-09-08T20:18:15.004524Z",
     "iopub.status.busy": "2021-09-08T20:18:15.004124Z",
     "iopub.status.idle": "2021-09-08T20:18:15.080838Z",
     "shell.execute_reply": "2021-09-08T20:18:15.079716Z",
     "shell.execute_reply.started": "2021-09-08T20:18:15.004490Z"
    }
   },
   "outputs": [],
   "source": [
    "hour = pd.read_csv(path)\n",
    "#day = pd.read_csv(\"/kaggle/input/rental-bike-sharing/day.csv\")"
   ]
  },
  {
   "cell_type": "code",
   "execution_count": 8,
   "metadata": {
    "execution": {
     "iopub.execute_input": "2021-09-08T20:18:15.082865Z",
     "iopub.status.busy": "2021-09-08T20:18:15.082467Z",
     "iopub.status.idle": "2021-09-08T20:18:15.123395Z",
     "shell.execute_reply": "2021-09-08T20:18:15.122506Z",
     "shell.execute_reply.started": "2021-09-08T20:18:15.082828Z"
    }
   },
   "outputs": [
    {
     "data": {
      "text/html": [
       "<div>\n",
       "<style scoped>\n",
       "    .dataframe tbody tr th:only-of-type {\n",
       "        vertical-align: middle;\n",
       "    }\n",
       "\n",
       "    .dataframe tbody tr th {\n",
       "        vertical-align: top;\n",
       "    }\n",
       "\n",
       "    .dataframe thead th {\n",
       "        text-align: right;\n",
       "    }\n",
       "</style>\n",
       "<table border=\"1\" class=\"dataframe\">\n",
       "  <thead>\n",
       "    <tr style=\"text-align: right;\">\n",
       "      <th></th>\n",
       "      <th>instant</th>\n",
       "      <th>dteday</th>\n",
       "      <th>season</th>\n",
       "      <th>yr</th>\n",
       "      <th>mnth</th>\n",
       "      <th>hr</th>\n",
       "      <th>holiday</th>\n",
       "      <th>weekday</th>\n",
       "      <th>workingday</th>\n",
       "      <th>weathersit</th>\n",
       "      <th>temp</th>\n",
       "      <th>atemp</th>\n",
       "      <th>hum</th>\n",
       "      <th>windspeed</th>\n",
       "      <th>casual</th>\n",
       "      <th>registered</th>\n",
       "      <th>cnt</th>\n",
       "    </tr>\n",
       "  </thead>\n",
       "  <tbody>\n",
       "    <tr>\n",
       "      <th>0</th>\n",
       "      <td>1</td>\n",
       "      <td>2011-01-01</td>\n",
       "      <td>1</td>\n",
       "      <td>0</td>\n",
       "      <td>1</td>\n",
       "      <td>0</td>\n",
       "      <td>0</td>\n",
       "      <td>6</td>\n",
       "      <td>0</td>\n",
       "      <td>1</td>\n",
       "      <td>0.24</td>\n",
       "      <td>0.2879</td>\n",
       "      <td>0.81</td>\n",
       "      <td>0.0</td>\n",
       "      <td>3</td>\n",
       "      <td>13</td>\n",
       "      <td>16</td>\n",
       "    </tr>\n",
       "    <tr>\n",
       "      <th>1</th>\n",
       "      <td>2</td>\n",
       "      <td>2011-01-01</td>\n",
       "      <td>1</td>\n",
       "      <td>0</td>\n",
       "      <td>1</td>\n",
       "      <td>1</td>\n",
       "      <td>0</td>\n",
       "      <td>6</td>\n",
       "      <td>0</td>\n",
       "      <td>1</td>\n",
       "      <td>0.22</td>\n",
       "      <td>0.2727</td>\n",
       "      <td>0.80</td>\n",
       "      <td>0.0</td>\n",
       "      <td>8</td>\n",
       "      <td>32</td>\n",
       "      <td>40</td>\n",
       "    </tr>\n",
       "    <tr>\n",
       "      <th>2</th>\n",
       "      <td>3</td>\n",
       "      <td>2011-01-01</td>\n",
       "      <td>1</td>\n",
       "      <td>0</td>\n",
       "      <td>1</td>\n",
       "      <td>2</td>\n",
       "      <td>0</td>\n",
       "      <td>6</td>\n",
       "      <td>0</td>\n",
       "      <td>1</td>\n",
       "      <td>0.22</td>\n",
       "      <td>0.2727</td>\n",
       "      <td>0.80</td>\n",
       "      <td>0.0</td>\n",
       "      <td>5</td>\n",
       "      <td>27</td>\n",
       "      <td>32</td>\n",
       "    </tr>\n",
       "    <tr>\n",
       "      <th>3</th>\n",
       "      <td>4</td>\n",
       "      <td>2011-01-01</td>\n",
       "      <td>1</td>\n",
       "      <td>0</td>\n",
       "      <td>1</td>\n",
       "      <td>3</td>\n",
       "      <td>0</td>\n",
       "      <td>6</td>\n",
       "      <td>0</td>\n",
       "      <td>1</td>\n",
       "      <td>0.24</td>\n",
       "      <td>0.2879</td>\n",
       "      <td>0.75</td>\n",
       "      <td>0.0</td>\n",
       "      <td>3</td>\n",
       "      <td>10</td>\n",
       "      <td>13</td>\n",
       "    </tr>\n",
       "    <tr>\n",
       "      <th>4</th>\n",
       "      <td>5</td>\n",
       "      <td>2011-01-01</td>\n",
       "      <td>1</td>\n",
       "      <td>0</td>\n",
       "      <td>1</td>\n",
       "      <td>4</td>\n",
       "      <td>0</td>\n",
       "      <td>6</td>\n",
       "      <td>0</td>\n",
       "      <td>1</td>\n",
       "      <td>0.24</td>\n",
       "      <td>0.2879</td>\n",
       "      <td>0.75</td>\n",
       "      <td>0.0</td>\n",
       "      <td>0</td>\n",
       "      <td>1</td>\n",
       "      <td>1</td>\n",
       "    </tr>\n",
       "  </tbody>\n",
       "</table>\n",
       "</div>"
      ],
      "text/plain": [
       "   instant      dteday  season  yr  mnth  hr  holiday  weekday  workingday  \\\n",
       "0        1  2011-01-01       1   0     1   0        0        6           0   \n",
       "1        2  2011-01-01       1   0     1   1        0        6           0   \n",
       "2        3  2011-01-01       1   0     1   2        0        6           0   \n",
       "3        4  2011-01-01       1   0     1   3        0        6           0   \n",
       "4        5  2011-01-01       1   0     1   4        0        6           0   \n",
       "\n",
       "   weathersit  temp   atemp   hum  windspeed  casual  registered  cnt  \n",
       "0           1  0.24  0.2879  0.81        0.0       3          13   16  \n",
       "1           1  0.22  0.2727  0.80        0.0       8          32   40  \n",
       "2           1  0.22  0.2727  0.80        0.0       5          27   32  \n",
       "3           1  0.24  0.2879  0.75        0.0       3          10   13  \n",
       "4           1  0.24  0.2879  0.75        0.0       0           1    1  "
      ]
     },
     "execution_count": 8,
     "metadata": {},
     "output_type": "execute_result"
    }
   ],
   "source": [
    "hour.head()"
   ]
  },
  {
   "cell_type": "code",
   "execution_count": 6,
   "metadata": {
    "execution": {
     "iopub.execute_input": "2021-09-08T20:18:15.125233Z",
     "iopub.status.busy": "2021-09-08T20:18:15.124837Z",
     "iopub.status.idle": "2021-09-08T20:18:15.147607Z",
     "shell.execute_reply": "2021-09-08T20:18:15.146427Z",
     "shell.execute_reply.started": "2021-09-08T20:18:15.125188Z"
    }
   },
   "outputs": [
    {
     "data": {
      "text/html": [
       "<div>\n",
       "<style scoped>\n",
       "    .dataframe tbody tr th:only-of-type {\n",
       "        vertical-align: middle;\n",
       "    }\n",
       "\n",
       "    .dataframe tbody tr th {\n",
       "        vertical-align: top;\n",
       "    }\n",
       "\n",
       "    .dataframe thead th {\n",
       "        text-align: right;\n",
       "    }\n",
       "</style>\n",
       "<table border=\"1\" class=\"dataframe\">\n",
       "  <thead>\n",
       "    <tr style=\"text-align: right;\">\n",
       "      <th></th>\n",
       "      <th>instant</th>\n",
       "      <th>dteday</th>\n",
       "      <th>season</th>\n",
       "      <th>yr</th>\n",
       "      <th>mnth</th>\n",
       "      <th>holiday</th>\n",
       "      <th>weekday</th>\n",
       "      <th>workingday</th>\n",
       "      <th>weathersit</th>\n",
       "      <th>temp</th>\n",
       "      <th>atemp</th>\n",
       "      <th>hum</th>\n",
       "      <th>windspeed</th>\n",
       "      <th>casual</th>\n",
       "      <th>registered</th>\n",
       "      <th>cnt</th>\n",
       "    </tr>\n",
       "  </thead>\n",
       "  <tbody>\n",
       "    <tr>\n",
       "      <th>0</th>\n",
       "      <td>1</td>\n",
       "      <td>2011-01-01</td>\n",
       "      <td>1</td>\n",
       "      <td>0</td>\n",
       "      <td>1</td>\n",
       "      <td>0</td>\n",
       "      <td>6</td>\n",
       "      <td>0</td>\n",
       "      <td>2</td>\n",
       "      <td>0.344167</td>\n",
       "      <td>0.363625</td>\n",
       "      <td>0.805833</td>\n",
       "      <td>0.160446</td>\n",
       "      <td>331</td>\n",
       "      <td>654</td>\n",
       "      <td>985</td>\n",
       "    </tr>\n",
       "    <tr>\n",
       "      <th>1</th>\n",
       "      <td>2</td>\n",
       "      <td>2011-01-02</td>\n",
       "      <td>1</td>\n",
       "      <td>0</td>\n",
       "      <td>1</td>\n",
       "      <td>0</td>\n",
       "      <td>0</td>\n",
       "      <td>0</td>\n",
       "      <td>2</td>\n",
       "      <td>0.363478</td>\n",
       "      <td>0.353739</td>\n",
       "      <td>0.696087</td>\n",
       "      <td>0.248539</td>\n",
       "      <td>131</td>\n",
       "      <td>670</td>\n",
       "      <td>801</td>\n",
       "    </tr>\n",
       "    <tr>\n",
       "      <th>2</th>\n",
       "      <td>3</td>\n",
       "      <td>2011-01-03</td>\n",
       "      <td>1</td>\n",
       "      <td>0</td>\n",
       "      <td>1</td>\n",
       "      <td>0</td>\n",
       "      <td>1</td>\n",
       "      <td>1</td>\n",
       "      <td>1</td>\n",
       "      <td>0.196364</td>\n",
       "      <td>0.189405</td>\n",
       "      <td>0.437273</td>\n",
       "      <td>0.248309</td>\n",
       "      <td>120</td>\n",
       "      <td>1229</td>\n",
       "      <td>1349</td>\n",
       "    </tr>\n",
       "    <tr>\n",
       "      <th>3</th>\n",
       "      <td>4</td>\n",
       "      <td>2011-01-04</td>\n",
       "      <td>1</td>\n",
       "      <td>0</td>\n",
       "      <td>1</td>\n",
       "      <td>0</td>\n",
       "      <td>2</td>\n",
       "      <td>1</td>\n",
       "      <td>1</td>\n",
       "      <td>0.200000</td>\n",
       "      <td>0.212122</td>\n",
       "      <td>0.590435</td>\n",
       "      <td>0.160296</td>\n",
       "      <td>108</td>\n",
       "      <td>1454</td>\n",
       "      <td>1562</td>\n",
       "    </tr>\n",
       "    <tr>\n",
       "      <th>4</th>\n",
       "      <td>5</td>\n",
       "      <td>2011-01-05</td>\n",
       "      <td>1</td>\n",
       "      <td>0</td>\n",
       "      <td>1</td>\n",
       "      <td>0</td>\n",
       "      <td>3</td>\n",
       "      <td>1</td>\n",
       "      <td>1</td>\n",
       "      <td>0.226957</td>\n",
       "      <td>0.229270</td>\n",
       "      <td>0.436957</td>\n",
       "      <td>0.186900</td>\n",
       "      <td>82</td>\n",
       "      <td>1518</td>\n",
       "      <td>1600</td>\n",
       "    </tr>\n",
       "  </tbody>\n",
       "</table>\n",
       "</div>"
      ],
      "text/plain": [
       "   instant      dteday  season  yr  mnth  holiday  weekday  workingday  \\\n",
       "0        1  2011-01-01       1   0     1        0        6           0   \n",
       "1        2  2011-01-02       1   0     1        0        0           0   \n",
       "2        3  2011-01-03       1   0     1        0        1           1   \n",
       "3        4  2011-01-04       1   0     1        0        2           1   \n",
       "4        5  2011-01-05       1   0     1        0        3           1   \n",
       "\n",
       "   weathersit      temp     atemp       hum  windspeed  casual  registered  \\\n",
       "0           2  0.344167  0.363625  0.805833   0.160446     331         654   \n",
       "1           2  0.363478  0.353739  0.696087   0.248539     131         670   \n",
       "2           1  0.196364  0.189405  0.437273   0.248309     120        1229   \n",
       "3           1  0.200000  0.212122  0.590435   0.160296     108        1454   \n",
       "4           1  0.226957  0.229270  0.436957   0.186900      82        1518   \n",
       "\n",
       "    cnt  \n",
       "0   985  \n",
       "1   801  \n",
       "2  1349  \n",
       "3  1562  \n",
       "4  1600  "
      ]
     },
     "execution_count": 6,
     "metadata": {},
     "output_type": "execute_result"
    }
   ],
   "source": [
    "#day.head()"
   ]
  },
  {
   "cell_type": "code",
   "execution_count": 7,
   "metadata": {
    "execution": {
     "iopub.execute_input": "2021-09-08T20:18:15.149408Z",
     "iopub.status.busy": "2021-09-08T20:18:15.148944Z",
     "iopub.status.idle": "2021-09-08T20:18:15.158608Z",
     "shell.execute_reply": "2021-09-08T20:18:15.157591Z",
     "shell.execute_reply.started": "2021-09-08T20:18:15.149360Z"
    }
   },
   "outputs": [
    {
     "name": "stdout",
     "output_type": "stream",
     "text": [
      "Shape of hour data: (17379, 17)\n",
      "Shape of Day data: (731, 16)\n"
     ]
    }
   ],
   "source": [
    "print(\"Shape of hour data: {}\".format(hour.shape))\n",
    "#print(\"Shape of Day data: {}\".format(day.shape))"
   ]
  },
  {
   "cell_type": "code",
   "execution_count": 8,
   "metadata": {
    "execution": {
     "iopub.execute_input": "2021-09-08T20:18:15.162067Z",
     "iopub.status.busy": "2021-09-08T20:18:15.161250Z",
     "iopub.status.idle": "2021-09-08T20:18:15.175521Z",
     "shell.execute_reply": "2021-09-08T20:18:15.174602Z",
     "shell.execute_reply.started": "2021-09-08T20:18:15.162025Z"
    }
   },
   "outputs": [
    {
     "data": {
      "text/plain": [
       "Index(['instant', 'dteday', 'season', 'yr', 'mnth', 'hr', 'holiday', 'weekday',\n",
       "       'workingday', 'weathersit', 'temp', 'atemp', 'hum', 'windspeed',\n",
       "       'casual', 'registered'],\n",
       "      dtype='object')"
      ]
     },
     "execution_count": 8,
     "metadata": {},
     "output_type": "execute_result"
    }
   ],
   "source": [
    "hour_features = hour.drop(\"cnt\", axis = 1).columns\n",
    "hour_features"
   ]
  },
  {
   "cell_type": "code",
   "execution_count": 9,
   "metadata": {
    "execution": {
     "iopub.execute_input": "2021-09-08T20:18:15.177846Z",
     "iopub.status.busy": "2021-09-08T20:18:15.177373Z",
     "iopub.status.idle": "2021-09-08T20:18:15.189518Z",
     "shell.execute_reply": "2021-09-08T20:18:15.188754Z",
     "shell.execute_reply.started": "2021-09-08T20:18:15.177806Z"
    }
   },
   "outputs": [
    {
     "data": {
      "text/plain": [
       "instant         int64\n",
       "dteday         object\n",
       "season          int64\n",
       "yr              int64\n",
       "mnth            int64\n",
       "hr              int64\n",
       "holiday         int64\n",
       "weekday         int64\n",
       "workingday      int64\n",
       "weathersit      int64\n",
       "temp          float64\n",
       "atemp         float64\n",
       "hum           float64\n",
       "windspeed     float64\n",
       "casual          int64\n",
       "registered      int64\n",
       "cnt             int64\n",
       "dtype: object"
      ]
     },
     "execution_count": 9,
     "metadata": {},
     "output_type": "execute_result"
    }
   ],
   "source": [
    "# Data types\n",
    "hour.dtypes"
   ]
  },
  {
   "cell_type": "code",
   "execution_count": 10,
   "metadata": {
    "execution": {
     "iopub.execute_input": "2021-09-08T20:18:15.192207Z",
     "iopub.status.busy": "2021-09-08T20:18:15.191772Z",
     "iopub.status.idle": "2021-09-08T20:18:15.206811Z",
     "shell.execute_reply": "2021-09-08T20:18:15.205818Z",
     "shell.execute_reply.started": "2021-09-08T20:18:15.192162Z"
    }
   },
   "outputs": [
    {
     "name": "stdout",
     "output_type": "stream",
     "text": [
      "1    8734\n",
      "0    8645\n",
      "Name: yr, dtype: int64\n",
      "3    4496\n",
      "2    4409\n",
      "1    4242\n",
      "4    4232\n",
      "Name: season, dtype: int64\n"
     ]
    }
   ],
   "source": [
    "print(hour[\"yr\"].value_counts())\n",
    "print(hour[\"season\"].value_counts())"
   ]
  },
  {
   "cell_type": "markdown",
   "metadata": {
    "execution": {
     "iopub.execute_input": "2021-08-20T17:42:28.209005Z",
     "iopub.status.busy": "2021-08-20T17:42:28.208549Z",
     "iopub.status.idle": "2021-08-20T17:42:28.216351Z",
     "shell.execute_reply": "2021-08-20T17:42:28.215329Z",
     "shell.execute_reply.started": "2021-08-20T17:42:28.208965Z"
    }
   },
   "source": [
    "### Feature Description\n",
    "- instant: record index (Irrelevant)\n",
    "- dteday : date \n",
    "- season : season (1:winter, 2:spring, 3:summer, 4:fall) \n",
    "- yr : year (0: 2011, 1:2012) \n",
    "- mnth : month ( 1 to 12) \n",
    "- hr : hour (0 to 23) \n",
    "- holiday : weather day is holiday or not \n",
    "- weekday : day of the week \n",
    "- workingday : if day is neither weekend nor holiday is 1, otherwise is 0. \n",
    "- weathersit : \n",
    "    - 1: Clear, Few clouds, Partly cloudy, Partly cloudy \n",
    "    - 2: Mist + Cloudy, Mist + Broken clouds, Mist + Few clouds, Mist \n",
    "    - 3: Light Snow, Light Rain + Thunderstorm + Scattered clouds, Light Rain + Scattered clouds \n",
    "    - 4: Heavy Rain + Ice Pallets + Thunderstorm + Mist, Snow + Fog \n",
    "- temp : Normalized temperature in Celsius. The values are derived via (t-t_min)/(t_max-t_min), t_min=-8, t_max=+39 (only in hourly scale) \n",
    "- atemp: Normalized feeling temperature in Celsius. The values are derived via (t-t_min)/(t_max-t_min), t_min=-16, t_max=+50 (only in hourly scale) \n",
    "- hum: Normalized humidity. The values are divided to 100 (max) \n",
    "- windspeed: Normalized wind speed. The values are divided to 67 (max) \n",
    "- casual: count of casual users \n",
    "- registered: count of registered users \n",
    "- cnt: count of total rental bikes including both casual and registered \n",
    " "
   ]
  },
  {
   "cell_type": "code",
   "execution_count": 11,
   "metadata": {
    "execution": {
     "iopub.execute_input": "2021-09-08T20:18:15.208757Z",
     "iopub.status.busy": "2021-09-08T20:18:15.208369Z",
     "iopub.status.idle": "2021-09-08T20:18:15.215748Z",
     "shell.execute_reply": "2021-09-08T20:18:15.214695Z",
     "shell.execute_reply.started": "2021-09-08T20:18:15.208726Z"
    }
   },
   "outputs": [],
   "source": [
    "from datetime import datetime\n",
    "from dateutil import parser"
   ]
  },
  {
   "cell_type": "code",
   "execution_count": 12,
   "metadata": {
    "execution": {
     "iopub.execute_input": "2021-09-08T20:18:15.217201Z",
     "iopub.status.busy": "2021-09-08T20:18:15.216930Z",
     "iopub.status.idle": "2021-09-08T20:18:15.445495Z",
     "shell.execute_reply": "2021-09-08T20:18:15.444541Z",
     "shell.execute_reply.started": "2021-09-08T20:18:15.217175Z"
    }
   },
   "outputs": [
    {
     "data": {
      "image/png": "[encoded data removed]",
      "text/plain": [
       "<Figure size 576x432 with 1 Axes>"
      ]
     },
     "metadata": {
      "needs_background": "light"
     },
     "output_type": "display_data"
    }
   ],
   "source": [
    "# Missing values\n",
    "plt.figure(figsize = (8,6))\n",
    "hour.isna().sum().plot() # NO missing Values\n",
    "plt.title(\"Missing Values\")\n",
    "plt.show()"
   ]
  },
  {
   "cell_type": "code",
   "execution_count": 13,
   "metadata": {
    "execution": {
     "iopub.execute_input": "2021-09-08T20:18:15.447090Z",
     "iopub.status.busy": "2021-09-08T20:18:15.446776Z",
     "iopub.status.idle": "2021-09-08T20:18:15.467466Z",
     "shell.execute_reply": "2021-09-08T20:18:15.466211Z",
     "shell.execute_reply.started": "2021-09-08T20:18:15.447058Z"
    }
   },
   "outputs": [
    {
     "data": {
      "text/html": [
       "<div>\n",
       "<style scoped>\n",
       "    .dataframe tbody tr th:only-of-type {\n",
       "        vertical-align: middle;\n",
       "    }\n",
       "\n",
       "    .dataframe tbody tr th {\n",
       "        vertical-align: top;\n",
       "    }\n",
       "\n",
       "    .dataframe thead th {\n",
       "        text-align: right;\n",
       "    }\n",
       "</style>\n",
       "<table border=\"1\" class=\"dataframe\">\n",
       "  <thead>\n",
       "    <tr style=\"text-align: right;\">\n",
       "      <th></th>\n",
       "      <th>instant</th>\n",
       "      <th>dteday</th>\n",
       "      <th>season</th>\n",
       "      <th>yr</th>\n",
       "      <th>mnth</th>\n",
       "      <th>hr</th>\n",
       "      <th>holiday</th>\n",
       "      <th>weekday</th>\n",
       "      <th>workingday</th>\n",
       "      <th>weathersit</th>\n",
       "      <th>temp</th>\n",
       "      <th>atemp</th>\n",
       "      <th>hum</th>\n",
       "      <th>windspeed</th>\n",
       "      <th>casual</th>\n",
       "      <th>registered</th>\n",
       "      <th>cnt</th>\n",
       "    </tr>\n",
       "  </thead>\n",
       "  <tbody>\n",
       "    <tr>\n",
       "      <th>0</th>\n",
       "      <td>1</td>\n",
       "      <td>2011-01-01</td>\n",
       "      <td>1</td>\n",
       "      <td>0</td>\n",
       "      <td>1</td>\n",
       "      <td>0</td>\n",
       "      <td>0</td>\n",
       "      <td>6</td>\n",
       "      <td>0</td>\n",
       "      <td>1</td>\n",
       "      <td>0.24</td>\n",
       "      <td>0.2879</td>\n",
       "      <td>0.81</td>\n",
       "      <td>0.0</td>\n",
       "      <td>3</td>\n",
       "      <td>13</td>\n",
       "      <td>16</td>\n",
       "    </tr>\n",
       "    <tr>\n",
       "      <th>1</th>\n",
       "      <td>2</td>\n",
       "      <td>2011-01-01</td>\n",
       "      <td>1</td>\n",
       "      <td>0</td>\n",
       "      <td>1</td>\n",
       "      <td>1</td>\n",
       "      <td>0</td>\n",
       "      <td>6</td>\n",
       "      <td>0</td>\n",
       "      <td>1</td>\n",
       "      <td>0.22</td>\n",
       "      <td>0.2727</td>\n",
       "      <td>0.80</td>\n",
       "      <td>0.0</td>\n",
       "      <td>8</td>\n",
       "      <td>32</td>\n",
       "      <td>40</td>\n",
       "    </tr>\n",
       "    <tr>\n",
       "      <th>2</th>\n",
       "      <td>3</td>\n",
       "      <td>2011-01-01</td>\n",
       "      <td>1</td>\n",
       "      <td>0</td>\n",
       "      <td>1</td>\n",
       "      <td>2</td>\n",
       "      <td>0</td>\n",
       "      <td>6</td>\n",
       "      <td>0</td>\n",
       "      <td>1</td>\n",
       "      <td>0.22</td>\n",
       "      <td>0.2727</td>\n",
       "      <td>0.80</td>\n",
       "      <td>0.0</td>\n",
       "      <td>5</td>\n",
       "      <td>27</td>\n",
       "      <td>32</td>\n",
       "    </tr>\n",
       "    <tr>\n",
       "      <th>3</th>\n",
       "      <td>4</td>\n",
       "      <td>2011-01-01</td>\n",
       "      <td>1</td>\n",
       "      <td>0</td>\n",
       "      <td>1</td>\n",
       "      <td>3</td>\n",
       "      <td>0</td>\n",
       "      <td>6</td>\n",
       "      <td>0</td>\n",
       "      <td>1</td>\n",
       "      <td>0.24</td>\n",
       "      <td>0.2879</td>\n",
       "      <td>0.75</td>\n",
       "      <td>0.0</td>\n",
       "      <td>3</td>\n",
       "      <td>10</td>\n",
       "      <td>13</td>\n",
       "    </tr>\n",
       "    <tr>\n",
       "      <th>4</th>\n",
       "      <td>5</td>\n",
       "      <td>2011-01-01</td>\n",
       "      <td>1</td>\n",
       "      <td>0</td>\n",
       "      <td>1</td>\n",
       "      <td>4</td>\n",
       "      <td>0</td>\n",
       "      <td>6</td>\n",
       "      <td>0</td>\n",
       "      <td>1</td>\n",
       "      <td>0.24</td>\n",
       "      <td>0.2879</td>\n",
       "      <td>0.75</td>\n",
       "      <td>0.0</td>\n",
       "      <td>0</td>\n",
       "      <td>1</td>\n",
       "      <td>1</td>\n",
       "    </tr>\n",
       "  </tbody>\n",
       "</table>\n",
       "</div>"
      ],
      "text/plain": [
       "   instant      dteday  season  yr  mnth  hr  holiday  weekday  workingday  \\\n",
       "0        1  2011-01-01       1   0     1   0        0        6           0   \n",
       "1        2  2011-01-01       1   0     1   1        0        6           0   \n",
       "2        3  2011-01-01       1   0     1   2        0        6           0   \n",
       "3        4  2011-01-01       1   0     1   3        0        6           0   \n",
       "4        5  2011-01-01       1   0     1   4        0        6           0   \n",
       "\n",
       "   weathersit  temp   atemp   hum  windspeed  casual  registered  cnt  \n",
       "0           1  0.24  0.2879  0.81        0.0       3          13   16  \n",
       "1           1  0.22  0.2727  0.80        0.0       8          32   40  \n",
       "2           1  0.22  0.2727  0.80        0.0       5          27   32  \n",
       "3           1  0.24  0.2879  0.75        0.0       3          10   13  \n",
       "4           1  0.24  0.2879  0.75        0.0       0           1    1  "
      ]
     },
     "execution_count": 13,
     "metadata": {},
     "output_type": "execute_result"
    }
   ],
   "source": [
    "hour.head()"
   ]
  },
  {
   "cell_type": "markdown",
   "metadata": {},
   "source": [
    "**Ideas**\n",
    "1. Divide hour of day into 5 categories \n",
    "* Early Morning - 4th hour to 7th hour \n",
    "* Morning - 8th hour to 12th hour\n",
    "* Afternoon - 13th hour to 16th hour\n",
    "* Evening - 17th hour to 20th hour\n",
    "* Night - 21st hour to 3rd hour\n",
    "\n",
    "2. Divide Weekday - Weekday or Weekend\n",
    "3. Season, Weather Sit - Change it to OHE as the it is not an ordinal data\n"
   ]
  },
  {
   "cell_type": "markdown",
   "metadata": {},
   "source": [
    "## Data Transformation"
   ]
  },
  {
   "cell_type": "code",
   "execution_count": 14,
   "metadata": {
    "execution": {
     "iopub.execute_input": "2021-09-08T20:18:15.469038Z",
     "iopub.status.busy": "2021-09-08T20:18:15.468750Z",
     "iopub.status.idle": "2021-09-08T20:18:15.476392Z",
     "shell.execute_reply": "2021-09-08T20:18:15.475415Z",
     "shell.execute_reply.started": "2021-09-08T20:18:15.469010Z"
    }
   },
   "outputs": [
    {
     "data": {
      "text/plain": [
       "(0, 886)"
      ]
     },
     "execution_count": 14,
     "metadata": {},
     "output_type": "execute_result"
    }
   ],
   "source": [
    "hour[\"registered\"].min(), hour[\"registered\"].max(),"
   ]
  },
  {
   "cell_type": "code",
   "execution_count": 15,
   "metadata": {
    "execution": {
     "iopub.execute_input": "2021-09-08T20:18:15.477996Z",
     "iopub.status.busy": "2021-09-08T20:18:15.477688Z",
     "iopub.status.idle": "2021-09-08T20:18:15.685234Z",
     "shell.execute_reply": "2021-09-08T20:18:15.684267Z",
     "shell.execute_reply.started": "2021-09-08T20:18:15.477966Z"
    }
   },
   "outputs": [
    {
     "data": {
      "text/plain": [
       "<AxesSubplot:>"
      ]
     },
     "execution_count": 15,
     "metadata": {},
     "output_type": "execute_result"
    },
    {
     "data": {
      "image/png": "[encoded data removed]",
      "text/plain": [
       "<Figure size 432x288 with 1 Axes>"
      ]
     },
     "metadata": {
      "needs_background": "light"
     },
     "output_type": "display_data"
    }
   ],
   "source": [
    "# Let us take a look at the Regsitered count targets distribution\n",
    "hour.groupby(pd.cut(hour[\"registered\"], bins = range(0,1000,50)))[\"registered\"].count().hist()"
   ]
  },
  {
   "cell_type": "markdown",
   "metadata": {},
   "source": [
    "The least populated class of registered count has only 1 occurence. SO we cannot use a Stratified Sampling approach.\n",
    "We will use the simple random sampling to create the test set\n"
   ]
  },
  {
   "cell_type": "code",
   "execution_count": 16,
   "metadata": {
    "execution": {
     "iopub.execute_input": "2021-09-08T20:18:15.686789Z",
     "iopub.status.busy": "2021-09-08T20:18:15.686491Z",
     "iopub.status.idle": "2021-09-08T20:18:15.930694Z",
     "shell.execute_reply": "2021-09-08T20:18:15.929687Z",
     "shell.execute_reply.started": "2021-09-08T20:18:15.686761Z"
    }
   },
   "outputs": [
    {
     "data": {
      "text/plain": [
       "((13903, 17), (3476, 17))"
      ]
     },
     "execution_count": 16,
     "metadata": {},
     "output_type": "execute_result"
    }
   ],
   "source": [
    "# BEfore moving on let us create the Test dataset\n",
    "hour.shape\n",
    "\n",
    "from sklearn.model_selection import train_test_split\n",
    "train_hour, test_hour = train_test_split(hour, test_size = 0.2, random_state = 12)\n",
    "\n",
    "train_hour.shape, test_hour.shape"
   ]
  },
  {
   "cell_type": "code",
   "execution_count": 17,
   "metadata": {
    "execution": {
     "iopub.execute_input": "2021-09-08T20:18:15.932639Z",
     "iopub.status.busy": "2021-09-08T20:18:15.932205Z",
     "iopub.status.idle": "2021-09-08T20:18:15.953788Z",
     "shell.execute_reply": "2021-09-08T20:18:15.952767Z",
     "shell.execute_reply.started": "2021-09-08T20:18:15.932589Z"
    }
   },
   "outputs": [
    {
     "data": {
      "text/html": [
       "<div>\n",
       "<style scoped>\n",
       "    .dataframe tbody tr th:only-of-type {\n",
       "        vertical-align: middle;\n",
       "    }\n",
       "\n",
       "    .dataframe tbody tr th {\n",
       "        vertical-align: top;\n",
       "    }\n",
       "\n",
       "    .dataframe thead th {\n",
       "        text-align: right;\n",
       "    }\n",
       "</style>\n",
       "<table border=\"1\" class=\"dataframe\">\n",
       "  <thead>\n",
       "    <tr style=\"text-align: right;\">\n",
       "      <th></th>\n",
       "      <th>instant</th>\n",
       "      <th>dteday</th>\n",
       "      <th>season</th>\n",
       "      <th>yr</th>\n",
       "      <th>mnth</th>\n",
       "      <th>hr</th>\n",
       "      <th>holiday</th>\n",
       "      <th>weekday</th>\n",
       "      <th>workingday</th>\n",
       "      <th>weathersit</th>\n",
       "      <th>temp</th>\n",
       "      <th>atemp</th>\n",
       "      <th>hum</th>\n",
       "      <th>windspeed</th>\n",
       "      <th>casual</th>\n",
       "      <th>registered</th>\n",
       "      <th>cnt</th>\n",
       "    </tr>\n",
       "  </thead>\n",
       "  <tbody>\n",
       "    <tr>\n",
       "      <th>8273</th>\n",
       "      <td>8274</td>\n",
       "      <td>2011-12-16</td>\n",
       "      <td>4</td>\n",
       "      <td>0</td>\n",
       "      <td>12</td>\n",
       "      <td>9</td>\n",
       "      <td>0</td>\n",
       "      <td>5</td>\n",
       "      <td>1</td>\n",
       "      <td>1</td>\n",
       "      <td>0.36</td>\n",
       "      <td>0.3333</td>\n",
       "      <td>0.46</td>\n",
       "      <td>0.3881</td>\n",
       "      <td>8</td>\n",
       "      <td>235</td>\n",
       "      <td>243</td>\n",
       "    </tr>\n",
       "    <tr>\n",
       "      <th>8393</th>\n",
       "      <td>8394</td>\n",
       "      <td>2011-12-21</td>\n",
       "      <td>1</td>\n",
       "      <td>0</td>\n",
       "      <td>12</td>\n",
       "      <td>9</td>\n",
       "      <td>0</td>\n",
       "      <td>3</td>\n",
       "      <td>1</td>\n",
       "      <td>2</td>\n",
       "      <td>0.40</td>\n",
       "      <td>0.4091</td>\n",
       "      <td>0.87</td>\n",
       "      <td>0.2239</td>\n",
       "      <td>14</td>\n",
       "      <td>220</td>\n",
       "      <td>234</td>\n",
       "    </tr>\n",
       "    <tr>\n",
       "      <th>1351</th>\n",
       "      <td>1352</td>\n",
       "      <td>2011-03-01</td>\n",
       "      <td>1</td>\n",
       "      <td>0</td>\n",
       "      <td>3</td>\n",
       "      <td>14</td>\n",
       "      <td>0</td>\n",
       "      <td>2</td>\n",
       "      <td>1</td>\n",
       "      <td>1</td>\n",
       "      <td>0.32</td>\n",
       "      <td>0.3333</td>\n",
       "      <td>0.36</td>\n",
       "      <td>0.1343</td>\n",
       "      <td>18</td>\n",
       "      <td>61</td>\n",
       "      <td>79</td>\n",
       "    </tr>\n",
       "    <tr>\n",
       "      <th>12541</th>\n",
       "      <td>12542</td>\n",
       "      <td>2012-06-11</td>\n",
       "      <td>2</td>\n",
       "      <td>1</td>\n",
       "      <td>6</td>\n",
       "      <td>18</td>\n",
       "      <td>0</td>\n",
       "      <td>1</td>\n",
       "      <td>1</td>\n",
       "      <td>2</td>\n",
       "      <td>0.80</td>\n",
       "      <td>0.7273</td>\n",
       "      <td>0.43</td>\n",
       "      <td>0.2985</td>\n",
       "      <td>105</td>\n",
       "      <td>726</td>\n",
       "      <td>831</td>\n",
       "    </tr>\n",
       "    <tr>\n",
       "      <th>12862</th>\n",
       "      <td>12863</td>\n",
       "      <td>2012-06-25</td>\n",
       "      <td>3</td>\n",
       "      <td>1</td>\n",
       "      <td>6</td>\n",
       "      <td>3</td>\n",
       "      <td>0</td>\n",
       "      <td>1</td>\n",
       "      <td>1</td>\n",
       "      <td>1</td>\n",
       "      <td>0.68</td>\n",
       "      <td>0.6364</td>\n",
       "      <td>0.69</td>\n",
       "      <td>0.2537</td>\n",
       "      <td>1</td>\n",
       "      <td>4</td>\n",
       "      <td>5</td>\n",
       "    </tr>\n",
       "  </tbody>\n",
       "</table>\n",
       "</div>"
      ],
      "text/plain": [
       "       instant      dteday  season  yr  mnth  hr  holiday  weekday  \\\n",
       "8273      8274  2011-12-16       4   0    12   9        0        5   \n",
       "8393      8394  2011-12-21       1   0    12   9        0        3   \n",
       "1351      1352  2011-03-01       1   0     3  14        0        2   \n",
       "12541    12542  2012-06-11       2   1     6  18        0        1   \n",
       "12862    12863  2012-06-25       3   1     6   3        0        1   \n",
       "\n",
       "       workingday  weathersit  temp   atemp   hum  windspeed  casual  \\\n",
       "8273            1           1  0.36  0.3333  0.46     0.3881       8   \n",
       "8393            1           2  0.40  0.4091  0.87     0.2239      14   \n",
       "1351            1           1  0.32  0.3333  0.36     0.1343      18   \n",
       "12541           1           2  0.80  0.7273  0.43     0.2985     105   \n",
       "12862           1           1  0.68  0.6364  0.69     0.2537       1   \n",
       "\n",
       "       registered  cnt  \n",
       "8273          235  243  \n",
       "8393          220  234  \n",
       "1351           61   79  \n",
       "12541         726  831  \n",
       "12862           4    5  "
      ]
     },
     "execution_count": 17,
     "metadata": {},
     "output_type": "execute_result"
    }
   ],
   "source": [
    "# Using Train set for further analysis\n",
    "train_hour.head()"
   ]
  },
  {
   "cell_type": "markdown",
   "metadata": {},
   "source": [
    "Early Morning - 4th hour to 7th hour\n",
    "\n",
    "Morning - 8th hour to 12th hour\n",
    "\n",
    "Afternoon - 13th hour to 16th hour\n",
    "\n",
    "Evening - 17th hour to 20th hour\n",
    "\n",
    "Night - 21st hour to 3rd hour"
   ]
  },
  {
   "cell_type": "code",
   "execution_count": 18,
   "metadata": {
    "execution": {
     "iopub.execute_input": "2021-09-08T20:18:15.955427Z",
     "iopub.status.busy": "2021-09-08T20:18:15.955099Z",
     "iopub.status.idle": "2021-09-08T20:18:15.965376Z",
     "shell.execute_reply": "2021-09-08T20:18:15.964241Z",
     "shell.execute_reply.started": "2021-09-08T20:18:15.955394Z"
    }
   },
   "outputs": [],
   "source": [
    "def hour_transformer(x):\n",
    "    if x >=4 and x <=7:\n",
    "        return \"Early_Morning\"\n",
    "    elif x>=8 and x<=12:\n",
    "        return \"Morning\"\n",
    "    elif x >= 13 and x <=16:\n",
    "        return \"Afternoon\" \n",
    "    elif x >=17 and x <=20:\n",
    "        return \"Evening\"\n",
    "    elif x>=21 or x <=3:\n",
    "        return \"Night\"\n"
   ]
  },
  {
   "cell_type": "code",
   "execution_count": 19,
   "metadata": {
    "execution": {
     "iopub.execute_input": "2021-09-08T20:18:15.967646Z",
     "iopub.status.busy": "2021-09-08T20:18:15.967055Z",
     "iopub.status.idle": "2021-09-08T20:18:15.981902Z",
     "shell.execute_reply": "2021-09-08T20:18:15.980428Z",
     "shell.execute_reply.started": "2021-09-08T20:18:15.967597Z"
    }
   },
   "outputs": [],
   "source": [
    "## Transformer\n",
    "from sklearn.base import BaseEstimator, TransformerMixin\n",
    "\n",
    "\n",
    "class dataset_transformer(BaseEstimator, TransformerMixin):\n",
    "    def __init__(self, transform_cols = 1, drop_cols = 1, transform_season = 1, tranform_weathersit = 1, transform_weekday = 1, add_hour_of_day = 1, drop_originals = 0):\n",
    "        self.transform_cols = transform_cols\n",
    "        self.drop_cols = drop_cols\n",
    "        self.transform_season = transform_season\n",
    "        self.transform_weathersit = tranform_weathersit\n",
    "        self.transform_weekday = transform_weekday\n",
    "        self.add_hour_of_day = add_hour_of_day\n",
    "        self.drop_originals = drop_originals\n",
    "        return None\n",
    "    def fit(self, X, y = None):\n",
    "        return self\n",
    "    def transform(self, X, y = None):\n",
    "        transformed_df = X.copy()\n",
    "        if self.transform_cols:\n",
    "                if self.drop_cols:\n",
    "                    transformed_df.drop(\"instant\", axis = 1, inplace = True)\n",
    "                if self.transform_season:\n",
    "                    transformed_df[\"season_tr\"] = transformed_df[\"season\"].map({1:'winter', 2:'summer', 3:'spring', 4:'fall'})\n",
    "                if self.transform_weathersit:\n",
    "                    transformed_df[\"weathersit_tr\"] = transformed_df[\"weathersit\"].map({1:'Clear', 2:'Mist', 3:'Light_Snow', 4:'Heavy_Rain'})\n",
    "                if self.transform_weekday:\n",
    "                    transformed_df[\"weekday_tr\"] =  transformed_df[\"weekday\"].transform(lambda x: 0 if (x == 0 or x == 6) else 1)\n",
    "                if self.add_hour_of_day:\n",
    "                    transformed_df[\"hour_of_day_tr\"] = transformed_df[\"hr\"].transform(lambda x: hour_transformer(x))\n",
    "                if self.drop_originals:\n",
    "                    transformed_df.drop([\"season\", \"weathersit\", \"weekday\", \"hr\"], axis = 1, inplace = True)\n",
    "        return transformed_df\n",
    "\n",
    "    \n",
    "        "
   ]
  },
  {
   "cell_type": "code",
   "execution_count": 20,
   "metadata": {
    "execution": {
     "iopub.execute_input": "2021-09-08T20:18:15.987789Z",
     "iopub.status.busy": "2021-09-08T20:18:15.987319Z",
     "iopub.status.idle": "2021-09-08T20:18:16.047103Z",
     "shell.execute_reply": "2021-09-08T20:18:16.046140Z",
     "shell.execute_reply.started": "2021-09-08T20:18:15.987715Z"
    }
   },
   "outputs": [
    {
     "data": {
      "text/html": [
       "<div>\n",
       "<style scoped>\n",
       "    .dataframe tbody tr th:only-of-type {\n",
       "        vertical-align: middle;\n",
       "    }\n",
       "\n",
       "    .dataframe tbody tr th {\n",
       "        vertical-align: top;\n",
       "    }\n",
       "\n",
       "    .dataframe thead th {\n",
       "        text-align: right;\n",
       "    }\n",
       "</style>\n",
       "<table border=\"1\" class=\"dataframe\">\n",
       "  <thead>\n",
       "    <tr style=\"text-align: right;\">\n",
       "      <th></th>\n",
       "      <th>dteday</th>\n",
       "      <th>yr</th>\n",
       "      <th>mnth</th>\n",
       "      <th>holiday</th>\n",
       "      <th>workingday</th>\n",
       "      <th>temp</th>\n",
       "      <th>atemp</th>\n",
       "      <th>hum</th>\n",
       "      <th>windspeed</th>\n",
       "      <th>casual</th>\n",
       "      <th>registered</th>\n",
       "      <th>cnt</th>\n",
       "      <th>season_tr</th>\n",
       "      <th>weathersit_tr</th>\n",
       "      <th>weekday_tr</th>\n",
       "      <th>hour_of_day_tr</th>\n",
       "    </tr>\n",
       "  </thead>\n",
       "  <tbody>\n",
       "    <tr>\n",
       "      <th>8273</th>\n",
       "      <td>2011-12-16</td>\n",
       "      <td>0</td>\n",
       "      <td>12</td>\n",
       "      <td>0</td>\n",
       "      <td>1</td>\n",
       "      <td>0.36</td>\n",
       "      <td>0.3333</td>\n",
       "      <td>0.46</td>\n",
       "      <td>0.3881</td>\n",
       "      <td>8</td>\n",
       "      <td>235</td>\n",
       "      <td>243</td>\n",
       "      <td>fall</td>\n",
       "      <td>Clear</td>\n",
       "      <td>1</td>\n",
       "      <td>Morning</td>\n",
       "    </tr>\n",
       "    <tr>\n",
       "      <th>8393</th>\n",
       "      <td>2011-12-21</td>\n",
       "      <td>0</td>\n",
       "      <td>12</td>\n",
       "      <td>0</td>\n",
       "      <td>1</td>\n",
       "      <td>0.40</td>\n",
       "      <td>0.4091</td>\n",
       "      <td>0.87</td>\n",
       "      <td>0.2239</td>\n",
       "      <td>14</td>\n",
       "      <td>220</td>\n",
       "      <td>234</td>\n",
       "      <td>winter</td>\n",
       "      <td>Mist</td>\n",
       "      <td>1</td>\n",
       "      <td>Morning</td>\n",
       "    </tr>\n",
       "    <tr>\n",
       "      <th>1351</th>\n",
       "      <td>2011-03-01</td>\n",
       "      <td>0</td>\n",
       "      <td>3</td>\n",
       "      <td>0</td>\n",
       "      <td>1</td>\n",
       "      <td>0.32</td>\n",
       "      <td>0.3333</td>\n",
       "      <td>0.36</td>\n",
       "      <td>0.1343</td>\n",
       "      <td>18</td>\n",
       "      <td>61</td>\n",
       "      <td>79</td>\n",
       "      <td>winter</td>\n",
       "      <td>Clear</td>\n",
       "      <td>1</td>\n",
       "      <td>Afternoon</td>\n",
       "    </tr>\n",
       "    <tr>\n",
       "      <th>12541</th>\n",
       "      <td>2012-06-11</td>\n",
       "      <td>1</td>\n",
       "      <td>6</td>\n",
       "      <td>0</td>\n",
       "      <td>1</td>\n",
       "      <td>0.80</td>\n",
       "      <td>0.7273</td>\n",
       "      <td>0.43</td>\n",
       "      <td>0.2985</td>\n",
       "      <td>105</td>\n",
       "      <td>726</td>\n",
       "      <td>831</td>\n",
       "      <td>summer</td>\n",
       "      <td>Mist</td>\n",
       "      <td>1</td>\n",
       "      <td>Evening</td>\n",
       "    </tr>\n",
       "    <tr>\n",
       "      <th>12862</th>\n",
       "      <td>2012-06-25</td>\n",
       "      <td>1</td>\n",
       "      <td>6</td>\n",
       "      <td>0</td>\n",
       "      <td>1</td>\n",
       "      <td>0.68</td>\n",
       "      <td>0.6364</td>\n",
       "      <td>0.69</td>\n",
       "      <td>0.2537</td>\n",
       "      <td>1</td>\n",
       "      <td>4</td>\n",
       "      <td>5</td>\n",
       "      <td>spring</td>\n",
       "      <td>Clear</td>\n",
       "      <td>1</td>\n",
       "      <td>Night</td>\n",
       "    </tr>\n",
       "  </tbody>\n",
       "</table>\n",
       "</div>"
      ],
      "text/plain": [
       "           dteday  yr  mnth  holiday  workingday  temp   atemp   hum  \\\n",
       "8273   2011-12-16   0    12        0           1  0.36  0.3333  0.46   \n",
       "8393   2011-12-21   0    12        0           1  0.40  0.4091  0.87   \n",
       "1351   2011-03-01   0     3        0           1  0.32  0.3333  0.36   \n",
       "12541  2012-06-11   1     6        0           1  0.80  0.7273  0.43   \n",
       "12862  2012-06-25   1     6        0           1  0.68  0.6364  0.69   \n",
       "\n",
       "       windspeed  casual  registered  cnt season_tr weathersit_tr  weekday_tr  \\\n",
       "8273      0.3881       8         235  243      fall         Clear           1   \n",
       "8393      0.2239      14         220  234    winter          Mist           1   \n",
       "1351      0.1343      18          61   79    winter         Clear           1   \n",
       "12541     0.2985     105         726  831    summer          Mist           1   \n",
       "12862     0.2537       1           4    5    spring         Clear           1   \n",
       "\n",
       "      hour_of_day_tr  \n",
       "8273         Morning  \n",
       "8393         Morning  \n",
       "1351       Afternoon  \n",
       "12541        Evening  \n",
       "12862          Night  "
      ]
     },
     "execution_count": 20,
     "metadata": {},
     "output_type": "execute_result"
    }
   ],
   "source": [
    "col_trans = dataset_transformer(drop_originals = 1)\n",
    "train_hour_tr = col_trans.transform(train_hour)\n",
    "train_hour_tr.head()"
   ]
  },
  {
   "cell_type": "markdown",
   "metadata": {
    "execution": {
     "iopub.execute_input": "2021-08-21T19:31:49.832401Z",
     "iopub.status.busy": "2021-08-21T19:31:49.832014Z",
     "iopub.status.idle": "2021-08-21T19:31:49.852566Z",
     "shell.execute_reply": "2021-08-21T19:31:49.851472Z",
     "shell.execute_reply.started": "2021-08-21T19:31:49.832369Z"
    }
   },
   "source": [
    "## EDA"
   ]
  },
  {
   "cell_type": "code",
   "execution_count": 21,
   "metadata": {
    "execution": {
     "iopub.execute_input": "2021-09-08T20:18:16.049633Z",
     "iopub.status.busy": "2021-09-08T20:18:16.049306Z",
     "iopub.status.idle": "2021-09-08T20:18:16.098441Z",
     "shell.execute_reply": "2021-09-08T20:18:16.097376Z",
     "shell.execute_reply.started": "2021-09-08T20:18:16.049602Z"
    }
   },
   "outputs": [
    {
     "data": {
      "text/html": [
       "<div>\n",
       "<style scoped>\n",
       "    .dataframe tbody tr th:only-of-type {\n",
       "        vertical-align: middle;\n",
       "    }\n",
       "\n",
       "    .dataframe tbody tr th {\n",
       "        vertical-align: top;\n",
       "    }\n",
       "\n",
       "    .dataframe thead th {\n",
       "        text-align: right;\n",
       "    }\n",
       "</style>\n",
       "<table border=\"1\" class=\"dataframe\">\n",
       "  <thead>\n",
       "    <tr style=\"text-align: right;\">\n",
       "      <th>weekday_tr</th>\n",
       "      <th>0</th>\n",
       "      <th>1</th>\n",
       "    </tr>\n",
       "    <tr>\n",
       "      <th>holiday</th>\n",
       "      <th></th>\n",
       "      <th></th>\n",
       "    </tr>\n",
       "  </thead>\n",
       "  <tbody>\n",
       "    <tr>\n",
       "      <th>0</th>\n",
       "      <td>4027</td>\n",
       "      <td>9464</td>\n",
       "    </tr>\n",
       "    <tr>\n",
       "      <th>1</th>\n",
       "      <td>0</td>\n",
       "      <td>412</td>\n",
       "    </tr>\n",
       "  </tbody>\n",
       "</table>\n",
       "</div>"
      ],
      "text/plain": [
       "weekday_tr     0     1\n",
       "holiday               \n",
       "0           4027  9464\n",
       "1              0   412"
      ]
     },
     "execution_count": 21,
     "metadata": {},
     "output_type": "execute_result"
    }
   ],
   "source": [
    "# Check if the holiday represents the weekdays and weekends \n",
    "pd.crosstab(train_hour_tr[\"holiday\"],train_hour_tr[\"weekday_tr\"])"
   ]
  },
  {
   "cell_type": "markdown",
   "metadata": {},
   "source": [
    "The weekends do not count as holidays. However, there are 412 weekday holidays in the 2 years"
   ]
  },
  {
   "cell_type": "code",
   "execution_count": 22,
   "metadata": {
    "execution": {
     "iopub.execute_input": "2021-09-08T20:18:16.100427Z",
     "iopub.status.busy": "2021-09-08T20:18:16.100025Z",
     "iopub.status.idle": "2021-09-08T20:18:16.435942Z",
     "shell.execute_reply": "2021-09-08T20:18:16.434869Z",
     "shell.execute_reply.started": "2021-09-08T20:18:16.100385Z"
    }
   },
   "outputs": [
    {
     "data": {
      "image/png": "[encoded data removed]",
      "text/plain": [
       "<Figure size 432x288 with 1 Axes>"
      ]
     },
     "metadata": {
      "needs_background": "light"
     },
     "output_type": "display_data"
    }
   ],
   "source": [
    "# Registered count in weekdays and weekends\n",
    "plt.title(\"Registrations on weekdays vs weekends\")\n",
    "ax = sns.barplot(x = \"weekday_tr\", y = \"registered\", data = train_hour_tr)\n",
    "ax.set_xticklabels({'Weekend':0, 'Weekday':1}.keys())\n",
    "plt.show()"
   ]
  },
  {
   "cell_type": "markdown",
   "metadata": {},
   "source": [
    "There are more registrations on the weekdays than on the weekends. One reason could be is may be people rely on bikes for daily workplace commute."
   ]
  },
  {
   "cell_type": "code",
   "execution_count": 23,
   "metadata": {
    "execution": {
     "iopub.execute_input": "2021-09-08T20:18:16.438099Z",
     "iopub.status.busy": "2021-09-08T20:18:16.437672Z",
     "iopub.status.idle": "2021-09-08T20:18:16.957346Z",
     "shell.execute_reply": "2021-09-08T20:18:16.956272Z",
     "shell.execute_reply.started": "2021-09-08T20:18:16.438055Z"
    }
   },
   "outputs": [
    {
     "data": {
      "image/png": "[encoded data removed]",
      "text/plain": [
       "<Figure size 360x360 with 1 Axes>"
      ]
     },
     "metadata": {
      "needs_background": "light"
     },
     "output_type": "display_data"
    }
   ],
   "source": [
    "# We will use MannWhitneyU test to see if the registrations change with the weekday or weekend\n",
    "# Even though MannWhitneyU test does not expect the dependent variable to be normally distributed, let us still go ahead and check if it is normally distributed.\n",
    "sns.displot(data = train_hour_tr, x = \"registered\", hue = \"weekday_tr\", kind = 'kde', legend = False)\n",
    "plt.xlabel(\"Registrations\")\n",
    "plt.legend({\"Weekend\":0, \"Weekday\":1}.keys())\n",
    "plt.show()"
   ]
  },
  {
   "cell_type": "code",
   "execution_count": 24,
   "metadata": {
    "execution": {
     "iopub.execute_input": "2021-09-08T20:18:16.959351Z",
     "iopub.status.busy": "2021-09-08T20:18:16.958933Z",
     "iopub.status.idle": "2021-09-08T20:18:16.987588Z",
     "shell.execute_reply": "2021-09-08T20:18:16.986371Z",
     "shell.execute_reply.started": "2021-09-08T20:18:16.959306Z"
    }
   },
   "outputs": [
    {
     "name": "stdout",
     "output_type": "stream",
     "text": [
      "temp : 0.6706915425920954 ['Normal']\n",
      "atemp : 0.00022011874108668952 ['Skewed']\n",
      "registered : 0.0 ['Skewed']\n",
      "casual : 0.0 ['Skewed']\n",
      "**********************************************\n",
      "temp : 0.008828526626182949\n",
      "atemp : -0.07682598398053479\n",
      "registered : 1.5527844974336837\n",
      "casual : 2.538369552597277\n"
     ]
    }
   ],
   "source": [
    "# CHecking for Skewness of values\n",
    "from scipy.stats import skewtest, skew\n",
    "for i in train_hour_tr[[\"temp\", \"atemp\", \"registered\", \"casual\"]].columns:\n",
    "    print(i,':', skewtest(train_hour_tr[i]).pvalue, ['Skewed' if skewtest(train_hour_tr[i]).pvalue <= 0.05 else 'Normal'])\n",
    "print(\"**********************************************\")\n",
    "for i in train_hour_tr[[\"temp\", \"atemp\", \"registered\", \"casual\"]].columns:\n",
    "    print(i,':', skew(train_hour_tr[i]))\n",
    "    \n",
    "# H0 - This function tests the null hypothesis that the skewness of the population that the sample was drawn from is the same as that of a corresponding normal distribution."
   ]
  },
  {
   "cell_type": "markdown",
   "metadata": {
    "execution": {
     "iopub.execute_input": "2021-08-22T14:12:50.052097Z",
     "iopub.status.busy": "2021-08-22T14:12:50.051556Z",
     "iopub.status.idle": "2021-08-22T14:12:50.056567Z",
     "shell.execute_reply": "2021-08-22T14:12:50.055533Z",
     "shell.execute_reply.started": "2021-08-22T14:12:50.05204Z"
    }
   },
   "source": [
    "**The registered count is not normally distributed, as confirmed by skewtest**"
   ]
  },
  {
   "cell_type": "markdown",
   "metadata": {},
   "source": [
    "Data is not normally distributed. So, let us transform the data."
   ]
  },
  {
   "cell_type": "code",
   "execution_count": 25,
   "metadata": {
    "execution": {
     "iopub.execute_input": "2021-09-08T20:18:16.989090Z",
     "iopub.status.busy": "2021-09-08T20:18:16.988783Z",
     "iopub.status.idle": "2021-09-08T20:18:17.004546Z",
     "shell.execute_reply": "2021-09-08T20:18:17.003503Z",
     "shell.execute_reply.started": "2021-09-08T20:18:16.989059Z"
    }
   },
   "outputs": [
    {
     "data": {
      "text/html": [
       "<div>\n",
       "<style scoped>\n",
       "    .dataframe tbody tr th:only-of-type {\n",
       "        vertical-align: middle;\n",
       "    }\n",
       "\n",
       "    .dataframe tbody tr th {\n",
       "        vertical-align: top;\n",
       "    }\n",
       "\n",
       "    .dataframe thead th {\n",
       "        text-align: right;\n",
       "    }\n",
       "</style>\n",
       "<table border=\"1\" class=\"dataframe\">\n",
       "  <thead>\n",
       "    <tr style=\"text-align: right;\">\n",
       "      <th></th>\n",
       "      <th>registered</th>\n",
       "      <th>registered_norm</th>\n",
       "    </tr>\n",
       "  </thead>\n",
       "  <tbody>\n",
       "    <tr>\n",
       "      <th>8273</th>\n",
       "      <td>235</td>\n",
       "      <td>15.329710</td>\n",
       "    </tr>\n",
       "    <tr>\n",
       "      <th>8393</th>\n",
       "      <td>220</td>\n",
       "      <td>14.832397</td>\n",
       "    </tr>\n",
       "    <tr>\n",
       "      <th>1351</th>\n",
       "      <td>61</td>\n",
       "      <td>7.810250</td>\n",
       "    </tr>\n",
       "    <tr>\n",
       "      <th>12541</th>\n",
       "      <td>726</td>\n",
       "      <td>26.944387</td>\n",
       "    </tr>\n",
       "    <tr>\n",
       "      <th>12862</th>\n",
       "      <td>4</td>\n",
       "      <td>2.000000</td>\n",
       "    </tr>\n",
       "    <tr>\n",
       "      <th>...</th>\n",
       "      <td>...</td>\n",
       "      <td>...</td>\n",
       "    </tr>\n",
       "    <tr>\n",
       "      <th>9475</th>\n",
       "      <td>54</td>\n",
       "      <td>7.348469</td>\n",
       "    </tr>\n",
       "    <tr>\n",
       "      <th>3714</th>\n",
       "      <td>199</td>\n",
       "      <td>14.106736</td>\n",
       "    </tr>\n",
       "    <tr>\n",
       "      <th>7409</th>\n",
       "      <td>418</td>\n",
       "      <td>20.445048</td>\n",
       "    </tr>\n",
       "    <tr>\n",
       "      <th>5787</th>\n",
       "      <td>176</td>\n",
       "      <td>13.266499</td>\n",
       "    </tr>\n",
       "    <tr>\n",
       "      <th>14155</th>\n",
       "      <td>99</td>\n",
       "      <td>9.949874</td>\n",
       "    </tr>\n",
       "  </tbody>\n",
       "</table>\n",
       "<p>13903 rows × 2 columns</p>\n",
       "</div>"
      ],
      "text/plain": [
       "       registered  registered_norm\n",
       "8273          235        15.329710\n",
       "8393          220        14.832397\n",
       "1351           61         7.810250\n",
       "12541         726        26.944387\n",
       "12862           4         2.000000\n",
       "...           ...              ...\n",
       "9475           54         7.348469\n",
       "3714          199        14.106736\n",
       "7409          418        20.445048\n",
       "5787          176        13.266499\n",
       "14155          99         9.949874\n",
       "\n",
       "[13903 rows x 2 columns]"
      ]
     },
     "execution_count": 25,
     "metadata": {},
     "output_type": "execute_result"
    }
   ],
   "source": [
    "hour_df = train_hour_tr[[\"registered\"]].copy()\n",
    "hour_df[\"registered_norm\"] = np.sqrt(hour_df[\"registered\"])\n",
    "hour_df"
   ]
  },
  {
   "cell_type": "code",
   "execution_count": 26,
   "metadata": {
    "execution": {
     "iopub.execute_input": "2021-09-08T20:18:17.006120Z",
     "iopub.status.busy": "2021-09-08T20:18:17.005819Z",
     "iopub.status.idle": "2021-09-08T20:18:17.471699Z",
     "shell.execute_reply": "2021-09-08T20:18:17.470591Z",
     "shell.execute_reply.started": "2021-09-08T20:18:17.006092Z"
    }
   },
   "outputs": [
    {
     "data": {
      "image/png": "[encoded data removed]",
      "text/plain": [
       "<Figure size 360x360 with 1 Axes>"
      ]
     },
     "metadata": {
      "needs_background": "light"
     },
     "output_type": "display_data"
    }
   ],
   "source": [
    "sns.displot(data = hour_df, x = \"registered_norm\", kind = \"kde\")\n",
    "plt.show()"
   ]
  },
  {
   "cell_type": "code",
   "execution_count": 27,
   "metadata": {
    "execution": {
     "iopub.execute_input": "2021-09-08T20:18:17.473536Z",
     "iopub.status.busy": "2021-09-08T20:18:17.473129Z",
     "iopub.status.idle": "2021-09-08T20:18:17.509476Z",
     "shell.execute_reply": "2021-09-08T20:18:17.508730Z",
     "shell.execute_reply.started": "2021-09-08T20:18:17.473494Z"
    }
   },
   "outputs": [
    {
     "data": {
      "text/html": [
       "<div>\n",
       "<style scoped>\n",
       "    .dataframe tbody tr th:only-of-type {\n",
       "        vertical-align: middle;\n",
       "    }\n",
       "\n",
       "    .dataframe tbody tr th {\n",
       "        vertical-align: top;\n",
       "    }\n",
       "\n",
       "    .dataframe thead th {\n",
       "        text-align: right;\n",
       "    }\n",
       "</style>\n",
       "<table border=\"1\" class=\"dataframe\">\n",
       "  <thead>\n",
       "    <tr style=\"text-align: right;\">\n",
       "      <th></th>\n",
       "      <th>dteday</th>\n",
       "      <th>yr</th>\n",
       "      <th>mnth</th>\n",
       "      <th>holiday</th>\n",
       "      <th>workingday</th>\n",
       "      <th>temp</th>\n",
       "      <th>atemp</th>\n",
       "      <th>hum</th>\n",
       "      <th>windspeed</th>\n",
       "      <th>casual</th>\n",
       "      <th>registered</th>\n",
       "      <th>cnt</th>\n",
       "      <th>season_tr</th>\n",
       "      <th>weathersit_tr</th>\n",
       "      <th>weekday_tr</th>\n",
       "      <th>hour_of_day_tr</th>\n",
       "      <th>registered_norm</th>\n",
       "    </tr>\n",
       "  </thead>\n",
       "  <tbody>\n",
       "    <tr>\n",
       "      <th>8273</th>\n",
       "      <td>2011-12-16</td>\n",
       "      <td>0</td>\n",
       "      <td>12</td>\n",
       "      <td>0</td>\n",
       "      <td>1</td>\n",
       "      <td>0.36</td>\n",
       "      <td>0.3333</td>\n",
       "      <td>0.46</td>\n",
       "      <td>0.3881</td>\n",
       "      <td>8</td>\n",
       "      <td>235</td>\n",
       "      <td>243</td>\n",
       "      <td>fall</td>\n",
       "      <td>Clear</td>\n",
       "      <td>1</td>\n",
       "      <td>Morning</td>\n",
       "      <td>15.329710</td>\n",
       "    </tr>\n",
       "    <tr>\n",
       "      <th>8393</th>\n",
       "      <td>2011-12-21</td>\n",
       "      <td>0</td>\n",
       "      <td>12</td>\n",
       "      <td>0</td>\n",
       "      <td>1</td>\n",
       "      <td>0.40</td>\n",
       "      <td>0.4091</td>\n",
       "      <td>0.87</td>\n",
       "      <td>0.2239</td>\n",
       "      <td>14</td>\n",
       "      <td>220</td>\n",
       "      <td>234</td>\n",
       "      <td>winter</td>\n",
       "      <td>Mist</td>\n",
       "      <td>1</td>\n",
       "      <td>Morning</td>\n",
       "      <td>14.832397</td>\n",
       "    </tr>\n",
       "    <tr>\n",
       "      <th>1351</th>\n",
       "      <td>2011-03-01</td>\n",
       "      <td>0</td>\n",
       "      <td>3</td>\n",
       "      <td>0</td>\n",
       "      <td>1</td>\n",
       "      <td>0.32</td>\n",
       "      <td>0.3333</td>\n",
       "      <td>0.36</td>\n",
       "      <td>0.1343</td>\n",
       "      <td>18</td>\n",
       "      <td>61</td>\n",
       "      <td>79</td>\n",
       "      <td>winter</td>\n",
       "      <td>Clear</td>\n",
       "      <td>1</td>\n",
       "      <td>Afternoon</td>\n",
       "      <td>7.810250</td>\n",
       "    </tr>\n",
       "    <tr>\n",
       "      <th>12541</th>\n",
       "      <td>2012-06-11</td>\n",
       "      <td>1</td>\n",
       "      <td>6</td>\n",
       "      <td>0</td>\n",
       "      <td>1</td>\n",
       "      <td>0.80</td>\n",
       "      <td>0.7273</td>\n",
       "      <td>0.43</td>\n",
       "      <td>0.2985</td>\n",
       "      <td>105</td>\n",
       "      <td>726</td>\n",
       "      <td>831</td>\n",
       "      <td>summer</td>\n",
       "      <td>Mist</td>\n",
       "      <td>1</td>\n",
       "      <td>Evening</td>\n",
       "      <td>26.944387</td>\n",
       "    </tr>\n",
       "    <tr>\n",
       "      <th>12862</th>\n",
       "      <td>2012-06-25</td>\n",
       "      <td>1</td>\n",
       "      <td>6</td>\n",
       "      <td>0</td>\n",
       "      <td>1</td>\n",
       "      <td>0.68</td>\n",
       "      <td>0.6364</td>\n",
       "      <td>0.69</td>\n",
       "      <td>0.2537</td>\n",
       "      <td>1</td>\n",
       "      <td>4</td>\n",
       "      <td>5</td>\n",
       "      <td>spring</td>\n",
       "      <td>Clear</td>\n",
       "      <td>1</td>\n",
       "      <td>Night</td>\n",
       "      <td>2.000000</td>\n",
       "    </tr>\n",
       "    <tr>\n",
       "      <th>...</th>\n",
       "      <td>...</td>\n",
       "      <td>...</td>\n",
       "      <td>...</td>\n",
       "      <td>...</td>\n",
       "      <td>...</td>\n",
       "      <td>...</td>\n",
       "      <td>...</td>\n",
       "      <td>...</td>\n",
       "      <td>...</td>\n",
       "      <td>...</td>\n",
       "      <td>...</td>\n",
       "      <td>...</td>\n",
       "      <td>...</td>\n",
       "      <td>...</td>\n",
       "      <td>...</td>\n",
       "      <td>...</td>\n",
       "      <td>...</td>\n",
       "    </tr>\n",
       "    <tr>\n",
       "      <th>9475</th>\n",
       "      <td>2012-02-04</td>\n",
       "      <td>1</td>\n",
       "      <td>2</td>\n",
       "      <td>0</td>\n",
       "      <td>0</td>\n",
       "      <td>0.30</td>\n",
       "      <td>0.2879</td>\n",
       "      <td>0.70</td>\n",
       "      <td>0.1940</td>\n",
       "      <td>13</td>\n",
       "      <td>54</td>\n",
       "      <td>67</td>\n",
       "      <td>winter</td>\n",
       "      <td>Light_Snow</td>\n",
       "      <td>0</td>\n",
       "      <td>Evening</td>\n",
       "      <td>7.348469</td>\n",
       "    </tr>\n",
       "    <tr>\n",
       "      <th>3714</th>\n",
       "      <td>2011-06-08</td>\n",
       "      <td>0</td>\n",
       "      <td>6</td>\n",
       "      <td>0</td>\n",
       "      <td>1</td>\n",
       "      <td>0.92</td>\n",
       "      <td>0.8788</td>\n",
       "      <td>0.40</td>\n",
       "      <td>0.2239</td>\n",
       "      <td>34</td>\n",
       "      <td>199</td>\n",
       "      <td>233</td>\n",
       "      <td>summer</td>\n",
       "      <td>Clear</td>\n",
       "      <td>1</td>\n",
       "      <td>Afternoon</td>\n",
       "      <td>14.106736</td>\n",
       "    </tr>\n",
       "    <tr>\n",
       "      <th>7409</th>\n",
       "      <td>2011-11-10</td>\n",
       "      <td>0</td>\n",
       "      <td>11</td>\n",
       "      <td>0</td>\n",
       "      <td>1</td>\n",
       "      <td>0.40</td>\n",
       "      <td>0.4091</td>\n",
       "      <td>0.94</td>\n",
       "      <td>0.0896</td>\n",
       "      <td>18</td>\n",
       "      <td>418</td>\n",
       "      <td>436</td>\n",
       "      <td>fall</td>\n",
       "      <td>Mist</td>\n",
       "      <td>1</td>\n",
       "      <td>Morning</td>\n",
       "      <td>20.445048</td>\n",
       "    </tr>\n",
       "    <tr>\n",
       "      <th>5787</th>\n",
       "      <td>2011-09-03</td>\n",
       "      <td>0</td>\n",
       "      <td>9</td>\n",
       "      <td>0</td>\n",
       "      <td>0</td>\n",
       "      <td>0.72</td>\n",
       "      <td>0.6818</td>\n",
       "      <td>0.66</td>\n",
       "      <td>0.1642</td>\n",
       "      <td>204</td>\n",
       "      <td>176</td>\n",
       "      <td>380</td>\n",
       "      <td>spring</td>\n",
       "      <td>Mist</td>\n",
       "      <td>0</td>\n",
       "      <td>Afternoon</td>\n",
       "      <td>13.266499</td>\n",
       "    </tr>\n",
       "    <tr>\n",
       "      <th>14155</th>\n",
       "      <td>2012-08-18</td>\n",
       "      <td>1</td>\n",
       "      <td>8</td>\n",
       "      <td>0</td>\n",
       "      <td>0</td>\n",
       "      <td>0.64</td>\n",
       "      <td>0.5758</td>\n",
       "      <td>0.83</td>\n",
       "      <td>0.2239</td>\n",
       "      <td>6</td>\n",
       "      <td>99</td>\n",
       "      <td>105</td>\n",
       "      <td>spring</td>\n",
       "      <td>Mist</td>\n",
       "      <td>0</td>\n",
       "      <td>Night</td>\n",
       "      <td>9.949874</td>\n",
       "    </tr>\n",
       "  </tbody>\n",
       "</table>\n",
       "<p>13903 rows × 17 columns</p>\n",
       "</div>"
      ],
      "text/plain": [
       "           dteday  yr  mnth  holiday  workingday  temp   atemp   hum  \\\n",
       "8273   2011-12-16   0    12        0           1  0.36  0.3333  0.46   \n",
       "8393   2011-12-21   0    12        0           1  0.40  0.4091  0.87   \n",
       "1351   2011-03-01   0     3        0           1  0.32  0.3333  0.36   \n",
       "12541  2012-06-11   1     6        0           1  0.80  0.7273  0.43   \n",
       "12862  2012-06-25   1     6        0           1  0.68  0.6364  0.69   \n",
       "...           ...  ..   ...      ...         ...   ...     ...   ...   \n",
       "9475   2012-02-04   1     2        0           0  0.30  0.2879  0.70   \n",
       "3714   2011-06-08   0     6        0           1  0.92  0.8788  0.40   \n",
       "7409   2011-11-10   0    11        0           1  0.40  0.4091  0.94   \n",
       "5787   2011-09-03   0     9        0           0  0.72  0.6818  0.66   \n",
       "14155  2012-08-18   1     8        0           0  0.64  0.5758  0.83   \n",
       "\n",
       "       windspeed  casual  registered  cnt season_tr weathersit_tr  weekday_tr  \\\n",
       "8273      0.3881       8         235  243      fall         Clear           1   \n",
       "8393      0.2239      14         220  234    winter          Mist           1   \n",
       "1351      0.1343      18          61   79    winter         Clear           1   \n",
       "12541     0.2985     105         726  831    summer          Mist           1   \n",
       "12862     0.2537       1           4    5    spring         Clear           1   \n",
       "...          ...     ...         ...  ...       ...           ...         ...   \n",
       "9475      0.1940      13          54   67    winter    Light_Snow           0   \n",
       "3714      0.2239      34         199  233    summer         Clear           1   \n",
       "7409      0.0896      18         418  436      fall          Mist           1   \n",
       "5787      0.1642     204         176  380    spring          Mist           0   \n",
       "14155     0.2239       6          99  105    spring          Mist           0   \n",
       "\n",
       "      hour_of_day_tr  registered_norm  \n",
       "8273         Morning        15.329710  \n",
       "8393         Morning        14.832397  \n",
       "1351       Afternoon         7.810250  \n",
       "12541        Evening        26.944387  \n",
       "12862          Night         2.000000  \n",
       "...              ...              ...  \n",
       "9475         Evening         7.348469  \n",
       "3714       Afternoon        14.106736  \n",
       "7409         Morning        20.445048  \n",
       "5787       Afternoon        13.266499  \n",
       "14155          Night         9.949874  \n",
       "\n",
       "[13903 rows x 17 columns]"
      ]
     },
     "execution_count": 27,
     "metadata": {},
     "output_type": "execute_result"
    }
   ],
   "source": [
    "train_hour_tr[\"registered_norm\"] = hour_df[\"registered_norm\"].copy()\n",
    "train_hour_tr"
   ]
  },
  {
   "cell_type": "code",
   "execution_count": 28,
   "metadata": {
    "execution": {
     "iopub.execute_input": "2021-09-08T20:18:17.510963Z",
     "iopub.status.busy": "2021-09-08T20:18:17.510547Z",
     "iopub.status.idle": "2021-09-08T20:18:17.875593Z",
     "shell.execute_reply": "2021-09-08T20:18:17.874840Z",
     "shell.execute_reply.started": "2021-09-08T20:18:17.510933Z"
    }
   },
   "outputs": [
    {
     "data": {
      "image/png": "[encoded data removed]",
      "text/plain": [
       "<Figure size 360x360 with 1 Axes>"
      ]
     },
     "metadata": {
      "needs_background": "light"
     },
     "output_type": "display_data"
    }
   ],
   "source": [
    "sns.displot(data = train_hour_tr, x = \"registered_norm\", hue = \"weekday_tr\", kind = 'kde', legend = False)\n",
    "plt.xlabel(\"Registrations\")\n",
    "plt.legend({\"Weekend\":0, \"Weekday\":1}.keys())\n",
    "plt.show()"
   ]
  },
  {
   "cell_type": "markdown",
   "metadata": {},
   "source": [
    "***Even though the dependent variable is not normally distributued, the Mann-whitneyU test does not require the target to be normally ditributed.***"
   ]
  },
  {
   "cell_type": "markdown",
   "metadata": {},
   "source": [
    "### Testing for hypothesis, does the registered counts change with weekdays"
   ]
  },
  {
   "cell_type": "code",
   "execution_count": 29,
   "metadata": {
    "execution": {
     "iopub.execute_input": "2021-09-08T20:18:17.877122Z",
     "iopub.status.busy": "2021-09-08T20:18:17.876851Z",
     "iopub.status.idle": "2021-09-08T20:18:17.891084Z",
     "shell.execute_reply": "2021-09-08T20:18:17.890129Z",
     "shell.execute_reply.started": "2021-09-08T20:18:17.877096Z"
    }
   },
   "outputs": [
    {
     "name": "stdout",
     "output_type": "stream",
     "text": [
      "p-value of test is 0.0000. Hence, the null hypo is rejected.\n"
     ]
    }
   ],
   "source": [
    "from scipy.stats import mannwhitneyu\n",
    "_, pval = mannwhitneyu(train_hour_tr[train_hour_tr.weekday_tr == 0][\"registered\"], train_hour_tr[train_hour_tr.weekday_tr == 1][\"registered\"])\n",
    "print(\"p-value of test is %.4f. Hence, the null hypo is %s.\" %(pval, 'rejected' if pval <=0.05 else 'not rejected'))\n",
    "#The Mann-Whitney U test is a nonparametric test of the null hypothesis that the distribution underlying sample x is the same as the distribution underlying sample y. It is often used as a test of of difference in location between distributions."
   ]
  },
  {
   "cell_type": "markdown",
   "metadata": {
    "execution": {
     "iopub.status.busy": "2021-08-22T15:24:15.644681Z",
     "iopub.status.idle": "2021-08-22T15:24:15.645125Z"
    }
   },
   "source": [
    "Hence, there is indeed a difference in the registered counts between weekdays and weekends"
   ]
  },
  {
   "cell_type": "code",
   "execution_count": 30,
   "metadata": {
    "execution": {
     "iopub.execute_input": "2021-09-08T20:18:17.892392Z",
     "iopub.status.busy": "2021-09-08T20:18:17.892118Z",
     "iopub.status.idle": "2021-09-08T20:18:17.917809Z",
     "shell.execute_reply": "2021-09-08T20:18:17.916811Z",
     "shell.execute_reply.started": "2021-09-08T20:18:17.892365Z"
    }
   },
   "outputs": [
    {
     "data": {
      "text/html": [
       "<div>\n",
       "<style scoped>\n",
       "    .dataframe tbody tr th:only-of-type {\n",
       "        vertical-align: middle;\n",
       "    }\n",
       "\n",
       "    .dataframe tbody tr th {\n",
       "        vertical-align: top;\n",
       "    }\n",
       "\n",
       "    .dataframe thead th {\n",
       "        text-align: right;\n",
       "    }\n",
       "</style>\n",
       "<table border=\"1\" class=\"dataframe\">\n",
       "  <thead>\n",
       "    <tr style=\"text-align: right;\">\n",
       "      <th></th>\n",
       "      <th>dteday</th>\n",
       "      <th>yr</th>\n",
       "      <th>mnth</th>\n",
       "      <th>holiday</th>\n",
       "      <th>workingday</th>\n",
       "      <th>temp</th>\n",
       "      <th>atemp</th>\n",
       "      <th>hum</th>\n",
       "      <th>windspeed</th>\n",
       "      <th>casual</th>\n",
       "      <th>registered</th>\n",
       "      <th>cnt</th>\n",
       "      <th>season_tr</th>\n",
       "      <th>weathersit_tr</th>\n",
       "      <th>weekday_tr</th>\n",
       "      <th>hour_of_day_tr</th>\n",
       "      <th>registered_norm</th>\n",
       "    </tr>\n",
       "  </thead>\n",
       "  <tbody>\n",
       "    <tr>\n",
       "      <th>8273</th>\n",
       "      <td>2011-12-16</td>\n",
       "      <td>0</td>\n",
       "      <td>12</td>\n",
       "      <td>0</td>\n",
       "      <td>1</td>\n",
       "      <td>0.36</td>\n",
       "      <td>0.3333</td>\n",
       "      <td>0.46</td>\n",
       "      <td>0.3881</td>\n",
       "      <td>8</td>\n",
       "      <td>235</td>\n",
       "      <td>243</td>\n",
       "      <td>fall</td>\n",
       "      <td>Clear</td>\n",
       "      <td>1</td>\n",
       "      <td>Morning</td>\n",
       "      <td>15.329710</td>\n",
       "    </tr>\n",
       "    <tr>\n",
       "      <th>8393</th>\n",
       "      <td>2011-12-21</td>\n",
       "      <td>0</td>\n",
       "      <td>12</td>\n",
       "      <td>0</td>\n",
       "      <td>1</td>\n",
       "      <td>0.40</td>\n",
       "      <td>0.4091</td>\n",
       "      <td>0.87</td>\n",
       "      <td>0.2239</td>\n",
       "      <td>14</td>\n",
       "      <td>220</td>\n",
       "      <td>234</td>\n",
       "      <td>winter</td>\n",
       "      <td>Mist</td>\n",
       "      <td>1</td>\n",
       "      <td>Morning</td>\n",
       "      <td>14.832397</td>\n",
       "    </tr>\n",
       "    <tr>\n",
       "      <th>1351</th>\n",
       "      <td>2011-03-01</td>\n",
       "      <td>0</td>\n",
       "      <td>3</td>\n",
       "      <td>0</td>\n",
       "      <td>1</td>\n",
       "      <td>0.32</td>\n",
       "      <td>0.3333</td>\n",
       "      <td>0.36</td>\n",
       "      <td>0.1343</td>\n",
       "      <td>18</td>\n",
       "      <td>61</td>\n",
       "      <td>79</td>\n",
       "      <td>winter</td>\n",
       "      <td>Clear</td>\n",
       "      <td>1</td>\n",
       "      <td>Afternoon</td>\n",
       "      <td>7.810250</td>\n",
       "    </tr>\n",
       "    <tr>\n",
       "      <th>12541</th>\n",
       "      <td>2012-06-11</td>\n",
       "      <td>1</td>\n",
       "      <td>6</td>\n",
       "      <td>0</td>\n",
       "      <td>1</td>\n",
       "      <td>0.80</td>\n",
       "      <td>0.7273</td>\n",
       "      <td>0.43</td>\n",
       "      <td>0.2985</td>\n",
       "      <td>105</td>\n",
       "      <td>726</td>\n",
       "      <td>831</td>\n",
       "      <td>summer</td>\n",
       "      <td>Mist</td>\n",
       "      <td>1</td>\n",
       "      <td>Evening</td>\n",
       "      <td>26.944387</td>\n",
       "    </tr>\n",
       "    <tr>\n",
       "      <th>12862</th>\n",
       "      <td>2012-06-25</td>\n",
       "      <td>1</td>\n",
       "      <td>6</td>\n",
       "      <td>0</td>\n",
       "      <td>1</td>\n",
       "      <td>0.68</td>\n",
       "      <td>0.6364</td>\n",
       "      <td>0.69</td>\n",
       "      <td>0.2537</td>\n",
       "      <td>1</td>\n",
       "      <td>4</td>\n",
       "      <td>5</td>\n",
       "      <td>spring</td>\n",
       "      <td>Clear</td>\n",
       "      <td>1</td>\n",
       "      <td>Night</td>\n",
       "      <td>2.000000</td>\n",
       "    </tr>\n",
       "  </tbody>\n",
       "</table>\n",
       "</div>"
      ],
      "text/plain": [
       "           dteday  yr  mnth  holiday  workingday  temp   atemp   hum  \\\n",
       "8273   2011-12-16   0    12        0           1  0.36  0.3333  0.46   \n",
       "8393   2011-12-21   0    12        0           1  0.40  0.4091  0.87   \n",
       "1351   2011-03-01   0     3        0           1  0.32  0.3333  0.36   \n",
       "12541  2012-06-11   1     6        0           1  0.80  0.7273  0.43   \n",
       "12862  2012-06-25   1     6        0           1  0.68  0.6364  0.69   \n",
       "\n",
       "       windspeed  casual  registered  cnt season_tr weathersit_tr  weekday_tr  \\\n",
       "8273      0.3881       8         235  243      fall         Clear           1   \n",
       "8393      0.2239      14         220  234    winter          Mist           1   \n",
       "1351      0.1343      18          61   79    winter         Clear           1   \n",
       "12541     0.2985     105         726  831    summer          Mist           1   \n",
       "12862     0.2537       1           4    5    spring         Clear           1   \n",
       "\n",
       "      hour_of_day_tr  registered_norm  \n",
       "8273         Morning        15.329710  \n",
       "8393         Morning        14.832397  \n",
       "1351       Afternoon         7.810250  \n",
       "12541        Evening        26.944387  \n",
       "12862          Night         2.000000  "
      ]
     },
     "execution_count": 30,
     "metadata": {},
     "output_type": "execute_result"
    }
   ],
   "source": [
    "train_hour_tr.head()"
   ]
  },
  {
   "cell_type": "markdown",
   "metadata": {
    "execution": {
     "iopub.execute_input": "2021-08-22T18:11:57.110052Z",
     "iopub.status.busy": "2021-08-22T18:11:57.109684Z",
     "iopub.status.idle": "2021-08-22T18:11:57.18491Z",
     "shell.execute_reply": "2021-08-22T18:11:57.18247Z",
     "shell.execute_reply.started": "2021-08-22T18:11:57.110024Z"
    }
   },
   "source": [
    "#### Holidays vs Registrations"
   ]
  },
  {
   "cell_type": "code",
   "execution_count": 31,
   "metadata": {
    "execution": {
     "iopub.execute_input": "2021-09-08T20:18:17.919242Z",
     "iopub.status.busy": "2021-09-08T20:18:17.918975Z",
     "iopub.status.idle": "2021-09-08T20:18:18.319661Z",
     "shell.execute_reply": "2021-09-08T20:18:18.318692Z",
     "shell.execute_reply.started": "2021-09-08T20:18:17.919216Z"
    }
   },
   "outputs": [
    {
     "data": {
      "image/png": "[encoded data removed]",
      "text/plain": [
       "<Figure size 432x288 with 1 Axes>"
      ]
     },
     "metadata": {
      "needs_background": "light"
     },
     "output_type": "display_data"
    }
   ],
   "source": [
    "sns.barplot(data = train_hour_tr, x = \"holiday\", y = 'registered', hue = 'workingday')\n",
    "plt.show()"
   ]
  },
  {
   "cell_type": "code",
   "execution_count": 32,
   "metadata": {
    "execution": {
     "iopub.execute_input": "2021-09-08T20:18:18.321197Z",
     "iopub.status.busy": "2021-09-08T20:18:18.320919Z",
     "iopub.status.idle": "2021-09-08T20:18:18.332900Z",
     "shell.execute_reply": "2021-09-08T20:18:18.332052Z",
     "shell.execute_reply.started": "2021-09-08T20:18:18.321170Z"
    }
   },
   "outputs": [
    {
     "data": {
      "text/plain": [
       "holiday  workingday  weekday_tr\n",
       "0        0           0             4027\n",
       "         1           1             9464\n",
       "1        0           1              412\n",
       "Name: registered, dtype: int64"
      ]
     },
     "execution_count": 32,
     "metadata": {},
     "output_type": "execute_result"
    }
   ],
   "source": [
    "train_hour_tr.groupby(['holiday', 'workingday',\"weekday_tr\"])[\"registered\"].count()"
   ]
  },
  {
   "cell_type": "markdown",
   "metadata": {},
   "source": [
    "The non-holiday days have more bookings. This also provides some evidence that the people mostly rely on the bikes for daily commute to workplace. The Weekday/Weekend relationship with the registrations also signified so."
   ]
  },
  {
   "cell_type": "markdown",
   "metadata": {
    "execution": {
     "iopub.execute_input": "2021-08-22T18:25:51.463021Z",
     "iopub.status.busy": "2021-08-22T18:25:51.462639Z",
     "iopub.status.idle": "2021-08-22T18:25:51.789025Z",
     "shell.execute_reply": "2021-08-22T18:25:51.788083Z",
     "shell.execute_reply.started": "2021-08-22T18:25:51.462981Z"
    }
   },
   "source": [
    "### Registrations by Hour of Day"
   ]
  },
  {
   "cell_type": "code",
   "execution_count": 33,
   "metadata": {
    "execution": {
     "iopub.execute_input": "2021-09-08T20:18:18.334541Z",
     "iopub.status.busy": "2021-09-08T20:18:18.334240Z",
     "iopub.status.idle": "2021-09-08T20:18:19.028006Z",
     "shell.execute_reply": "2021-09-08T20:18:19.026910Z",
     "shell.execute_reply.started": "2021-09-08T20:18:18.334515Z"
    }
   },
   "outputs": [
    {
     "data": {
      "image/png": "[encoded data removed]",
      "text/plain": [
       "<Figure size 432x288 with 1 Axes>"
      ]
     },
     "metadata": {
      "needs_background": "light"
     },
     "output_type": "display_data"
    }
   ],
   "source": [
    "sns.barplot(data = train_hour_tr, x = 'hour_of_day_tr', y = 'registered', hue = 'weekday_tr')\n",
    "plt.title(\"Registrations by Hour of day\")\n",
    "plt.show()"
   ]
  },
  {
   "cell_type": "markdown",
   "metadata": {},
   "source": [
    "* There are more registrations in the evening than anytime in the day. \n",
    "\n",
    "* Night bookings are fewer than the other times in weekdays. However, in weekends, early morning registrations are fewer.\n",
    "\n",
    "* Weekday Evenings are booked more often than the mornings. May be people commute to home/nearby areas (from workplace) during the evenings. \n",
    "\n",
    "* Weekend afternoons also see more registrations than any other time in the weekends."
   ]
  },
  {
   "cell_type": "markdown",
   "metadata": {},
   "source": [
    "### Registrations by temperature"
   ]
  },
  {
   "cell_type": "code",
   "execution_count": 34,
   "metadata": {
    "execution": {
     "iopub.execute_input": "2021-09-08T20:18:19.029538Z",
     "iopub.status.busy": "2021-09-08T20:18:19.029268Z",
     "iopub.status.idle": "2021-09-08T20:18:20.962361Z",
     "shell.execute_reply": "2021-09-08T20:18:20.961649Z",
     "shell.execute_reply.started": "2021-09-08T20:18:19.029513Z"
    }
   },
   "outputs": [
    {
     "data": {
      "image/png": "[encoded data removed]",
      "text/plain": [
       "<Figure size 1440x576 with 2 Axes>"
      ]
     },
     "metadata": {
      "needs_background": "light"
     },
     "output_type": "display_data"
    }
   ],
   "source": [
    "plt.figure(figsize  = (20,8))\n",
    "ax1 = plt.subplot(211)\n",
    "sns.regplot(data = train_hour_tr, x = train_hour_tr['atemp'], y = 'registered', marker = 'o', scatter_kws={'color':'y'},line_kws={'color':'r'})\n",
    "ax2 = plt.subplot(212)\n",
    "sns.scatterplot(data = train_hour_tr, x = train_hour_tr['atemp'], y = 'hour_of_day_tr', hue = train_hour_tr['registered'], size = train_hour_tr['registered'])\n",
    "# plt.title(\"Registration by feeling temperature\")\n",
    "plt.show()"
   ]
  },
  {
   "cell_type": "markdown",
   "metadata": {},
   "source": [
    "We will confirm this relation by checking the correlation coefficient for continuous variables"
   ]
  },
  {
   "cell_type": "markdown",
   "metadata": {},
   "source": [
    "The regplot shows that the registrations will increase as the temperature increases."
   ]
  },
  {
   "cell_type": "code",
   "execution_count": 35,
   "metadata": {
    "execution": {
     "iopub.execute_input": "2021-09-08T20:18:20.963894Z",
     "iopub.status.busy": "2021-09-08T20:18:20.963542Z",
     "iopub.status.idle": "2021-09-08T20:18:20.985207Z",
     "shell.execute_reply": "2021-09-08T20:18:20.984178Z",
     "shell.execute_reply.started": "2021-09-08T20:18:20.963863Z"
    }
   },
   "outputs": [
    {
     "data": {
      "text/html": [
       "<div>\n",
       "<style scoped>\n",
       "    .dataframe tbody tr th:only-of-type {\n",
       "        vertical-align: middle;\n",
       "    }\n",
       "\n",
       "    .dataframe tbody tr th {\n",
       "        vertical-align: top;\n",
       "    }\n",
       "\n",
       "    .dataframe thead th {\n",
       "        text-align: right;\n",
       "    }\n",
       "</style>\n",
       "<table border=\"1\" class=\"dataframe\">\n",
       "  <thead>\n",
       "    <tr style=\"text-align: right;\">\n",
       "      <th></th>\n",
       "      <th>dteday</th>\n",
       "      <th>yr</th>\n",
       "      <th>mnth</th>\n",
       "      <th>holiday</th>\n",
       "      <th>workingday</th>\n",
       "      <th>temp</th>\n",
       "      <th>atemp</th>\n",
       "      <th>hum</th>\n",
       "      <th>windspeed</th>\n",
       "      <th>casual</th>\n",
       "      <th>registered</th>\n",
       "      <th>cnt</th>\n",
       "      <th>season_tr</th>\n",
       "      <th>weathersit_tr</th>\n",
       "      <th>weekday_tr</th>\n",
       "      <th>hour_of_day_tr</th>\n",
       "      <th>registered_norm</th>\n",
       "    </tr>\n",
       "  </thead>\n",
       "  <tbody>\n",
       "    <tr>\n",
       "      <th>8273</th>\n",
       "      <td>2011-12-16</td>\n",
       "      <td>0</td>\n",
       "      <td>12</td>\n",
       "      <td>0</td>\n",
       "      <td>1</td>\n",
       "      <td>0.36</td>\n",
       "      <td>0.3333</td>\n",
       "      <td>0.46</td>\n",
       "      <td>0.3881</td>\n",
       "      <td>8</td>\n",
       "      <td>235</td>\n",
       "      <td>243</td>\n",
       "      <td>fall</td>\n",
       "      <td>Clear</td>\n",
       "      <td>1</td>\n",
       "      <td>Morning</td>\n",
       "      <td>15.329710</td>\n",
       "    </tr>\n",
       "    <tr>\n",
       "      <th>8393</th>\n",
       "      <td>2011-12-21</td>\n",
       "      <td>0</td>\n",
       "      <td>12</td>\n",
       "      <td>0</td>\n",
       "      <td>1</td>\n",
       "      <td>0.40</td>\n",
       "      <td>0.4091</td>\n",
       "      <td>0.87</td>\n",
       "      <td>0.2239</td>\n",
       "      <td>14</td>\n",
       "      <td>220</td>\n",
       "      <td>234</td>\n",
       "      <td>winter</td>\n",
       "      <td>Mist</td>\n",
       "      <td>1</td>\n",
       "      <td>Morning</td>\n",
       "      <td>14.832397</td>\n",
       "    </tr>\n",
       "    <tr>\n",
       "      <th>1351</th>\n",
       "      <td>2011-03-01</td>\n",
       "      <td>0</td>\n",
       "      <td>3</td>\n",
       "      <td>0</td>\n",
       "      <td>1</td>\n",
       "      <td>0.32</td>\n",
       "      <td>0.3333</td>\n",
       "      <td>0.36</td>\n",
       "      <td>0.1343</td>\n",
       "      <td>18</td>\n",
       "      <td>61</td>\n",
       "      <td>79</td>\n",
       "      <td>winter</td>\n",
       "      <td>Clear</td>\n",
       "      <td>1</td>\n",
       "      <td>Afternoon</td>\n",
       "      <td>7.810250</td>\n",
       "    </tr>\n",
       "    <tr>\n",
       "      <th>12541</th>\n",
       "      <td>2012-06-11</td>\n",
       "      <td>1</td>\n",
       "      <td>6</td>\n",
       "      <td>0</td>\n",
       "      <td>1</td>\n",
       "      <td>0.80</td>\n",
       "      <td>0.7273</td>\n",
       "      <td>0.43</td>\n",
       "      <td>0.2985</td>\n",
       "      <td>105</td>\n",
       "      <td>726</td>\n",
       "      <td>831</td>\n",
       "      <td>summer</td>\n",
       "      <td>Mist</td>\n",
       "      <td>1</td>\n",
       "      <td>Evening</td>\n",
       "      <td>26.944387</td>\n",
       "    </tr>\n",
       "    <tr>\n",
       "      <th>12862</th>\n",
       "      <td>2012-06-25</td>\n",
       "      <td>1</td>\n",
       "      <td>6</td>\n",
       "      <td>0</td>\n",
       "      <td>1</td>\n",
       "      <td>0.68</td>\n",
       "      <td>0.6364</td>\n",
       "      <td>0.69</td>\n",
       "      <td>0.2537</td>\n",
       "      <td>1</td>\n",
       "      <td>4</td>\n",
       "      <td>5</td>\n",
       "      <td>spring</td>\n",
       "      <td>Clear</td>\n",
       "      <td>1</td>\n",
       "      <td>Night</td>\n",
       "      <td>2.000000</td>\n",
       "    </tr>\n",
       "  </tbody>\n",
       "</table>\n",
       "</div>"
      ],
      "text/plain": [
       "           dteday  yr  mnth  holiday  workingday  temp   atemp   hum  \\\n",
       "8273   2011-12-16   0    12        0           1  0.36  0.3333  0.46   \n",
       "8393   2011-12-21   0    12        0           1  0.40  0.4091  0.87   \n",
       "1351   2011-03-01   0     3        0           1  0.32  0.3333  0.36   \n",
       "12541  2012-06-11   1     6        0           1  0.80  0.7273  0.43   \n",
       "12862  2012-06-25   1     6        0           1  0.68  0.6364  0.69   \n",
       "\n",
       "       windspeed  casual  registered  cnt season_tr weathersit_tr  weekday_tr  \\\n",
       "8273      0.3881       8         235  243      fall         Clear           1   \n",
       "8393      0.2239      14         220  234    winter          Mist           1   \n",
       "1351      0.1343      18          61   79    winter         Clear           1   \n",
       "12541     0.2985     105         726  831    summer          Mist           1   \n",
       "12862     0.2537       1           4    5    spring         Clear           1   \n",
       "\n",
       "      hour_of_day_tr  registered_norm  \n",
       "8273         Morning        15.329710  \n",
       "8393         Morning        14.832397  \n",
       "1351       Afternoon         7.810250  \n",
       "12541        Evening        26.944387  \n",
       "12862          Night         2.000000  "
      ]
     },
     "execution_count": 35,
     "metadata": {},
     "output_type": "execute_result"
    }
   ],
   "source": [
    "train_hour_tr.head()"
   ]
  },
  {
   "cell_type": "markdown",
   "metadata": {},
   "source": [
    "### Registrations by weather"
   ]
  },
  {
   "cell_type": "code",
   "execution_count": 36,
   "metadata": {
    "execution": {
     "iopub.execute_input": "2021-09-08T20:18:20.987167Z",
     "iopub.status.busy": "2021-09-08T20:18:20.986787Z",
     "iopub.status.idle": "2021-09-08T20:18:21.409038Z",
     "shell.execute_reply": "2021-09-08T20:18:21.408085Z",
     "shell.execute_reply.started": "2021-09-08T20:18:20.987129Z"
    }
   },
   "outputs": [
    {
     "data": {
      "image/png": "[encoded data removed]",
      "text/plain": [
       "<Figure size 432x288 with 1 Axes>"
      ]
     },
     "metadata": {
      "needs_background": "light"
     },
     "output_type": "display_data"
    }
   ],
   "source": [
    "sns.barplot(data = train_hour_tr, x = 'weathersit_tr', y  = 'registered')\n",
    "plt.show()"
   ]
  },
  {
   "cell_type": "code",
   "execution_count": 37,
   "metadata": {
    "execution": {
     "iopub.execute_input": "2021-09-08T20:18:21.411032Z",
     "iopub.status.busy": "2021-09-08T20:18:21.410627Z",
     "iopub.status.idle": "2021-09-08T20:18:21.445338Z",
     "shell.execute_reply": "2021-09-08T20:18:21.444405Z",
     "shell.execute_reply.started": "2021-09-08T20:18:21.410991Z"
    }
   },
   "outputs": [
    {
     "data": {
      "text/html": [
       "<div>\n",
       "<style scoped>\n",
       "    .dataframe tbody tr th:only-of-type {\n",
       "        vertical-align: middle;\n",
       "    }\n",
       "\n",
       "    .dataframe tbody tr th {\n",
       "        vertical-align: top;\n",
       "    }\n",
       "\n",
       "    .dataframe thead tr th {\n",
       "        text-align: left;\n",
       "    }\n",
       "\n",
       "    .dataframe thead tr:last-of-type th {\n",
       "        text-align: right;\n",
       "    }\n",
       "</style>\n",
       "<table border=\"1\" class=\"dataframe\">\n",
       "  <thead>\n",
       "    <tr>\n",
       "      <th></th>\n",
       "      <th colspan=\"3\" halign=\"left\">registered</th>\n",
       "    </tr>\n",
       "    <tr>\n",
       "      <th></th>\n",
       "      <th>min</th>\n",
       "      <th>max</th>\n",
       "      <th>mean</th>\n",
       "    </tr>\n",
       "    <tr>\n",
       "      <th>weathersit_tr</th>\n",
       "      <th></th>\n",
       "      <th></th>\n",
       "      <th></th>\n",
       "    </tr>\n",
       "  </thead>\n",
       "  <tbody>\n",
       "    <tr>\n",
       "      <th>Clear</th>\n",
       "      <td>0</td>\n",
       "      <td>886</td>\n",
       "      <td>164.098229</td>\n",
       "    </tr>\n",
       "    <tr>\n",
       "      <th>Heavy_Rain</th>\n",
       "      <td>22</td>\n",
       "      <td>158</td>\n",
       "      <td>71.666667</td>\n",
       "    </tr>\n",
       "    <tr>\n",
       "      <th>Light_Snow</th>\n",
       "      <td>0</td>\n",
       "      <td>734</td>\n",
       "      <td>92.492091</td>\n",
       "    </tr>\n",
       "    <tr>\n",
       "      <th>Mist</th>\n",
       "      <td>0</td>\n",
       "      <td>822</td>\n",
       "      <td>145.327976</td>\n",
       "    </tr>\n",
       "  </tbody>\n",
       "</table>\n",
       "</div>"
      ],
      "text/plain": [
       "              registered                 \n",
       "                     min  max        mean\n",
       "weathersit_tr                            \n",
       "Clear                  0  886  164.098229\n",
       "Heavy_Rain            22  158   71.666667\n",
       "Light_Snow             0  734   92.492091\n",
       "Mist                   0  822  145.327976"
      ]
     },
     "execution_count": 37,
     "metadata": {},
     "output_type": "execute_result"
    }
   ],
   "source": [
    "train_hour_tr[[\"weathersit_tr\",'registered']].groupby([\"weathersit_tr\"]).agg(['min',\"max\",\"mean\"])"
   ]
  },
  {
   "cell_type": "markdown",
   "metadata": {},
   "source": [
    "The resgitrations are more when the weather is clear or there is misty. However, it is highly unpredictable when it rains though."
   ]
  },
  {
   "cell_type": "code",
   "execution_count": null,
   "metadata": {},
   "outputs": [],
   "source": []
  },
  {
   "cell_type": "code",
   "execution_count": 38,
   "metadata": {
    "execution": {
     "iopub.execute_input": "2021-09-08T20:18:21.446656Z",
     "iopub.status.busy": "2021-09-08T20:18:21.446351Z",
     "iopub.status.idle": "2021-09-08T20:18:21.493776Z",
     "shell.execute_reply": "2021-09-08T20:18:21.492213Z",
     "shell.execute_reply.started": "2021-09-08T20:18:21.446619Z"
    }
   },
   "outputs": [
    {
     "data": {
      "text/html": [
       "<div>\n",
       "<style scoped>\n",
       "    .dataframe tbody tr th:only-of-type {\n",
       "        vertical-align: middle;\n",
       "    }\n",
       "\n",
       "    .dataframe tbody tr th {\n",
       "        vertical-align: top;\n",
       "    }\n",
       "\n",
       "    .dataframe thead th {\n",
       "        text-align: right;\n",
       "    }\n",
       "</style>\n",
       "<table border=\"1\" class=\"dataframe\">\n",
       "  <thead>\n",
       "    <tr style=\"text-align: right;\">\n",
       "      <th></th>\n",
       "      <th>yr</th>\n",
       "      <th>mnth</th>\n",
       "      <th>holiday</th>\n",
       "      <th>workingday</th>\n",
       "      <th>temp</th>\n",
       "      <th>atemp</th>\n",
       "      <th>hum</th>\n",
       "      <th>windspeed</th>\n",
       "      <th>casual</th>\n",
       "      <th>registered</th>\n",
       "      <th>...</th>\n",
       "      <th>season_tr_spring</th>\n",
       "      <th>season_tr_summer</th>\n",
       "      <th>season_tr_winter</th>\n",
       "      <th>weathersit_tr_Heavy_Rain</th>\n",
       "      <th>weathersit_tr_Light_Snow</th>\n",
       "      <th>weathersit_tr_Mist</th>\n",
       "      <th>hour_of_day_tr_Early_Morning</th>\n",
       "      <th>hour_of_day_tr_Evening</th>\n",
       "      <th>hour_of_day_tr_Morning</th>\n",
       "      <th>hour_of_day_tr_Night</th>\n",
       "    </tr>\n",
       "  </thead>\n",
       "  <tbody>\n",
       "    <tr>\n",
       "      <th>8273</th>\n",
       "      <td>0</td>\n",
       "      <td>12</td>\n",
       "      <td>0</td>\n",
       "      <td>1</td>\n",
       "      <td>0.36</td>\n",
       "      <td>0.3333</td>\n",
       "      <td>0.46</td>\n",
       "      <td>0.3881</td>\n",
       "      <td>8</td>\n",
       "      <td>235</td>\n",
       "      <td>...</td>\n",
       "      <td>0</td>\n",
       "      <td>0</td>\n",
       "      <td>0</td>\n",
       "      <td>0</td>\n",
       "      <td>0</td>\n",
       "      <td>0</td>\n",
       "      <td>0</td>\n",
       "      <td>0</td>\n",
       "      <td>1</td>\n",
       "      <td>0</td>\n",
       "    </tr>\n",
       "    <tr>\n",
       "      <th>8393</th>\n",
       "      <td>0</td>\n",
       "      <td>12</td>\n",
       "      <td>0</td>\n",
       "      <td>1</td>\n",
       "      <td>0.40</td>\n",
       "      <td>0.4091</td>\n",
       "      <td>0.87</td>\n",
       "      <td>0.2239</td>\n",
       "      <td>14</td>\n",
       "      <td>220</td>\n",
       "      <td>...</td>\n",
       "      <td>0</td>\n",
       "      <td>0</td>\n",
       "      <td>1</td>\n",
       "      <td>0</td>\n",
       "      <td>0</td>\n",
       "      <td>1</td>\n",
       "      <td>0</td>\n",
       "      <td>0</td>\n",
       "      <td>1</td>\n",
       "      <td>0</td>\n",
       "    </tr>\n",
       "    <tr>\n",
       "      <th>1351</th>\n",
       "      <td>0</td>\n",
       "      <td>3</td>\n",
       "      <td>0</td>\n",
       "      <td>1</td>\n",
       "      <td>0.32</td>\n",
       "      <td>0.3333</td>\n",
       "      <td>0.36</td>\n",
       "      <td>0.1343</td>\n",
       "      <td>18</td>\n",
       "      <td>61</td>\n",
       "      <td>...</td>\n",
       "      <td>0</td>\n",
       "      <td>0</td>\n",
       "      <td>1</td>\n",
       "      <td>0</td>\n",
       "      <td>0</td>\n",
       "      <td>0</td>\n",
       "      <td>0</td>\n",
       "      <td>0</td>\n",
       "      <td>0</td>\n",
       "      <td>0</td>\n",
       "    </tr>\n",
       "    <tr>\n",
       "      <th>12541</th>\n",
       "      <td>1</td>\n",
       "      <td>6</td>\n",
       "      <td>0</td>\n",
       "      <td>1</td>\n",
       "      <td>0.80</td>\n",
       "      <td>0.7273</td>\n",
       "      <td>0.43</td>\n",
       "      <td>0.2985</td>\n",
       "      <td>105</td>\n",
       "      <td>726</td>\n",
       "      <td>...</td>\n",
       "      <td>0</td>\n",
       "      <td>1</td>\n",
       "      <td>0</td>\n",
       "      <td>0</td>\n",
       "      <td>0</td>\n",
       "      <td>1</td>\n",
       "      <td>0</td>\n",
       "      <td>1</td>\n",
       "      <td>0</td>\n",
       "      <td>0</td>\n",
       "    </tr>\n",
       "    <tr>\n",
       "      <th>12862</th>\n",
       "      <td>1</td>\n",
       "      <td>6</td>\n",
       "      <td>0</td>\n",
       "      <td>1</td>\n",
       "      <td>0.68</td>\n",
       "      <td>0.6364</td>\n",
       "      <td>0.69</td>\n",
       "      <td>0.2537</td>\n",
       "      <td>1</td>\n",
       "      <td>4</td>\n",
       "      <td>...</td>\n",
       "      <td>1</td>\n",
       "      <td>0</td>\n",
       "      <td>0</td>\n",
       "      <td>0</td>\n",
       "      <td>0</td>\n",
       "      <td>0</td>\n",
       "      <td>0</td>\n",
       "      <td>0</td>\n",
       "      <td>0</td>\n",
       "      <td>1</td>\n",
       "    </tr>\n",
       "  </tbody>\n",
       "</table>\n",
       "<p>5 rows × 23 columns</p>\n",
       "</div>"
      ],
      "text/plain": [
       "       yr  mnth  holiday  workingday  temp   atemp   hum  windspeed  casual  \\\n",
       "8273    0    12        0           1  0.36  0.3333  0.46     0.3881       8   \n",
       "8393    0    12        0           1  0.40  0.4091  0.87     0.2239      14   \n",
       "1351    0     3        0           1  0.32  0.3333  0.36     0.1343      18   \n",
       "12541   1     6        0           1  0.80  0.7273  0.43     0.2985     105   \n",
       "12862   1     6        0           1  0.68  0.6364  0.69     0.2537       1   \n",
       "\n",
       "       registered  ...  season_tr_spring  season_tr_summer  season_tr_winter  \\\n",
       "8273          235  ...                 0                 0                 0   \n",
       "8393          220  ...                 0                 0                 1   \n",
       "1351           61  ...                 0                 0                 1   \n",
       "12541         726  ...                 0                 1                 0   \n",
       "12862           4  ...                 1                 0                 0   \n",
       "\n",
       "       weathersit_tr_Heavy_Rain  weathersit_tr_Light_Snow  weathersit_tr_Mist  \\\n",
       "8273                          0                         0                   0   \n",
       "8393                          0                         0                   1   \n",
       "1351                          0                         0                   0   \n",
       "12541                         0                         0                   1   \n",
       "12862                         0                         0                   0   \n",
       "\n",
       "       hour_of_day_tr_Early_Morning  hour_of_day_tr_Evening  \\\n",
       "8273                              0                       0   \n",
       "8393                              0                       0   \n",
       "1351                              0                       0   \n",
       "12541                             0                       1   \n",
       "12862                             0                       0   \n",
       "\n",
       "       hour_of_day_tr_Morning  hour_of_day_tr_Night  \n",
       "8273                        1                     0  \n",
       "8393                        1                     0  \n",
       "1351                        0                     0  \n",
       "12541                       0                     0  \n",
       "12862                       0                     1  \n",
       "\n",
       "[5 rows x 23 columns]"
      ]
     },
     "execution_count": 38,
     "metadata": {},
     "output_type": "execute_result"
    }
   ],
   "source": [
    "# Encoding categorical values\n",
    "train_hour_tr_encoded = pd.get_dummies(train_hour_tr.drop('dteday', axis = 1), drop_first= True)\n",
    "train_hour_tr_encoded.head()"
   ]
  },
  {
   "cell_type": "code",
   "execution_count": 39,
   "metadata": {
    "execution": {
     "iopub.execute_input": "2021-09-08T20:18:21.495999Z",
     "iopub.status.busy": "2021-09-08T20:18:21.495592Z",
     "iopub.status.idle": "2021-09-08T20:18:21.505953Z",
     "shell.execute_reply": "2021-09-08T20:18:21.504031Z",
     "shell.execute_reply.started": "2021-09-08T20:18:21.495959Z"
    }
   },
   "outputs": [
    {
     "data": {
      "text/plain": [
       "['yr',\n",
       " 'mnth',\n",
       " 'holiday',\n",
       " 'workingday',\n",
       " 'temp',\n",
       " 'atemp',\n",
       " 'hum',\n",
       " 'windspeed',\n",
       " 'casual',\n",
       " 'registered',\n",
       " 'cnt',\n",
       " 'weekday_tr',\n",
       " 'registered_norm',\n",
       " 'season_tr_spring',\n",
       " 'season_tr_summer',\n",
       " 'season_tr_winter',\n",
       " 'weathersit_tr_Heavy_Rain',\n",
       " 'weathersit_tr_Light_Snow',\n",
       " 'weathersit_tr_Mist',\n",
       " 'hour_of_day_tr_Early_Morning',\n",
       " 'hour_of_day_tr_Evening',\n",
       " 'hour_of_day_tr_Morning',\n",
       " 'hour_of_day_tr_Night']"
      ]
     },
     "execution_count": 39,
     "metadata": {},
     "output_type": "execute_result"
    }
   ],
   "source": [
    "train_hour_tr_encoded.columns.to_list()"
   ]
  },
  {
   "cell_type": "code",
   "execution_count": 40,
   "metadata": {
    "execution": {
     "iopub.execute_input": "2021-09-08T20:18:21.508172Z",
     "iopub.status.busy": "2021-09-08T20:18:21.507722Z",
     "iopub.status.idle": "2021-09-08T20:18:21.520401Z",
     "shell.execute_reply": "2021-09-08T20:18:21.519265Z",
     "shell.execute_reply.started": "2021-09-08T20:18:21.508124Z"
    }
   },
   "outputs": [],
   "source": [
    "cat_cols = [\"holiday\",\"workingday\",'weekday_tr',\n",
    " 'season_tr_spring',\n",
    " 'season_tr_summer',\n",
    " 'season_tr_winter',\n",
    " 'weathersit_tr_Heavy_Rain',\n",
    " 'weathersit_tr_Light_Snow',\n",
    " 'weathersit_tr_Mist',\n",
    " 'hour_of_day_tr_Early_Morning',\n",
    " 'hour_of_day_tr_Evening',\n",
    " 'hour_of_day_tr_Morning',\n",
    " 'hour_of_day_tr_Night']\n"
   ]
  },
  {
   "cell_type": "code",
   "execution_count": 41,
   "metadata": {
    "execution": {
     "iopub.execute_input": "2021-09-08T20:18:21.522726Z",
     "iopub.status.busy": "2021-09-08T20:18:21.522263Z",
     "iopub.status.idle": "2021-09-08T20:18:21.628942Z",
     "shell.execute_reply": "2021-09-08T20:18:21.627747Z",
     "shell.execute_reply.started": "2021-09-08T20:18:21.522683Z"
    }
   },
   "outputs": [
    {
     "name": "stdout",
     "output_type": "stream",
     "text": [
      "p-value for field :holiday is 0.000, null hyp rejected\n",
      "p-value for field :workingday is 0.000, null hyp rejected\n",
      "p-value for field :weekday_tr is 0.000, null hyp rejected\n",
      "p-value for field :season_tr_spring is 0.000, null hyp rejected\n",
      "p-value for field :season_tr_summer is 0.000, null hyp rejected\n",
      "p-value for field :season_tr_winter is 0.000, null hyp rejected\n",
      "p-value for field :weathersit_tr_Heavy_Rain is 0.192, null hyp not rejected\n",
      "p-value for field :weathersit_tr_Light_Snow is 0.000, null hyp rejected\n",
      "p-value for field :weathersit_tr_Mist is 0.004, null hyp rejected\n",
      "p-value for field :hour_of_day_tr_Early_Morning is 0.000, null hyp rejected\n",
      "p-value for field :hour_of_day_tr_Evening is 0.000, null hyp rejected\n",
      "p-value for field :hour_of_day_tr_Morning is 0.000, null hyp rejected\n",
      "p-value for field :hour_of_day_tr_Night is 0.000, null hyp rejected\n"
     ]
    }
   ],
   "source": [
    "# Checking the MannWhitneyU test p-values for each categorical column\n",
    "for i in cat_cols:\n",
    "    _,pval = mannwhitneyu(train_hour_tr_encoded[train_hour_tr_encoded[i] == 0][\"registered\"], train_hour_tr_encoded[train_hour_tr_encoded[i] == 1][\"registered\"])\n",
    "    print(\"p-value for field :%s is %.3f, null hyp %s\" %(i, pval, 'rejected' if pval<=0.05 else 'not rejected'))"
   ]
  },
  {
   "cell_type": "markdown",
   "metadata": {},
   "source": [
    "The default assumption or null hypothesis is that there is no difference between the distributions of the data samples. Rejection of this hypothesis suggests that there is likely some difference between the samples.\n",
    "\n",
    "Except for HEavy rain, looks like all other categorical value seem to have an impact n the registerations"
   ]
  },
  {
   "cell_type": "code",
   "execution_count": 42,
   "metadata": {
    "execution": {
     "iopub.execute_input": "2021-09-08T20:18:21.630922Z",
     "iopub.status.busy": "2021-09-08T20:18:21.630471Z",
     "iopub.status.idle": "2021-09-08T20:18:21.638193Z",
     "shell.execute_reply": "2021-09-08T20:18:21.636907Z",
     "shell.execute_reply.started": "2021-09-08T20:18:21.630877Z"
    }
   },
   "outputs": [],
   "source": [
    "train_hour_tr_encoded = train_hour_tr_encoded.drop(['yr', 'mnth'], axis = 1)\n",
    "num_cols = ['temp', 'atemp', 'hum', 'windspeed', 'registered']"
   ]
  },
  {
   "cell_type": "code",
   "execution_count": 43,
   "metadata": {
    "execution": {
     "iopub.execute_input": "2021-09-08T20:18:21.639888Z",
     "iopub.status.busy": "2021-09-08T20:18:21.639601Z",
     "iopub.status.idle": "2021-09-08T20:18:21.665643Z",
     "shell.execute_reply": "2021-09-08T20:18:21.664697Z",
     "shell.execute_reply.started": "2021-09-08T20:18:21.639855Z"
    }
   },
   "outputs": [
    {
     "data": {
      "text/html": [
       "<div>\n",
       "<style scoped>\n",
       "    .dataframe tbody tr th:only-of-type {\n",
       "        vertical-align: middle;\n",
       "    }\n",
       "\n",
       "    .dataframe tbody tr th {\n",
       "        vertical-align: top;\n",
       "    }\n",
       "\n",
       "    .dataframe thead th {\n",
       "        text-align: right;\n",
       "    }\n",
       "</style>\n",
       "<table border=\"1\" class=\"dataframe\">\n",
       "  <thead>\n",
       "    <tr style=\"text-align: right;\">\n",
       "      <th></th>\n",
       "      <th>temp</th>\n",
       "      <th>atemp</th>\n",
       "      <th>hum</th>\n",
       "      <th>windspeed</th>\n",
       "      <th>registered</th>\n",
       "    </tr>\n",
       "  </thead>\n",
       "  <tbody>\n",
       "    <tr>\n",
       "      <th>8273</th>\n",
       "      <td>0.36</td>\n",
       "      <td>0.3333</td>\n",
       "      <td>0.46</td>\n",
       "      <td>0.3881</td>\n",
       "      <td>235</td>\n",
       "    </tr>\n",
       "    <tr>\n",
       "      <th>8393</th>\n",
       "      <td>0.40</td>\n",
       "      <td>0.4091</td>\n",
       "      <td>0.87</td>\n",
       "      <td>0.2239</td>\n",
       "      <td>220</td>\n",
       "    </tr>\n",
       "    <tr>\n",
       "      <th>1351</th>\n",
       "      <td>0.32</td>\n",
       "      <td>0.3333</td>\n",
       "      <td>0.36</td>\n",
       "      <td>0.1343</td>\n",
       "      <td>61</td>\n",
       "    </tr>\n",
       "    <tr>\n",
       "      <th>12541</th>\n",
       "      <td>0.80</td>\n",
       "      <td>0.7273</td>\n",
       "      <td>0.43</td>\n",
       "      <td>0.2985</td>\n",
       "      <td>726</td>\n",
       "    </tr>\n",
       "    <tr>\n",
       "      <th>12862</th>\n",
       "      <td>0.68</td>\n",
       "      <td>0.6364</td>\n",
       "      <td>0.69</td>\n",
       "      <td>0.2537</td>\n",
       "      <td>4</td>\n",
       "    </tr>\n",
       "    <tr>\n",
       "      <th>...</th>\n",
       "      <td>...</td>\n",
       "      <td>...</td>\n",
       "      <td>...</td>\n",
       "      <td>...</td>\n",
       "      <td>...</td>\n",
       "    </tr>\n",
       "    <tr>\n",
       "      <th>9475</th>\n",
       "      <td>0.30</td>\n",
       "      <td>0.2879</td>\n",
       "      <td>0.70</td>\n",
       "      <td>0.1940</td>\n",
       "      <td>54</td>\n",
       "    </tr>\n",
       "    <tr>\n",
       "      <th>3714</th>\n",
       "      <td>0.92</td>\n",
       "      <td>0.8788</td>\n",
       "      <td>0.40</td>\n",
       "      <td>0.2239</td>\n",
       "      <td>199</td>\n",
       "    </tr>\n",
       "    <tr>\n",
       "      <th>7409</th>\n",
       "      <td>0.40</td>\n",
       "      <td>0.4091</td>\n",
       "      <td>0.94</td>\n",
       "      <td>0.0896</td>\n",
       "      <td>418</td>\n",
       "    </tr>\n",
       "    <tr>\n",
       "      <th>5787</th>\n",
       "      <td>0.72</td>\n",
       "      <td>0.6818</td>\n",
       "      <td>0.66</td>\n",
       "      <td>0.1642</td>\n",
       "      <td>176</td>\n",
       "    </tr>\n",
       "    <tr>\n",
       "      <th>14155</th>\n",
       "      <td>0.64</td>\n",
       "      <td>0.5758</td>\n",
       "      <td>0.83</td>\n",
       "      <td>0.2239</td>\n",
       "      <td>99</td>\n",
       "    </tr>\n",
       "  </tbody>\n",
       "</table>\n",
       "<p>13903 rows × 5 columns</p>\n",
       "</div>"
      ],
      "text/plain": [
       "       temp   atemp   hum  windspeed  registered\n",
       "8273   0.36  0.3333  0.46     0.3881         235\n",
       "8393   0.40  0.4091  0.87     0.2239         220\n",
       "1351   0.32  0.3333  0.36     0.1343          61\n",
       "12541  0.80  0.7273  0.43     0.2985         726\n",
       "12862  0.68  0.6364  0.69     0.2537           4\n",
       "...     ...     ...   ...        ...         ...\n",
       "9475   0.30  0.2879  0.70     0.1940          54\n",
       "3714   0.92  0.8788  0.40     0.2239         199\n",
       "7409   0.40  0.4091  0.94     0.0896         418\n",
       "5787   0.72  0.6818  0.66     0.1642         176\n",
       "14155  0.64  0.5758  0.83     0.2239          99\n",
       "\n",
       "[13903 rows x 5 columns]"
      ]
     },
     "execution_count": 43,
     "metadata": {},
     "output_type": "execute_result"
    }
   ],
   "source": [
    "train_hour_tr_num = train_hour_tr_encoded[num_cols].copy()\n",
    "train_hour_tr_num"
   ]
  },
  {
   "cell_type": "code",
   "execution_count": 44,
   "metadata": {
    "execution": {
     "iopub.execute_input": "2021-09-08T20:18:21.667537Z",
     "iopub.status.busy": "2021-09-08T20:18:21.667148Z",
     "iopub.status.idle": "2021-09-08T20:18:22.005375Z",
     "shell.execute_reply": "2021-09-08T20:18:22.004295Z",
     "shell.execute_reply.started": "2021-09-08T20:18:21.667503Z"
    }
   },
   "outputs": [
    {
     "data": {
      "image/png": "[encoded data removed]",
      "text/plain": [
       "<Figure size 576x432 with 2 Axes>"
      ]
     },
     "metadata": {
      "needs_background": "light"
     },
     "output_type": "display_data"
    }
   ],
   "source": [
    "# Corelations matrix for data\n",
    "plt.figure(figsize = (8,6))\n",
    "sns.heatmap(train_hour_tr_encoded[num_cols].corr(method = 'spearman'), annot = True, cmap = 'plasma') # Spearmann since,the target variable is not normally distributed\n",
    "plt.show()"
   ]
  },
  {
   "cell_type": "markdown",
   "metadata": {},
   "source": [
    "Only 2 of the columns, i.e atemp and humidity are moderately correlated with registrations. "
   ]
  },
  {
   "cell_type": "markdown",
   "metadata": {},
   "source": [
    "### Feature Selection"
   ]
  },
  {
   "cell_type": "code",
   "execution_count": 45,
   "metadata": {
    "execution": {
     "iopub.execute_input": "2021-09-08T20:18:22.008177Z",
     "iopub.status.busy": "2021-09-08T20:18:22.007733Z",
     "iopub.status.idle": "2021-09-08T20:18:23.073950Z",
     "shell.execute_reply": "2021-09-08T20:18:23.072477Z",
     "shell.execute_reply.started": "2021-09-08T20:18:22.008133Z"
    }
   },
   "outputs": [
    {
     "name": "stdout",
     "output_type": "stream",
     "text": [
      "                                 OLS Regression Results                                \n",
      "=======================================================================================\n",
      "Dep. Variable:             registered   R-squared (uncentered):                   0.720\n",
      "Model:                            OLS   Adj. R-squared (uncentered):              0.719\n",
      "Method:                 Least Squares   F-statistic:                              2227.\n",
      "Date:                Wed, 08 Sep 2021   Prob (F-statistic):                        0.00\n",
      "Time:                        20:18:23   Log-Likelihood:                         -85537.\n",
      "No. Observations:               13903   AIC:                                  1.711e+05\n",
      "Df Residuals:                   13887   BIC:                                  1.712e+05\n",
      "Df Model:                          16                                                  \n",
      "Covariance Type:            nonrobust                                                  \n",
      "================================================================================================\n",
      "                                   coef    std err          t      P>|t|      [0.025      0.975]\n",
      "------------------------------------------------------------------------------------------------\n",
      "holiday                      -8.628e+13   3.29e+14     -0.262      0.793   -7.31e+14    5.59e+14\n",
      "workingday                   -8.628e+13   3.29e+14     -0.262      0.793   -7.31e+14    5.59e+14\n",
      "temp                            45.9430     35.898      1.280      0.201     -24.423     116.309\n",
      "atemp                          271.7222     37.921      7.165      0.000     197.391     346.053\n",
      "hum                            -11.4669      5.619     -2.041      0.041     -22.481      -0.453\n",
      "windspeed                       60.2921      7.952      7.582      0.000      44.706      75.879\n",
      "weekday_tr                    8.628e+13   3.29e+14      0.262      0.793   -5.59e+14    7.31e+14\n",
      "season_tr_spring               -55.4187      3.630    -15.267      0.000     -62.534     -48.304\n",
      "season_tr_summer               -33.4069      2.944    -11.349      0.000     -39.177     -27.637\n",
      "season_tr_winter               -26.4777      2.677     -9.890      0.000     -31.725     -21.230\n",
      "weathersit_tr_Heavy_Rain       -11.3894     65.780     -0.173      0.863    -140.328     117.549\n",
      "weathersit_tr_Light_Snow       -56.8285      3.966    -14.329      0.000     -64.602     -49.054\n",
      "weathersit_tr_Mist              -5.5479      2.380     -2.331      0.020     -10.212      -0.883\n",
      "hour_of_day_tr_Early_Morning   -56.2296      3.730    -15.076      0.000     -63.540     -48.919\n",
      "hour_of_day_tr_Evening         133.9654      3.262     41.067      0.000     127.571     140.360\n",
      "hour_of_day_tr_Morning          43.1938      3.175     13.604      0.000      36.970      49.417\n",
      "hour_of_day_tr_Night           -82.2710      3.186    -25.826      0.000     -88.515     -76.027\n",
      "==============================================================================\n",
      "Omnibus:                     3431.949   Durbin-Watson:                   2.023\n",
      "Prob(Omnibus):                  0.000   Jarque-Bera (JB):             8885.134\n",
      "Skew:                           1.338   Prob(JB):                         0.00\n",
      "Kurtosis:                       5.860   Cond. No.                     9.44e+14\n",
      "==============================================================================\n",
      "\n",
      "Notes:\n",
      "[1] R² is computed without centering (uncentered) since the model does not contain a constant.\n",
      "[2] Standard Errors assume that the covariance matrix of the errors is correctly specified.\n",
      "[3] The smallest eigenvalue is 3.98e-26. This might indicate that there are\n",
      "strong multicollinearity problems or that the design matrix is singular.\n"
     ]
    }
   ],
   "source": [
    "from statsmodels.api import OLS\n",
    "model = OLS(train_hour_tr_encoded[\"registered\"], train_hour_tr_encoded.drop([\"registered\", 'cnt', 'casual', 'registered_norm'],axis =1))\n",
    "res = model.fit()\n",
    "print(res.summary())"
   ]
  },
  {
   "cell_type": "code",
   "execution_count": 46,
   "metadata": {
    "execution": {
     "iopub.execute_input": "2021-09-08T20:18:23.076455Z",
     "iopub.status.busy": "2021-09-08T20:18:23.075958Z",
     "iopub.status.idle": "2021-09-08T20:18:23.116437Z",
     "shell.execute_reply": "2021-09-08T20:18:23.115132Z",
     "shell.execute_reply.started": "2021-09-08T20:18:23.076398Z"
    }
   },
   "outputs": [
    {
     "name": "stdout",
     "output_type": "stream",
     "text": [
      "                                 OLS Regression Results                                \n",
      "=======================================================================================\n",
      "Dep. Variable:             registered   R-squared (uncentered):                   0.567\n",
      "Model:                            OLS   Adj. R-squared (uncentered):              0.567\n",
      "Method:                 Least Squares   F-statistic:                              9108.\n",
      "Date:                Wed, 08 Sep 2021   Prob (F-statistic):                        0.00\n",
      "Time:                        20:18:23   Log-Likelihood:                         -88554.\n",
      "No. Observations:               13903   AIC:                                  1.771e+05\n",
      "Df Residuals:                   13901   BIC:                                  1.771e+05\n",
      "Df Model:                           2                                                  \n",
      "Covariance Type:            nonrobust                                                  \n",
      "==============================================================================\n",
      "                 coef    std err          t      P>|t|      [0.025      0.975]\n",
      "------------------------------------------------------------------------------\n",
      "temp         360.3659      4.802     75.051      0.000     350.954     369.778\n",
      "hum          -53.1093      3.892    -13.646      0.000     -60.738     -45.481\n",
      "==============================================================================\n",
      "Omnibus:                     3559.481   Durbin-Watson:                   2.007\n",
      "Prob(Omnibus):                  0.000   Jarque-Bera (JB):             8967.809\n",
      "Skew:                           1.402   Prob(JB):                         0.00\n",
      "Kurtosis:                       5.761   Cond. No.                         4.11\n",
      "==============================================================================\n",
      "\n",
      "Notes:\n",
      "[1] R² is computed without centering (uncentered) since the model does not contain a constant.\n",
      "[2] Standard Errors assume that the covariance matrix of the errors is correctly specified.\n"
     ]
    }
   ],
   "source": [
    "col_list  = ['temp', 'hum']\n",
    "\n",
    "model = OLS(train_hour_tr_encoded[\"registered\"], train_hour_tr_encoded.drop([\"registered\", 'cnt', 'casual', 'registered_norm'],axis =1)[col_list])\n",
    "res = model.fit()\n",
    "print(res.summary())"
   ]
  },
  {
   "cell_type": "markdown",
   "metadata": {},
   "source": [
    "### Using ExtraTreeRegressor to check feature importances    "
   ]
  },
  {
   "cell_type": "code",
   "execution_count": 47,
   "metadata": {
    "execution": {
     "iopub.execute_input": "2021-09-08T20:18:23.119149Z",
     "iopub.status.busy": "2021-09-08T20:18:23.118256Z",
     "iopub.status.idle": "2021-09-08T20:18:23.406477Z",
     "shell.execute_reply": "2021-09-08T20:18:23.405679Z",
     "shell.execute_reply.started": "2021-09-08T20:18:23.119094Z"
    }
   },
   "outputs": [],
   "source": [
    "from sklearn.ensemble import ExtraTreesRegressor\n",
    "etr = ExtraTreesRegressor(random_state = 23)\n",
    "\n",
    "train_hour_tr_encoded.head()\n",
    "\n",
    "X = train_hour_tr_encoded.drop([\"casual\", \"registered\", \"cnt\",\"registered_norm\",\"atemp\"], axis = 1)\n",
    "y = train_hour_tr_encoded[\"registered\"]"
   ]
  },
  {
   "cell_type": "code",
   "execution_count": 48,
   "metadata": {
    "execution": {
     "iopub.execute_input": "2021-09-08T20:18:23.410900Z",
     "iopub.status.busy": "2021-09-08T20:18:23.410251Z",
     "iopub.status.idle": "2021-09-08T20:18:26.609907Z",
     "shell.execute_reply": "2021-09-08T20:18:26.609067Z",
     "shell.execute_reply.started": "2021-09-08T20:18:23.410860Z"
    }
   },
   "outputs": [
    {
     "data": {
      "image/png": "[encoded data removed]",
      "text/plain": [
       "<Figure size 432x288 with 1 Axes>"
      ]
     },
     "metadata": {
      "needs_background": "light"
     },
     "output_type": "display_data"
    }
   ],
   "source": [
    "etr.fit(X,y)\n",
    "feat_imp = pd.Series(etr.feature_importances_, index= list(X.columns))\n",
    "feat_imp.nlargest(10).plot(kind ='bar')\n",
    "plt.show()"
   ]
  },
  {
   "cell_type": "markdown",
   "metadata": {},
   "source": [
    "### Feature Selection using permutation importances"
   ]
  },
  {
   "cell_type": "code",
   "execution_count": 49,
   "metadata": {
    "execution": {
     "iopub.execute_input": "2021-09-08T20:18:26.612299Z",
     "iopub.status.busy": "2021-09-08T20:18:26.611854Z",
     "iopub.status.idle": "2021-09-08T20:18:35.367004Z",
     "shell.execute_reply": "2021-09-08T20:18:35.366034Z",
     "shell.execute_reply.started": "2021-09-08T20:18:26.612251Z"
    }
   },
   "outputs": [
    {
     "data": {
      "text/html": [
       "<style type='text/css'>\n",
       ".datatable table.frame { margin-bottom: 0; }\n",
       ".datatable table.frame thead { border-bottom: none; }\n",
       ".datatable table.frame tr.coltypes td {  color: #FFFFFF;  line-height: 6px;  padding: 0 0.5em;}\n",
       ".datatable .bool    { background: #DDDD99; }\n",
       ".datatable .object  { background: #565656; }\n",
       ".datatable .int     { background: #5D9E5D; }\n",
       ".datatable .float   { background: #4040CC; }\n",
       ".datatable .str     { background: #CC4040; }\n",
       ".datatable .time    { background: #40CC40; }\n",
       ".datatable .row_index {  background: var(--jp-border-color3);  border-right: 1px solid var(--jp-border-color0);  color: var(--jp-ui-font-color3);  font-size: 9px;}\n",
       ".datatable .frame tbody td { text-align: left; }\n",
       ".datatable .frame tr.coltypes .row_index {  background: var(--jp-border-color0);}\n",
       ".datatable th:nth-child(2) { padding-left: 12px; }\n",
       ".datatable .hellipsis {  color: var(--jp-cell-editor-border-color);}\n",
       ".datatable .vellipsis {  background: var(--jp-layout-color0);  color: var(--jp-cell-editor-border-color);}\n",
       ".datatable .na {  color: var(--jp-cell-editor-border-color);  font-size: 80%;}\n",
       ".datatable .sp {  opacity: 0.25;}\n",
       ".datatable .footer { font-size: 9px; }\n",
       ".datatable .frame_dimensions {  background: var(--jp-border-color3);  border-top: 1px solid var(--jp-border-color0);  color: var(--jp-ui-font-color3);  display: inline-block;  opacity: 0.6;  padding: 1px 10px 1px 5px;}\n",
       "</style>\n"
      ],
      "text/plain": [
       "<IPython.core.display.HTML object>"
      ]
     },
     "metadata": {},
     "output_type": "display_data"
    }
   ],
   "source": [
    "import eli5\n",
    "from eli5.sklearn import PermutationImportance\n",
    "from sklearn.ensemble import RandomForestRegressor"
   ]
  },
  {
   "cell_type": "code",
   "execution_count": 50,
   "metadata": {
    "execution": {
     "iopub.execute_input": "2021-09-08T20:18:35.368500Z",
     "iopub.status.busy": "2021-09-08T20:18:35.368195Z",
     "iopub.status.idle": "2021-09-08T20:18:45.733756Z",
     "shell.execute_reply": "2021-09-08T20:18:45.732805Z",
     "shell.execute_reply.started": "2021-09-08T20:18:35.368471Z"
    }
   },
   "outputs": [
    {
     "data": {
      "text/html": [
       "\n",
       "    <style>\n",
       "    table.eli5-weights tr:hover {\n",
       "        filter: brightness(85%);\n",
       "    }\n",
       "</style>\n",
       "\n",
       "\n",
       "\n",
       "    \n",
       "\n",
       "    \n",
       "\n",
       "    \n",
       "\n",
       "    \n",
       "\n",
       "    \n",
       "\n",
       "    \n",
       "\n",
       "\n",
       "    \n",
       "\n",
       "    \n",
       "\n",
       "    \n",
       "\n",
       "    \n",
       "\n",
       "    \n",
       "\n",
       "    \n",
       "\n",
       "\n",
       "    \n",
       "\n",
       "    \n",
       "\n",
       "    \n",
       "\n",
       "    \n",
       "\n",
       "    \n",
       "        <table class=\"eli5-weights eli5-feature-importances\" style=\"border-collapse: collapse; border: none; margin-top: 0em; table-layout: auto;\">\n",
       "    <thead>\n",
       "    <tr style=\"border: none;\">\n",
       "        <th style=\"padding: 0 1em 0 0.5em; text-align: right; border: none;\">Weight</th>\n",
       "        <th style=\"padding: 0 0.5em 0 0.5em; text-align: left; border: none;\">Feature</th>\n",
       "    </tr>\n",
       "    </thead>\n",
       "    <tbody>\n",
       "    \n",
       "        <tr style=\"background-color: hsl(120, 100.00%, 80.00%); border: none;\">\n",
       "            <td style=\"padding: 0 1em 0 0.5em; text-align: right; border: none;\">\n",
       "                0.3820\n",
       "                \n",
       "                    &plusmn; 0.0159\n",
       "                \n",
       "            </td>\n",
       "            <td style=\"padding: 0 0.5em 0 0.5em; text-align: left; border: none;\">\n",
       "                hour_of_day_tr_Evening\n",
       "            </td>\n",
       "        </tr>\n",
       "    \n",
       "        <tr style=\"background-color: hsl(120, 100.00%, 84.64%); border: none;\">\n",
       "            <td style=\"padding: 0 1em 0 0.5em; text-align: right; border: none;\">\n",
       "                0.2619\n",
       "                \n",
       "                    &plusmn; 0.0130\n",
       "                \n",
       "            </td>\n",
       "            <td style=\"padding: 0 0.5em 0 0.5em; text-align: left; border: none;\">\n",
       "                hour_of_day_tr_Night\n",
       "            </td>\n",
       "        </tr>\n",
       "    \n",
       "        <tr style=\"background-color: hsl(120, 100.00%, 85.00%); border: none;\">\n",
       "            <td style=\"padding: 0 1em 0 0.5em; text-align: right; border: none;\">\n",
       "                0.2531\n",
       "                \n",
       "                    &plusmn; 0.0254\n",
       "                \n",
       "            </td>\n",
       "            <td style=\"padding: 0 0.5em 0 0.5em; text-align: left; border: none;\">\n",
       "                temp\n",
       "            </td>\n",
       "        </tr>\n",
       "    \n",
       "        <tr style=\"background-color: hsl(120, 100.00%, 89.63%); border: none;\">\n",
       "            <td style=\"padding: 0 1em 0 0.5em; text-align: right; border: none;\">\n",
       "                0.1494\n",
       "                \n",
       "                    &plusmn; 0.0196\n",
       "                \n",
       "            </td>\n",
       "            <td style=\"padding: 0 0.5em 0 0.5em; text-align: left; border: none;\">\n",
       "                hour_of_day_tr_Early_Morning\n",
       "            </td>\n",
       "        </tr>\n",
       "    \n",
       "        <tr style=\"background-color: hsl(120, 100.00%, 89.79%); border: none;\">\n",
       "            <td style=\"padding: 0 1em 0 0.5em; text-align: right; border: none;\">\n",
       "                0.1462\n",
       "                \n",
       "                    &plusmn; 0.0180\n",
       "                \n",
       "            </td>\n",
       "            <td style=\"padding: 0 0.5em 0 0.5em; text-align: left; border: none;\">\n",
       "                workingday\n",
       "            </td>\n",
       "        </tr>\n",
       "    \n",
       "        <tr style=\"background-color: hsl(120, 100.00%, 90.14%); border: none;\">\n",
       "            <td style=\"padding: 0 1em 0 0.5em; text-align: right; border: none;\">\n",
       "                0.1391\n",
       "                \n",
       "                    &plusmn; 0.0129\n",
       "                \n",
       "            </td>\n",
       "            <td style=\"padding: 0 0.5em 0 0.5em; text-align: left; border: none;\">\n",
       "                hum\n",
       "            </td>\n",
       "        </tr>\n",
       "    \n",
       "        <tr style=\"background-color: hsl(120, 100.00%, 92.93%); border: none;\">\n",
       "            <td style=\"padding: 0 1em 0 0.5em; text-align: right; border: none;\">\n",
       "                0.0864\n",
       "                \n",
       "                    &plusmn; 0.0198\n",
       "                \n",
       "            </td>\n",
       "            <td style=\"padding: 0 0.5em 0 0.5em; text-align: left; border: none;\">\n",
       "                season_tr_winter\n",
       "            </td>\n",
       "        </tr>\n",
       "    \n",
       "        <tr style=\"background-color: hsl(120, 100.00%, 96.53%); border: none;\">\n",
       "            <td style=\"padding: 0 1em 0 0.5em; text-align: right; border: none;\">\n",
       "                0.0313\n",
       "                \n",
       "                    &plusmn; 0.0132\n",
       "                \n",
       "            </td>\n",
       "            <td style=\"padding: 0 0.5em 0 0.5em; text-align: left; border: none;\">\n",
       "                weathersit_tr_Light_Snow\n",
       "            </td>\n",
       "        </tr>\n",
       "    \n",
       "        <tr style=\"background-color: hsl(120, 100.00%, 96.99%); border: none;\">\n",
       "            <td style=\"padding: 0 1em 0 0.5em; text-align: right; border: none;\">\n",
       "                0.0255\n",
       "                \n",
       "                    &plusmn; 0.0094\n",
       "                \n",
       "            </td>\n",
       "            <td style=\"padding: 0 0.5em 0 0.5em; text-align: left; border: none;\">\n",
       "                season_tr_summer\n",
       "            </td>\n",
       "        </tr>\n",
       "    \n",
       "        <tr style=\"background-color: hsl(120, 100.00%, 97.06%); border: none;\">\n",
       "            <td style=\"padding: 0 1em 0 0.5em; text-align: right; border: none;\">\n",
       "                0.0247\n",
       "                \n",
       "                    &plusmn; 0.0137\n",
       "                \n",
       "            </td>\n",
       "            <td style=\"padding: 0 0.5em 0 0.5em; text-align: left; border: none;\">\n",
       "                windspeed\n",
       "            </td>\n",
       "        </tr>\n",
       "    \n",
       "        <tr style=\"background-color: hsl(120, 100.00%, 97.69%); border: none;\">\n",
       "            <td style=\"padding: 0 1em 0 0.5em; text-align: right; border: none;\">\n",
       "                0.0174\n",
       "                \n",
       "                    &plusmn; 0.0048\n",
       "                \n",
       "            </td>\n",
       "            <td style=\"padding: 0 0.5em 0 0.5em; text-align: left; border: none;\">\n",
       "                weekday_tr\n",
       "            </td>\n",
       "        </tr>\n",
       "    \n",
       "        <tr style=\"background-color: hsl(120, 100.00%, 98.34%); border: none;\">\n",
       "            <td style=\"padding: 0 1em 0 0.5em; text-align: right; border: none;\">\n",
       "                0.0109\n",
       "                \n",
       "                    &plusmn; 0.0051\n",
       "                \n",
       "            </td>\n",
       "            <td style=\"padding: 0 0.5em 0 0.5em; text-align: left; border: none;\">\n",
       "                season_tr_spring\n",
       "            </td>\n",
       "        </tr>\n",
       "    \n",
       "        <tr style=\"background-color: hsl(120, 100.00%, 98.60%); border: none;\">\n",
       "            <td style=\"padding: 0 1em 0 0.5em; text-align: right; border: none;\">\n",
       "                0.0085\n",
       "                \n",
       "                    &plusmn; 0.0050\n",
       "                \n",
       "            </td>\n",
       "            <td style=\"padding: 0 0.5em 0 0.5em; text-align: left; border: none;\">\n",
       "                hour_of_day_tr_Morning\n",
       "            </td>\n",
       "        </tr>\n",
       "    \n",
       "        <tr style=\"background-color: hsl(120, 100.00%, 98.72%); border: none;\">\n",
       "            <td style=\"padding: 0 1em 0 0.5em; text-align: right; border: none;\">\n",
       "                0.0075\n",
       "                \n",
       "                    &plusmn; 0.0082\n",
       "                \n",
       "            </td>\n",
       "            <td style=\"padding: 0 0.5em 0 0.5em; text-align: left; border: none;\">\n",
       "                weathersit_tr_Mist\n",
       "            </td>\n",
       "        </tr>\n",
       "    \n",
       "        <tr style=\"background-color: hsl(120, 100.00%, 99.62%); border: none;\">\n",
       "            <td style=\"padding: 0 1em 0 0.5em; text-align: right; border: none;\">\n",
       "                0.0013\n",
       "                \n",
       "                    &plusmn; 0.0008\n",
       "                \n",
       "            </td>\n",
       "            <td style=\"padding: 0 0.5em 0 0.5em; text-align: left; border: none;\">\n",
       "                holiday\n",
       "            </td>\n",
       "        </tr>\n",
       "    \n",
       "        <tr style=\"background-color: hsl(0, 100.00%, 100.00%); border: none;\">\n",
       "            <td style=\"padding: 0 1em 0 0.5em; text-align: right; border: none;\">\n",
       "                0\n",
       "                \n",
       "                    &plusmn; 0.0000\n",
       "                \n",
       "            </td>\n",
       "            <td style=\"padding: 0 0.5em 0 0.5em; text-align: left; border: none;\">\n",
       "                weathersit_tr_Heavy_Rain\n",
       "            </td>\n",
       "        </tr>\n",
       "    \n",
       "    \n",
       "    </tbody>\n",
       "</table>\n",
       "    \n",
       "\n",
       "    \n",
       "\n",
       "\n",
       "    \n",
       "\n",
       "    \n",
       "\n",
       "    \n",
       "\n",
       "    \n",
       "\n",
       "    \n",
       "\n",
       "    \n",
       "\n",
       "\n",
       "\n"
      ],
      "text/plain": [
       "<IPython.core.display.HTML object>"
      ]
     },
     "execution_count": 50,
     "metadata": {},
     "output_type": "execute_result"
    }
   ],
   "source": [
    "X_train, X_val, y_train, y_val = train_test_split(X,y, test_size = 0.2)\n",
    "model = RandomForestRegressor(random_state  = 23).fit(X_train, y_train)\n",
    "perm = PermutationImportance(model, random_state = 23).fit(X_val,y_val)\n",
    "\n",
    "eli5.show_weights(perm,feature_names = X_val.columns.to_list())"
   ]
  },
  {
   "cell_type": "code",
   "execution_count": 51,
   "metadata": {
    "execution": {
     "iopub.execute_input": "2021-09-08T20:18:45.735338Z",
     "iopub.status.busy": "2021-09-08T20:18:45.735055Z",
     "iopub.status.idle": "2021-09-08T20:18:45.739251Z",
     "shell.execute_reply": "2021-09-08T20:18:45.738345Z",
     "shell.execute_reply.started": "2021-09-08T20:18:45.735309Z"
    }
   },
   "outputs": [],
   "source": [
    "features = [\"hour_of_day_tr_Evening\", \"temp\", \"hour_of_day_tr_Night\",\"hour_of_day_tr_Early_Morning\", \"hum\", \"workingday\", \"windspeed\"]"
   ]
  },
  {
   "cell_type": "code",
   "execution_count": 52,
   "metadata": {
    "execution": {
     "iopub.execute_input": "2021-09-08T20:18:45.740855Z",
     "iopub.status.busy": "2021-09-08T20:18:45.740546Z",
     "iopub.status.idle": "2021-09-08T20:18:45.754331Z",
     "shell.execute_reply": "2021-09-08T20:18:45.753477Z",
     "shell.execute_reply.started": "2021-09-08T20:18:45.740826Z"
    }
   },
   "outputs": [],
   "source": [
    "X_sel = X[features]"
   ]
  },
  {
   "cell_type": "code",
   "execution_count": 53,
   "metadata": {
    "execution": {
     "iopub.execute_input": "2021-09-08T20:18:45.755917Z",
     "iopub.status.busy": "2021-09-08T20:18:45.755402Z",
     "iopub.status.idle": "2021-09-08T20:18:45.773148Z",
     "shell.execute_reply": "2021-09-08T20:18:45.772107Z",
     "shell.execute_reply.started": "2021-09-08T20:18:45.755885Z"
    }
   },
   "outputs": [],
   "source": [
    "X_train, X_val, y_train, y_val = train_test_split(X_sel, y, test_size = 0.2, random_state = 23)"
   ]
  },
  {
   "cell_type": "code",
   "execution_count": 54,
   "metadata": {
    "execution": {
     "iopub.execute_input": "2021-09-08T20:18:45.775122Z",
     "iopub.status.busy": "2021-09-08T20:18:45.774662Z",
     "iopub.status.idle": "2021-09-08T20:18:45.832209Z",
     "shell.execute_reply": "2021-09-08T20:18:45.831470Z",
     "shell.execute_reply.started": "2021-09-08T20:18:45.775078Z"
    }
   },
   "outputs": [
    {
     "data": {
      "text/plain": [
       "(array([ 104.75205124,  185.3434957 , -115.60579071,  -89.99049446,\n",
       "         -77.36863797,   38.93588363,  -43.62667081]),\n",
       " 122.64690961724189)"
      ]
     },
     "execution_count": 54,
     "metadata": {},
     "output_type": "execute_result"
    }
   ],
   "source": [
    "# Linear Regressor\n",
    "from sklearn.linear_model import LinearRegression\n",
    "lr = LinearRegression()\n",
    "lr.fit(X_train, y_train)\n",
    "lr.coef_, lr.intercept_"
   ]
  },
  {
   "cell_type": "code",
   "execution_count": 76,
   "metadata": {
    "execution": {
     "iopub.execute_input": "2021-09-08T20:26:35.492870Z",
     "iopub.status.busy": "2021-09-08T20:26:35.492446Z",
     "iopub.status.idle": "2021-09-08T20:26:35.504182Z",
     "shell.execute_reply": "2021-09-08T20:26:35.503310Z",
     "shell.execute_reply.started": "2021-09-08T20:26:35.492833Z"
    }
   },
   "outputs": [
    {
     "name": "stdout",
     "output_type": "stream",
     "text": [
      "Training error : 115.172\n"
     ]
    }
   ],
   "source": [
    "y_train_pred = lr.predict(X_train)\n",
    "from sklearn.metrics import mean_squared_error\n",
    "err = np.sqrt(mean_squared_error(y_train_pred, y_train))\n",
    "print(\"Training error : %.3f\" %(err))"
   ]
  },
  {
   "cell_type": "code",
   "execution_count": 56,
   "metadata": {
    "execution": {
     "iopub.execute_input": "2021-09-08T20:18:45.859534Z",
     "iopub.status.busy": "2021-09-08T20:18:45.858991Z",
     "iopub.status.idle": "2021-09-08T20:18:46.350918Z",
     "shell.execute_reply": "2021-09-08T20:18:46.350009Z",
     "shell.execute_reply.started": "2021-09-08T20:18:45.859482Z"
    }
   },
   "outputs": [
    {
     "data": {
      "image/png": "[encoded data removed]",
      "text/plain": [
       "<Figure size 360x360 with 1 Axes>"
      ]
     },
     "metadata": {
      "needs_background": "light"
     },
     "output_type": "display_data"
    }
   ],
   "source": [
    "sns.displot((y_train - y_train_pred))\n",
    "plt.show()"
   ]
  },
  {
   "cell_type": "markdown",
   "metadata": {},
   "source": [
    "The errors or residuals are normally distributed"
   ]
  },
  {
   "cell_type": "code",
   "execution_count": 64,
   "metadata": {
    "execution": {
     "iopub.execute_input": "2021-09-08T20:23:11.400344Z",
     "iopub.status.busy": "2021-09-08T20:23:11.399593Z",
     "iopub.status.idle": "2021-09-08T20:23:11.605116Z",
     "shell.execute_reply": "2021-09-08T20:23:11.603972Z",
     "shell.execute_reply.started": "2021-09-08T20:23:11.400306Z"
    }
   },
   "outputs": [
    {
     "data": {
      "image/png": "[encoded data removed]",
      "text/plain": [
       "<Figure size 432x288 with 1 Axes>"
      ]
     },
     "metadata": {
      "needs_background": "light"
     },
     "output_type": "display_data"
    }
   ],
   "source": [
    "sns.scatterplot(x = y_train_pred, y =  y_train)\n",
    "plt.show()"
   ]
  },
  {
   "cell_type": "code",
   "execution_count": 75,
   "metadata": {
    "execution": {
     "iopub.execute_input": "2021-09-08T20:26:05.687989Z",
     "iopub.status.busy": "2021-09-08T20:26:05.687595Z",
     "iopub.status.idle": "2021-09-08T20:26:05.702982Z",
     "shell.execute_reply": "2021-09-08T20:26:05.702055Z",
     "shell.execute_reply.started": "2021-09-08T20:26:05.687952Z"
    }
   },
   "outputs": [
    {
     "name": "stdout",
     "output_type": "stream",
     "text": [
      "Validation error : 113.472\n"
     ]
    },
    {
     "data": {
      "text/plain": [
       "113.4719096163741"
      ]
     },
     "execution_count": 75,
     "metadata": {},
     "output_type": "execute_result"
    }
   ],
   "source": [
    "# lets us check the error in Validation set\n",
    "y_val_pred_lr = lr.predict(X_val)\n",
    "err = np.sqrt(mean_squared_error(y_val, y_val_pred_lr))\n",
    "print(\"Validation error : %.3f\" %(err))"
   ]
  },
  {
   "cell_type": "code",
   "execution_count": 58,
   "metadata": {
    "execution": {
     "iopub.execute_input": "2021-09-08T20:18:46.371147Z",
     "iopub.status.busy": "2021-09-08T20:18:46.370461Z",
     "iopub.status.idle": "2021-09-08T20:18:46.817991Z",
     "shell.execute_reply": "2021-09-08T20:18:46.817061Z",
     "shell.execute_reply.started": "2021-09-08T20:18:46.371102Z"
    }
   },
   "outputs": [
    {
     "data": {
      "image/png": "[encoded data removed]",
      "text/plain": [
       "<Figure size 360x360 with 1 Axes>"
      ]
     },
     "metadata": {
      "needs_background": "light"
     },
     "output_type": "display_data"
    }
   ],
   "source": [
    "sns.displot((y_val - y_val_pred_lr))\n",
    "plt.show()"
   ]
  },
  {
   "cell_type": "code",
   "execution_count": 69,
   "metadata": {
    "execution": {
     "iopub.execute_input": "2021-09-08T20:24:18.573047Z",
     "iopub.status.busy": "2021-09-08T20:24:18.572655Z",
     "iopub.status.idle": "2021-09-08T20:24:18.751611Z",
     "shell.execute_reply": "2021-09-08T20:24:18.750611Z",
     "shell.execute_reply.started": "2021-09-08T20:24:18.573017Z"
    }
   },
   "outputs": [
    {
     "data": {
      "image/png": "[encoded data removed]",
      "text/plain": [
       "<Figure size 432x288 with 1 Axes>"
      ]
     },
     "metadata": {
      "needs_background": "light"
     },
     "output_type": "display_data"
    }
   ],
   "source": [
    "sns.scatterplot(x = y_val_pred_lr, y =  y_val)\n",
    "plt.show()"
   ]
  },
  {
   "cell_type": "markdown",
   "metadata": {},
   "source": [
    "The Linear regression scores does not vary much between training and validation set. Lets explore other models "
   ]
  },
  {
   "cell_type": "code",
   "execution_count": 78,
   "metadata": {
    "execution": {
     "iopub.execute_input": "2021-09-08T20:29:40.762137Z",
     "iopub.status.busy": "2021-09-08T20:29:40.761341Z",
     "iopub.status.idle": "2021-09-08T20:29:43.212955Z",
     "shell.execute_reply": "2021-09-08T20:29:43.211597Z",
     "shell.execute_reply.started": "2021-09-08T20:29:40.762082Z"
    }
   },
   "outputs": [
    {
     "name": "stdout",
     "output_type": "stream",
     "text": [
      "Training error : 54.659\n"
     ]
    }
   ],
   "source": [
    "## Random Forest Regressor\n",
    "rf = RandomForestRegressor()\n",
    "rf.fit(X_train, y_train)\n",
    "\n",
    "y_train_pred_rf = rf.predict(X_train)\n",
    "err = np.sqrt(mean_squared_error(y_train_pred_rf, y_train))\n",
    "print(\"Training error : %.3f\" %(err))"
   ]
  },
  {
   "cell_type": "code",
   "execution_count": 80,
   "metadata": {
    "execution": {
     "iopub.execute_input": "2021-09-08T20:30:22.895722Z",
     "iopub.status.busy": "2021-09-08T20:30:22.894966Z",
     "iopub.status.idle": "2021-09-08T20:30:23.688847Z",
     "shell.execute_reply": "2021-09-08T20:30:23.687692Z",
     "shell.execute_reply.started": "2021-09-08T20:30:22.895667Z"
    }
   },
   "outputs": [
    {
     "data": {
      "image/png": "[encoded data removed]",
      "text/plain": [
       "<Figure size 360x360 with 1 Axes>"
      ]
     },
     "metadata": {
      "needs_background": "light"
     },
     "output_type": "display_data"
    }
   ],
   "source": [
    "sns.displot(y_train - y_train_pred_rf)\n",
    "plt.show()"
   ]
  },
  {
   "cell_type": "code",
   "execution_count": 81,
   "metadata": {
    "execution": {
     "iopub.execute_input": "2021-09-08T20:31:20.532954Z",
     "iopub.status.busy": "2021-09-08T20:31:20.532299Z",
     "iopub.status.idle": "2021-09-08T20:31:20.643885Z",
     "shell.execute_reply": "2021-09-08T20:31:20.642938Z",
     "shell.execute_reply.started": "2021-09-08T20:31:20.532878Z"
    }
   },
   "outputs": [
    {
     "name": "stdout",
     "output_type": "stream",
     "text": [
      "Validation error : 109.906\n"
     ]
    }
   ],
   "source": [
    "y_val_pred_rf = rf.predict(X_val)\n",
    "err = np.sqrt(mean_squared_error(y_val_pred_rf, y_val))\n",
    "print(\"Validation error : %.3f\" %(err))"
   ]
  },
  {
   "cell_type": "markdown",
   "metadata": {},
   "source": [
    "The Random forest is overfitting the data. However, the validation score is still better than the Linear Regression"
   ]
  },
  {
   "cell_type": "code",
   "execution_count": 103,
   "metadata": {
    "execution": {
     "iopub.execute_input": "2021-09-08T20:51:02.702288Z",
     "iopub.status.busy": "2021-09-08T20:51:02.701236Z",
     "iopub.status.idle": "2021-09-08T20:51:02.707436Z",
     "shell.execute_reply": "2021-09-08T20:51:02.705934Z",
     "shell.execute_reply.started": "2021-09-08T20:51:02.702249Z"
    }
   },
   "outputs": [],
   "source": [
    "from sklearn.model_selection import GridSearchCV, RandomizedSearchCV"
   ]
  },
  {
   "cell_type": "code",
   "execution_count": 104,
   "metadata": {
    "execution": {
     "iopub.execute_input": "2021-09-08T20:51:18.142796Z",
     "iopub.status.busy": "2021-09-08T20:51:18.142403Z",
     "iopub.status.idle": "2021-09-08T20:53:14.982226Z",
     "shell.execute_reply": "2021-09-08T20:53:14.981045Z",
     "shell.execute_reply.started": "2021-09-08T20:51:18.142763Z"
    }
   },
   "outputs": [
    {
     "name": "stdout",
     "output_type": "stream",
     "text": [
      "Fitting 5 folds for each of 10 candidates, totalling 50 fits\n"
     ]
    },
    {
     "name": "stderr",
     "output_type": "stream",
     "text": [
      "[Parallel(n_jobs=-1)]: Using backend LokyBackend with 4 concurrent workers.\n",
      "[Parallel(n_jobs=-1)]: Done  33 tasks      | elapsed:  1.2min\n",
      "[Parallel(n_jobs=-1)]: Done  50 out of  50 | elapsed:  1.8min finished\n"
     ]
    },
    {
     "data": {
      "text/plain": [
       "RandomizedSearchCV(cv=5, estimator=RandomForestRegressor(), n_jobs=-1,\n",
       "                   param_distributions=[{'bootstrap': [True, False],\n",
       "                                         'max_depth': range(5, 45, 5),\n",
       "                                         'min_samples_split': range(10, 210, 10),\n",
       "                                         'n_estimators': range(100, 1010, 10)}],\n",
       "                   scoring='neg_mean_squared_error', verbose=2)"
      ]
     },
     "execution_count": 104,
     "metadata": {},
     "output_type": "execute_result"
    }
   ],
   "source": [
    "# Tuning Random Forest\n",
    "rf.get_params()\n",
    "\n",
    "param_grid = [{\"max_depth\": range(5,45,5),\n",
    "               \"min_samples_split\": range(10,210, 10),\n",
    "               \"n_estimators\": range(100,1010,10),\n",
    "              \"bootstrap\": [True, False]}]\n",
    "\n",
    "rSearch = RandomizedSearchCV(rf, param_grid, cv = 5, scoring = 'neg_mean_squared_error', n_jobs =-1, verbose = 2)\n",
    "rSearch.fit(X_train, y_train)"
   ]
  },
  {
   "cell_type": "code",
   "execution_count": 111,
   "metadata": {
    "execution": {
     "iopub.execute_input": "2021-09-08T20:57:12.142906Z",
     "iopub.status.busy": "2021-09-08T20:57:12.142499Z",
     "iopub.status.idle": "2021-09-08T20:57:12.152414Z",
     "shell.execute_reply": "2021-09-08T20:57:12.151404Z",
     "shell.execute_reply.started": "2021-09-08T20:57:12.142875Z"
    }
   },
   "outputs": [
    {
     "name": "stdout",
     "output_type": "stream",
     "text": [
      "{'n_estimators': 140, 'min_samples_split': 130, 'max_depth': 10, 'bootstrap': False} 105.52081405686812\n",
      "{'n_estimators': 120, 'min_samples_split': 170, 'max_depth': 40, 'bootstrap': False} 105.71068841084022\n",
      "{'n_estimators': 1000, 'min_samples_split': 30, 'max_depth': 30, 'bootstrap': True} 103.24068326056411\n",
      "{'n_estimators': 920, 'min_samples_split': 140, 'max_depth': 20, 'bootstrap': True} 103.45180097306627\n",
      "{'n_estimators': 150, 'min_samples_split': 30, 'max_depth': 10, 'bootstrap': False} 106.77107192164847\n",
      "{'n_estimators': 500, 'min_samples_split': 150, 'max_depth': 5, 'bootstrap': False} 106.56082155924149\n",
      "{'n_estimators': 660, 'min_samples_split': 50, 'max_depth': 20, 'bootstrap': False} 108.84810547107638\n",
      "{'n_estimators': 490, 'min_samples_split': 100, 'max_depth': 20, 'bootstrap': False} 106.82513212687432\n",
      "{'n_estimators': 110, 'min_samples_split': 100, 'max_depth': 15, 'bootstrap': True} 103.33809784794087\n",
      "{'n_estimators': 850, 'min_samples_split': 90, 'max_depth': 30, 'bootstrap': True} 103.19662508943884\n"
     ]
    }
   ],
   "source": [
    "for param,result in zip(rSearch.cv_results_[\"params\"], rSearch.cv_results_[\"mean_test_score\"]):\n",
    "    print(param, np.sqrt(-result))"
   ]
  },
  {
   "cell_type": "code",
   "execution_count": 114,
   "metadata": {
    "execution": {
     "iopub.execute_input": "2021-09-08T21:00:23.394203Z",
     "iopub.status.busy": "2021-09-08T21:00:23.393789Z",
     "iopub.status.idle": "2021-09-08T21:00:23.400495Z",
     "shell.execute_reply": "2021-09-08T21:00:23.399763Z",
     "shell.execute_reply.started": "2021-09-08T21:00:23.394161Z"
    }
   },
   "outputs": [
    {
     "data": {
      "text/plain": [
       "(RandomForestRegressor(max_depth=30, min_samples_split=90, n_estimators=850),\n",
       " 103.19662508943884)"
      ]
     },
     "execution_count": 114,
     "metadata": {},
     "output_type": "execute_result"
    }
   ],
   "source": [
    "rSearch.best_estimator_, np.sqrt(-rSearch.best_score_)"
   ]
  },
  {
   "cell_type": "code",
   "execution_count": 138,
   "metadata": {
    "execution": {
     "iopub.execute_input": "2021-09-08T21:20:01.934359Z",
     "iopub.status.busy": "2021-09-08T21:20:01.934014Z",
     "iopub.status.idle": "2021-09-08T21:20:12.442672Z",
     "shell.execute_reply": "2021-09-08T21:20:12.441574Z",
     "shell.execute_reply.started": "2021-09-08T21:20:01.934329Z"
    }
   },
   "outputs": [
    {
     "name": "stdout",
     "output_type": "stream",
     "text": [
      "Training Error after tuning :  97.388\n"
     ]
    }
   ],
   "source": [
    "final_model = rSearch.best_estimator_\n",
    "final_model.fit(X_train, y_train)\n",
    "\n",
    "y_train_pred = final_model.predict(X_train)\n",
    "tr_err = np.sqrt(mean_squared_error(y_train, y_train_pred))\n",
    "print(\"Training Error after tuning :  %.3f\" %(tr_err))"
   ]
  },
  {
   "cell_type": "code",
   "execution_count": 141,
   "metadata": {
    "execution": {
     "iopub.execute_input": "2021-09-08T21:20:47.723497Z",
     "iopub.status.busy": "2021-09-08T21:20:47.723114Z",
     "iopub.status.idle": "2021-09-08T21:20:48.009438Z",
     "shell.execute_reply": "2021-09-08T21:20:48.008264Z",
     "shell.execute_reply.started": "2021-09-08T21:20:47.723461Z"
    }
   },
   "outputs": [
    {
     "name": "stdout",
     "output_type": "stream",
     "text": [
      "Validation Error after tuning:  100.485\n"
     ]
    }
   ],
   "source": [
    "y_val_pred_rf = final_model.predict(X_val)\n",
    "val_err = np.sqrt(mean_squared_error(y_val, y_val_pred_rf))\n",
    "print(\"Validation Error after tuning:  %.3f\" %(val_err))"
   ]
  },
  {
   "cell_type": "code",
   "execution_count": 125,
   "metadata": {
    "execution": {
     "iopub.execute_input": "2021-09-08T21:11:39.998452Z",
     "iopub.status.busy": "2021-09-08T21:11:39.998053Z",
     "iopub.status.idle": "2021-09-08T21:11:40.019790Z",
     "shell.execute_reply": "2021-09-08T21:11:40.018688Z",
     "shell.execute_reply.started": "2021-09-08T21:11:39.998420Z"
    }
   },
   "outputs": [
    {
     "data": {
      "text/html": [
       "<div>\n",
       "<style scoped>\n",
       "    .dataframe tbody tr th:only-of-type {\n",
       "        vertical-align: middle;\n",
       "    }\n",
       "\n",
       "    .dataframe tbody tr th {\n",
       "        vertical-align: top;\n",
       "    }\n",
       "\n",
       "    .dataframe thead th {\n",
       "        text-align: right;\n",
       "    }\n",
       "</style>\n",
       "<table border=\"1\" class=\"dataframe\">\n",
       "  <thead>\n",
       "    <tr style=\"text-align: right;\">\n",
       "      <th></th>\n",
       "      <th>instant</th>\n",
       "      <th>dteday</th>\n",
       "      <th>season</th>\n",
       "      <th>yr</th>\n",
       "      <th>mnth</th>\n",
       "      <th>hr</th>\n",
       "      <th>holiday</th>\n",
       "      <th>weekday</th>\n",
       "      <th>workingday</th>\n",
       "      <th>weathersit</th>\n",
       "      <th>temp</th>\n",
       "      <th>atemp</th>\n",
       "      <th>hum</th>\n",
       "      <th>windspeed</th>\n",
       "      <th>casual</th>\n",
       "      <th>registered</th>\n",
       "      <th>cnt</th>\n",
       "    </tr>\n",
       "  </thead>\n",
       "  <tbody>\n",
       "    <tr>\n",
       "      <th>16265</th>\n",
       "      <td>16266</td>\n",
       "      <td>2012-11-15</td>\n",
       "      <td>4</td>\n",
       "      <td>1</td>\n",
       "      <td>11</td>\n",
       "      <td>11</td>\n",
       "      <td>0</td>\n",
       "      <td>4</td>\n",
       "      <td>1</td>\n",
       "      <td>2</td>\n",
       "      <td>0.34</td>\n",
       "      <td>0.3333</td>\n",
       "      <td>0.61</td>\n",
       "      <td>0.1343</td>\n",
       "      <td>28</td>\n",
       "      <td>138</td>\n",
       "      <td>166</td>\n",
       "    </tr>\n",
       "    <tr>\n",
       "      <th>10164</th>\n",
       "      <td>10165</td>\n",
       "      <td>2012-03-04</td>\n",
       "      <td>1</td>\n",
       "      <td>1</td>\n",
       "      <td>3</td>\n",
       "      <td>14</td>\n",
       "      <td>0</td>\n",
       "      <td>0</td>\n",
       "      <td>0</td>\n",
       "      <td>1</td>\n",
       "      <td>0.36</td>\n",
       "      <td>0.3333</td>\n",
       "      <td>0.34</td>\n",
       "      <td>0.3582</td>\n",
       "      <td>106</td>\n",
       "      <td>226</td>\n",
       "      <td>332</td>\n",
       "    </tr>\n",
       "    <tr>\n",
       "      <th>7894</th>\n",
       "      <td>7895</td>\n",
       "      <td>2011-11-30</td>\n",
       "      <td>4</td>\n",
       "      <td>0</td>\n",
       "      <td>11</td>\n",
       "      <td>14</td>\n",
       "      <td>0</td>\n",
       "      <td>3</td>\n",
       "      <td>1</td>\n",
       "      <td>2</td>\n",
       "      <td>0.38</td>\n",
       "      <td>0.3939</td>\n",
       "      <td>0.43</td>\n",
       "      <td>0.3582</td>\n",
       "      <td>13</td>\n",
       "      <td>99</td>\n",
       "      <td>112</td>\n",
       "    </tr>\n",
       "    <tr>\n",
       "      <th>2299</th>\n",
       "      <td>2300</td>\n",
       "      <td>2011-04-10</td>\n",
       "      <td>2</td>\n",
       "      <td>0</td>\n",
       "      <td>4</td>\n",
       "      <td>16</td>\n",
       "      <td>0</td>\n",
       "      <td>0</td>\n",
       "      <td>0</td>\n",
       "      <td>2</td>\n",
       "      <td>0.52</td>\n",
       "      <td>0.5000</td>\n",
       "      <td>0.72</td>\n",
       "      <td>0.1642</td>\n",
       "      <td>135</td>\n",
       "      <td>153</td>\n",
       "      <td>288</td>\n",
       "    </tr>\n",
       "    <tr>\n",
       "      <th>13553</th>\n",
       "      <td>13554</td>\n",
       "      <td>2012-07-23</td>\n",
       "      <td>3</td>\n",
       "      <td>1</td>\n",
       "      <td>7</td>\n",
       "      <td>22</td>\n",
       "      <td>0</td>\n",
       "      <td>1</td>\n",
       "      <td>1</td>\n",
       "      <td>1</td>\n",
       "      <td>0.74</td>\n",
       "      <td>0.6818</td>\n",
       "      <td>0.62</td>\n",
       "      <td>0.1940</td>\n",
       "      <td>40</td>\n",
       "      <td>169</td>\n",
       "      <td>209</td>\n",
       "    </tr>\n",
       "  </tbody>\n",
       "</table>\n",
       "</div>"
      ],
      "text/plain": [
       "       instant      dteday  season  yr  mnth  hr  holiday  weekday  \\\n",
       "16265    16266  2012-11-15       4   1    11  11        0        4   \n",
       "10164    10165  2012-03-04       1   1     3  14        0        0   \n",
       "7894      7895  2011-11-30       4   0    11  14        0        3   \n",
       "2299      2300  2011-04-10       2   0     4  16        0        0   \n",
       "13553    13554  2012-07-23       3   1     7  22        0        1   \n",
       "\n",
       "       workingday  weathersit  temp   atemp   hum  windspeed  casual  \\\n",
       "16265           1           2  0.34  0.3333  0.61     0.1343      28   \n",
       "10164           0           1  0.36  0.3333  0.34     0.3582     106   \n",
       "7894            1           2  0.38  0.3939  0.43     0.3582      13   \n",
       "2299            0           2  0.52  0.5000  0.72     0.1642     135   \n",
       "13553           1           1  0.74  0.6818  0.62     0.1940      40   \n",
       "\n",
       "       registered  cnt  \n",
       "16265         138  166  \n",
       "10164         226  332  \n",
       "7894           99  112  \n",
       "2299          153  288  \n",
       "13553         169  209  "
      ]
     },
     "execution_count": 125,
     "metadata": {},
     "output_type": "execute_result"
    }
   ],
   "source": [
    "# Performance on Test \n",
    "test_hour.head()"
   ]
  },
  {
   "cell_type": "markdown",
   "metadata": {},
   "source": [
    "#### Tranformation of test dataset"
   ]
  },
  {
   "cell_type": "code",
   "execution_count": 130,
   "metadata": {
    "execution": {
     "iopub.execute_input": "2021-09-08T21:14:38.486359Z",
     "iopub.status.busy": "2021-09-08T21:14:38.485667Z",
     "iopub.status.idle": "2021-09-08T21:14:38.530829Z",
     "shell.execute_reply": "2021-09-08T21:14:38.529512Z",
     "shell.execute_reply.started": "2021-09-08T21:14:38.486282Z"
    }
   },
   "outputs": [],
   "source": [
    "test_hour_tr = col_trans.transform(test_hour)\n",
    "test_hour_tr_encoded = pd.get_dummies(test_hour_tr.drop('dteday', axis = 1), drop_first= True)\n",
    "test_hour_fin = test_hour_tr_encoded.drop([\"casual\", \"registered\", \"cnt\",\"atemp\"], axis = 1)\n",
    "y_test = test_hour_tr_encoded[\"registered\"]"
   ]
  },
  {
   "cell_type": "code",
   "execution_count": 146,
   "metadata": {
    "execution": {
     "iopub.execute_input": "2021-09-08T21:23:09.675326Z",
     "iopub.status.busy": "2021-09-08T21:23:09.674756Z",
     "iopub.status.idle": "2021-09-08T21:23:09.697367Z",
     "shell.execute_reply": "2021-09-08T21:23:09.696126Z",
     "shell.execute_reply.started": "2021-09-08T21:23:09.675277Z"
    }
   },
   "outputs": [
    {
     "data": {
      "text/html": [
       "<div>\n",
       "<style scoped>\n",
       "    .dataframe tbody tr th:only-of-type {\n",
       "        vertical-align: middle;\n",
       "    }\n",
       "\n",
       "    .dataframe tbody tr th {\n",
       "        vertical-align: top;\n",
       "    }\n",
       "\n",
       "    .dataframe thead th {\n",
       "        text-align: right;\n",
       "    }\n",
       "</style>\n",
       "<table border=\"1\" class=\"dataframe\">\n",
       "  <thead>\n",
       "    <tr style=\"text-align: right;\">\n",
       "      <th></th>\n",
       "      <th>hour_of_day_tr_Evening</th>\n",
       "      <th>temp</th>\n",
       "      <th>hour_of_day_tr_Night</th>\n",
       "      <th>hour_of_day_tr_Early_Morning</th>\n",
       "      <th>hum</th>\n",
       "      <th>workingday</th>\n",
       "      <th>windspeed</th>\n",
       "    </tr>\n",
       "  </thead>\n",
       "  <tbody>\n",
       "    <tr>\n",
       "      <th>16265</th>\n",
       "      <td>0</td>\n",
       "      <td>0.34</td>\n",
       "      <td>0</td>\n",
       "      <td>0</td>\n",
       "      <td>0.61</td>\n",
       "      <td>1</td>\n",
       "      <td>0.1343</td>\n",
       "    </tr>\n",
       "    <tr>\n",
       "      <th>10164</th>\n",
       "      <td>0</td>\n",
       "      <td>0.36</td>\n",
       "      <td>0</td>\n",
       "      <td>0</td>\n",
       "      <td>0.34</td>\n",
       "      <td>0</td>\n",
       "      <td>0.3582</td>\n",
       "    </tr>\n",
       "    <tr>\n",
       "      <th>7894</th>\n",
       "      <td>0</td>\n",
       "      <td>0.38</td>\n",
       "      <td>0</td>\n",
       "      <td>0</td>\n",
       "      <td>0.43</td>\n",
       "      <td>1</td>\n",
       "      <td>0.3582</td>\n",
       "    </tr>\n",
       "    <tr>\n",
       "      <th>2299</th>\n",
       "      <td>0</td>\n",
       "      <td>0.52</td>\n",
       "      <td>0</td>\n",
       "      <td>0</td>\n",
       "      <td>0.72</td>\n",
       "      <td>0</td>\n",
       "      <td>0.1642</td>\n",
       "    </tr>\n",
       "    <tr>\n",
       "      <th>13553</th>\n",
       "      <td>0</td>\n",
       "      <td>0.74</td>\n",
       "      <td>1</td>\n",
       "      <td>0</td>\n",
       "      <td>0.62</td>\n",
       "      <td>1</td>\n",
       "      <td>0.1940</td>\n",
       "    </tr>\n",
       "  </tbody>\n",
       "</table>\n",
       "</div>"
      ],
      "text/plain": [
       "       hour_of_day_tr_Evening  temp  hour_of_day_tr_Night  \\\n",
       "16265                       0  0.34                     0   \n",
       "10164                       0  0.36                     0   \n",
       "7894                        0  0.38                     0   \n",
       "2299                        0  0.52                     0   \n",
       "13553                       0  0.74                     1   \n",
       "\n",
       "       hour_of_day_tr_Early_Morning   hum  workingday  windspeed  \n",
       "16265                             0  0.61           1     0.1343  \n",
       "10164                             0  0.34           0     0.3582  \n",
       "7894                              0  0.43           1     0.3582  \n",
       "2299                              0  0.72           0     0.1642  \n",
       "13553                             0  0.62           1     0.1940  "
      ]
     },
     "execution_count": 146,
     "metadata": {},
     "output_type": "execute_result"
    }
   ],
   "source": [
    "X_test = test_hour_fin[features]\n",
    "X_test.head()"
   ]
  },
  {
   "cell_type": "code",
   "execution_count": 140,
   "metadata": {
    "execution": {
     "iopub.execute_input": "2021-09-08T21:20:32.512023Z",
     "iopub.status.busy": "2021-09-08T21:20:32.511439Z",
     "iopub.status.idle": "2021-09-08T21:20:32.851194Z",
     "shell.execute_reply": "2021-09-08T21:20:32.850178Z",
     "shell.execute_reply.started": "2021-09-08T21:20:32.511973Z"
    }
   },
   "outputs": [
    {
     "name": "stdout",
     "output_type": "stream",
     "text": [
      "Testing error: 104.615\n"
     ]
    }
   ],
   "source": [
    "y_test_pred = final_model.predict(X_test)\n",
    "\n",
    "test_err = np.sqrt(mean_squared_error(y_test, y_test_pred))\n",
    "\n",
    "print(\"Testing error: %.3f\" %(test_err))"
   ]
  },
  {
   "cell_type": "code",
   "execution_count": 145,
   "metadata": {
    "execution": {
     "iopub.execute_input": "2021-09-08T21:21:57.462659Z",
     "iopub.status.busy": "2021-09-08T21:21:57.462284Z",
     "iopub.status.idle": "2021-09-08T21:21:57.892430Z",
     "shell.execute_reply": "2021-09-08T21:21:57.891308Z",
     "shell.execute_reply.started": "2021-09-08T21:21:57.462618Z"
    }
   },
   "outputs": [
    {
     "data": {
      "image/png": "[encoded data removed]",
      "text/plain": [
       "<Figure size 360x360 with 1 Axes>"
      ]
     },
     "metadata": {
      "needs_background": "light"
     },
     "output_type": "display_data"
    }
   ],
   "source": [
    "sns.displot( y_test - y_test_pred)\n",
    "plt.show()"
   ]
  },
  {
   "cell_type": "code",
   "execution_count": 149,
   "metadata": {
    "execution": {
     "iopub.execute_input": "2021-09-08T21:39:19.615288Z",
     "iopub.status.busy": "2021-09-08T21:39:19.614872Z",
     "iopub.status.idle": "2021-09-08T21:39:19.627629Z",
     "shell.execute_reply": "2021-09-08T21:39:19.626547Z",
     "shell.execute_reply.started": "2021-09-08T21:39:19.615254Z"
    }
   },
   "outputs": [
    {
     "data": {
      "text/plain": [
       "array([100.06301336, 108.97658938])"
      ]
     },
     "execution_count": 149,
     "metadata": {},
     "output_type": "execute_result"
    }
   ],
   "source": [
    "# Standard error of mean\n",
    "from scipy import stats\n",
    "conf = 0.95 \n",
    "sq_errs = (y_test  - y_test_pred) ** 2\n",
    "dof = len(sq_errs)-1\n",
    "mean_of_sq_errors = sq_errs.mean()\n",
    "standard_error_of_mean = stats.sem(sq_errs) # Standard_Dev/sq.root of sample size\n",
    "\n",
    "#The confidence Interval of the error\n",
    "np.sqrt(stats.t.interval(conf, dof, loc = mean_of_sq_errors, scale = standard_error_of_mean))"
   ]
  },
  {
   "cell_type": "markdown",
   "metadata": {},
   "source": [
    "### Summary\n",
    "\n",
    "After the feature selection, the below variables were found out to be important that the others\n",
    "\n",
    "* hour_of_day_tr_Evening\n",
    "* temp\n",
    "* hour_of_day_tr_Night\n",
    "* hour_of_day_tr_Early_Morning\n",
    "* hum\n",
    "* workingday\n",
    "* windspeed\n",
    "\n",
    "Though the Linear Regressor was stable between the train and test samples, a Random Forest Regressor predict with least error. The score further improved after the hyperparamter tuning using Randomised Search CV and the best estimator was used to check the score/performance of the test data. \n",
    "\n",
    "However, the prediction errors can be in the range of 100 to 109.\n",
    "\n",
    "Next Steps - A more confident result could be obained if GridSearchCV were tried instead of RandomizedSearchCV in the hyperparamter tuning and if other models could be explored.\n",
    "Similar model should be created for \"Casual\" counts and then the \"Registered\" and the \"Casual\" can be summed up to determine the \"Cnt\" i.e. the total count.\n"
   ]
  },
  {
   "cell_type": "code",
   "execution_count": null,
   "metadata": {},
   "outputs": [],
   "source": []
  },
  {
   "cell_type": "code",
   "execution_count": null,
   "metadata": {},
   "outputs": [],
   "source": []
  }
 ],
 "metadata": {
  "kernelspec": {
   "display_name": "Python 3",
   "language": "python",
   "name": "python3"
  },
  "language_info": {
   "codemirror_mode": {
    "name": "ipython",
    "version": 3
   },
   "file_extension": ".py",
   "mimetype": "text/x-python",
   "name": "python",
   "nbconvert_exporter": "python",
   "pygments_lexer": "ipython3",
   "version": "3.8.8"
  }
 },
 "nbformat": 4,
 "nbformat_minor": 4
}
