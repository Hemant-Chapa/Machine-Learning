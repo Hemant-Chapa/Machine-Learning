{
 "cells": [
  {
   "cell_type": "code",
   "execution_count": 1,
   "id": "1b0c45b7",
   "metadata": {},
   "outputs": [],
   "source": [
    "import pandas as pd\n",
    "import seaborn as sns\n",
    "import matplotlib.pyplot as plt\n",
    "import numpy as np\n",
    "%matplotlib inline"
   ]
  },
  {
   "cell_type": "code",
   "execution_count": 2,
   "id": "95c09052",
   "metadata": {},
   "outputs": [
    {
     "data": {
      "text/html": [
       "<div>\n",
       "<style scoped>\n",
       "    .dataframe tbody tr th:only-of-type {\n",
       "        vertical-align: middle;\n",
       "    }\n",
       "\n",
       "    .dataframe tbody tr th {\n",
       "        vertical-align: top;\n",
       "    }\n",
       "\n",
       "    .dataframe thead th {\n",
       "        text-align: right;\n",
       "    }\n",
       "</style>\n",
       "<table border=\"1\" class=\"dataframe\">\n",
       "  <thead>\n",
       "    <tr style=\"text-align: right;\">\n",
       "      <th></th>\n",
       "      <th>id</th>\n",
       "      <th>date</th>\n",
       "      <th>price</th>\n",
       "      <th>bedrooms</th>\n",
       "      <th>bathrooms</th>\n",
       "      <th>sqft_living</th>\n",
       "      <th>sqft_lot</th>\n",
       "      <th>floors</th>\n",
       "      <th>waterfront</th>\n",
       "      <th>view</th>\n",
       "      <th>...</th>\n",
       "      <th>grade</th>\n",
       "      <th>sqft_above</th>\n",
       "      <th>sqft_basement</th>\n",
       "      <th>yr_built</th>\n",
       "      <th>yr_renovated</th>\n",
       "      <th>zipcode</th>\n",
       "      <th>lat</th>\n",
       "      <th>long</th>\n",
       "      <th>sqft_living15</th>\n",
       "      <th>sqft_lot15</th>\n",
       "    </tr>\n",
       "  </thead>\n",
       "  <tbody>\n",
       "    <tr>\n",
       "      <th>0</th>\n",
       "      <td>7129300520</td>\n",
       "      <td>20141013T000000</td>\n",
       "      <td>221900.0</td>\n",
       "      <td>3</td>\n",
       "      <td>1.00</td>\n",
       "      <td>1180</td>\n",
       "      <td>5650</td>\n",
       "      <td>1.0</td>\n",
       "      <td>0</td>\n",
       "      <td>0</td>\n",
       "      <td>...</td>\n",
       "      <td>7</td>\n",
       "      <td>1180</td>\n",
       "      <td>0</td>\n",
       "      <td>1955</td>\n",
       "      <td>0</td>\n",
       "      <td>98178</td>\n",
       "      <td>47.5112</td>\n",
       "      <td>-122.257</td>\n",
       "      <td>1340</td>\n",
       "      <td>5650</td>\n",
       "    </tr>\n",
       "    <tr>\n",
       "      <th>1</th>\n",
       "      <td>6414100192</td>\n",
       "      <td>20141209T000000</td>\n",
       "      <td>538000.0</td>\n",
       "      <td>3</td>\n",
       "      <td>2.25</td>\n",
       "      <td>2570</td>\n",
       "      <td>7242</td>\n",
       "      <td>2.0</td>\n",
       "      <td>0</td>\n",
       "      <td>0</td>\n",
       "      <td>...</td>\n",
       "      <td>7</td>\n",
       "      <td>2170</td>\n",
       "      <td>400</td>\n",
       "      <td>1951</td>\n",
       "      <td>1991</td>\n",
       "      <td>98125</td>\n",
       "      <td>47.7210</td>\n",
       "      <td>-122.319</td>\n",
       "      <td>1690</td>\n",
       "      <td>7639</td>\n",
       "    </tr>\n",
       "    <tr>\n",
       "      <th>2</th>\n",
       "      <td>5631500400</td>\n",
       "      <td>20150225T000000</td>\n",
       "      <td>180000.0</td>\n",
       "      <td>2</td>\n",
       "      <td>1.00</td>\n",
       "      <td>770</td>\n",
       "      <td>10000</td>\n",
       "      <td>1.0</td>\n",
       "      <td>0</td>\n",
       "      <td>0</td>\n",
       "      <td>...</td>\n",
       "      <td>6</td>\n",
       "      <td>770</td>\n",
       "      <td>0</td>\n",
       "      <td>1933</td>\n",
       "      <td>0</td>\n",
       "      <td>98028</td>\n",
       "      <td>47.7379</td>\n",
       "      <td>-122.233</td>\n",
       "      <td>2720</td>\n",
       "      <td>8062</td>\n",
       "    </tr>\n",
       "    <tr>\n",
       "      <th>3</th>\n",
       "      <td>2487200875</td>\n",
       "      <td>20141209T000000</td>\n",
       "      <td>604000.0</td>\n",
       "      <td>4</td>\n",
       "      <td>3.00</td>\n",
       "      <td>1960</td>\n",
       "      <td>5000</td>\n",
       "      <td>1.0</td>\n",
       "      <td>0</td>\n",
       "      <td>0</td>\n",
       "      <td>...</td>\n",
       "      <td>7</td>\n",
       "      <td>1050</td>\n",
       "      <td>910</td>\n",
       "      <td>1965</td>\n",
       "      <td>0</td>\n",
       "      <td>98136</td>\n",
       "      <td>47.5208</td>\n",
       "      <td>-122.393</td>\n",
       "      <td>1360</td>\n",
       "      <td>5000</td>\n",
       "    </tr>\n",
       "    <tr>\n",
       "      <th>4</th>\n",
       "      <td>1954400510</td>\n",
       "      <td>20150218T000000</td>\n",
       "      <td>510000.0</td>\n",
       "      <td>3</td>\n",
       "      <td>2.00</td>\n",
       "      <td>1680</td>\n",
       "      <td>8080</td>\n",
       "      <td>1.0</td>\n",
       "      <td>0</td>\n",
       "      <td>0</td>\n",
       "      <td>...</td>\n",
       "      <td>8</td>\n",
       "      <td>1680</td>\n",
       "      <td>0</td>\n",
       "      <td>1987</td>\n",
       "      <td>0</td>\n",
       "      <td>98074</td>\n",
       "      <td>47.6168</td>\n",
       "      <td>-122.045</td>\n",
       "      <td>1800</td>\n",
       "      <td>7503</td>\n",
       "    </tr>\n",
       "  </tbody>\n",
       "</table>\n",
       "<p>5 rows × 21 columns</p>\n",
       "</div>"
      ],
      "text/plain": [
       "           id             date     price  bedrooms  bathrooms  sqft_living  \\\n",
       "0  7129300520  20141013T000000  221900.0         3       1.00         1180   \n",
       "1  6414100192  20141209T000000  538000.0         3       2.25         2570   \n",
       "2  5631500400  20150225T000000  180000.0         2       1.00          770   \n",
       "3  2487200875  20141209T000000  604000.0         4       3.00         1960   \n",
       "4  1954400510  20150218T000000  510000.0         3       2.00         1680   \n",
       "\n",
       "   sqft_lot  floors  waterfront  view  ...  grade  sqft_above  sqft_basement  \\\n",
       "0      5650     1.0           0     0  ...      7        1180              0   \n",
       "1      7242     2.0           0     0  ...      7        2170            400   \n",
       "2     10000     1.0           0     0  ...      6         770              0   \n",
       "3      5000     1.0           0     0  ...      7        1050            910   \n",
       "4      8080     1.0           0     0  ...      8        1680              0   \n",
       "\n",
       "   yr_built  yr_renovated  zipcode      lat     long  sqft_living15  \\\n",
       "0      1955             0    98178  47.5112 -122.257           1340   \n",
       "1      1951          1991    98125  47.7210 -122.319           1690   \n",
       "2      1933             0    98028  47.7379 -122.233           2720   \n",
       "3      1965             0    98136  47.5208 -122.393           1360   \n",
       "4      1987             0    98074  47.6168 -122.045           1800   \n",
       "\n",
       "   sqft_lot15  \n",
       "0        5650  \n",
       "1        7639  \n",
       "2        8062  \n",
       "3        5000  \n",
       "4        7503  \n",
       "\n",
       "[5 rows x 21 columns]"
      ]
     },
     "execution_count": 2,
     "metadata": {},
     "output_type": "execute_result"
    }
   ],
   "source": [
    "file_loc = \"C:\\\\Users\\\\Hemant\\\\Documents\\\\Data Analysis Practise\\\\Projects\\\\Datasets\\\\kc_house_data.csv\"\n",
    "data = pd.read_csv(file_loc)\n",
    "data.head()"
   ]
  },
  {
   "cell_type": "code",
   "execution_count": 3,
   "id": "efeab938",
   "metadata": {},
   "outputs": [
    {
     "data": {
      "text/plain": [
       "id               0\n",
       "date             0\n",
       "price            0\n",
       "bedrooms         0\n",
       "bathrooms        0\n",
       "sqft_living      0\n",
       "sqft_lot         0\n",
       "floors           0\n",
       "waterfront       0\n",
       "view             0\n",
       "condition        0\n",
       "grade            0\n",
       "sqft_above       0\n",
       "sqft_basement    0\n",
       "yr_built         0\n",
       "yr_renovated     0\n",
       "zipcode          0\n",
       "lat              0\n",
       "long             0\n",
       "sqft_living15    0\n",
       "sqft_lot15       0\n",
       "dtype: int64"
      ]
     },
     "execution_count": 3,
     "metadata": {},
     "output_type": "execute_result"
    }
   ],
   "source": [
    "# Checking for missing values\n",
    "data.isnull().sum() # No Missing values"
   ]
  },
  {
   "cell_type": "code",
   "execution_count": 4,
   "id": "11ecaa1e",
   "metadata": {},
   "outputs": [
    {
     "name": "stdout",
     "output_type": "stream",
     "text": [
      "<class 'pandas.core.frame.DataFrame'>\n",
      "RangeIndex: 21613 entries, 0 to 21612\n",
      "Data columns (total 21 columns):\n",
      " #   Column         Non-Null Count  Dtype  \n",
      "---  ------         --------------  -----  \n",
      " 0   id             21613 non-null  int64  \n",
      " 1   date           21613 non-null  object \n",
      " 2   price          21613 non-null  float64\n",
      " 3   bedrooms       21613 non-null  int64  \n",
      " 4   bathrooms      21613 non-null  float64\n",
      " 5   sqft_living    21613 non-null  int64  \n",
      " 6   sqft_lot       21613 non-null  int64  \n",
      " 7   floors         21613 non-null  float64\n",
      " 8   waterfront     21613 non-null  int64  \n",
      " 9   view           21613 non-null  int64  \n",
      " 10  condition      21613 non-null  int64  \n",
      " 11  grade          21613 non-null  int64  \n",
      " 12  sqft_above     21613 non-null  int64  \n",
      " 13  sqft_basement  21613 non-null  int64  \n",
      " 14  yr_built       21613 non-null  int64  \n",
      " 15  yr_renovated   21613 non-null  int64  \n",
      " 16  zipcode        21613 non-null  int64  \n",
      " 17  lat            21613 non-null  float64\n",
      " 18  long           21613 non-null  float64\n",
      " 19  sqft_living15  21613 non-null  int64  \n",
      " 20  sqft_lot15     21613 non-null  int64  \n",
      "dtypes: float64(5), int64(15), object(1)\n",
      "memory usage: 3.5+ MB\n"
     ]
    }
   ],
   "source": [
    "data.info()"
   ]
  },
  {
   "cell_type": "code",
   "execution_count": 5,
   "id": "04e8130b",
   "metadata": {},
   "outputs": [
    {
     "data": {
      "text/html": [
       "<div>\n",
       "<style scoped>\n",
       "    .dataframe tbody tr th:only-of-type {\n",
       "        vertical-align: middle;\n",
       "    }\n",
       "\n",
       "    .dataframe tbody tr th {\n",
       "        vertical-align: top;\n",
       "    }\n",
       "\n",
       "    .dataframe thead th {\n",
       "        text-align: right;\n",
       "    }\n",
       "</style>\n",
       "<table border=\"1\" class=\"dataframe\">\n",
       "  <thead>\n",
       "    <tr style=\"text-align: right;\">\n",
       "      <th></th>\n",
       "      <th>id</th>\n",
       "      <th>price</th>\n",
       "      <th>bedrooms</th>\n",
       "      <th>bathrooms</th>\n",
       "      <th>sqft_living</th>\n",
       "      <th>sqft_lot</th>\n",
       "      <th>floors</th>\n",
       "      <th>waterfront</th>\n",
       "      <th>view</th>\n",
       "      <th>condition</th>\n",
       "      <th>grade</th>\n",
       "      <th>sqft_above</th>\n",
       "      <th>sqft_basement</th>\n",
       "      <th>yr_built</th>\n",
       "      <th>yr_renovated</th>\n",
       "      <th>zipcode</th>\n",
       "      <th>lat</th>\n",
       "      <th>long</th>\n",
       "      <th>sqft_living15</th>\n",
       "      <th>sqft_lot15</th>\n",
       "    </tr>\n",
       "  </thead>\n",
       "  <tbody>\n",
       "    <tr>\n",
       "      <th>count</th>\n",
       "      <td>2.161300e+04</td>\n",
       "      <td>2.161300e+04</td>\n",
       "      <td>21613.000000</td>\n",
       "      <td>21613.000000</td>\n",
       "      <td>21613.000000</td>\n",
       "      <td>2.161300e+04</td>\n",
       "      <td>21613.000000</td>\n",
       "      <td>21613.000000</td>\n",
       "      <td>21613.000000</td>\n",
       "      <td>21613.000000</td>\n",
       "      <td>21613.000000</td>\n",
       "      <td>21613.000000</td>\n",
       "      <td>21613.000000</td>\n",
       "      <td>21613.000000</td>\n",
       "      <td>21613.000000</td>\n",
       "      <td>21613.000000</td>\n",
       "      <td>21613.000000</td>\n",
       "      <td>21613.000000</td>\n",
       "      <td>21613.000000</td>\n",
       "      <td>21613.000000</td>\n",
       "    </tr>\n",
       "    <tr>\n",
       "      <th>mean</th>\n",
       "      <td>4.580302e+09</td>\n",
       "      <td>5.400881e+05</td>\n",
       "      <td>3.370842</td>\n",
       "      <td>2.114757</td>\n",
       "      <td>2079.899736</td>\n",
       "      <td>1.510697e+04</td>\n",
       "      <td>1.494309</td>\n",
       "      <td>0.007542</td>\n",
       "      <td>0.234303</td>\n",
       "      <td>3.409430</td>\n",
       "      <td>7.656873</td>\n",
       "      <td>1788.390691</td>\n",
       "      <td>291.509045</td>\n",
       "      <td>1971.005136</td>\n",
       "      <td>84.402258</td>\n",
       "      <td>98077.939805</td>\n",
       "      <td>47.560053</td>\n",
       "      <td>-122.213896</td>\n",
       "      <td>1986.552492</td>\n",
       "      <td>12768.455652</td>\n",
       "    </tr>\n",
       "    <tr>\n",
       "      <th>std</th>\n",
       "      <td>2.876566e+09</td>\n",
       "      <td>3.671272e+05</td>\n",
       "      <td>0.930062</td>\n",
       "      <td>0.770163</td>\n",
       "      <td>918.440897</td>\n",
       "      <td>4.142051e+04</td>\n",
       "      <td>0.539989</td>\n",
       "      <td>0.086517</td>\n",
       "      <td>0.766318</td>\n",
       "      <td>0.650743</td>\n",
       "      <td>1.175459</td>\n",
       "      <td>828.090978</td>\n",
       "      <td>442.575043</td>\n",
       "      <td>29.373411</td>\n",
       "      <td>401.679240</td>\n",
       "      <td>53.505026</td>\n",
       "      <td>0.138564</td>\n",
       "      <td>0.140828</td>\n",
       "      <td>685.391304</td>\n",
       "      <td>27304.179631</td>\n",
       "    </tr>\n",
       "    <tr>\n",
       "      <th>min</th>\n",
       "      <td>1.000102e+06</td>\n",
       "      <td>7.500000e+04</td>\n",
       "      <td>0.000000</td>\n",
       "      <td>0.000000</td>\n",
       "      <td>290.000000</td>\n",
       "      <td>5.200000e+02</td>\n",
       "      <td>1.000000</td>\n",
       "      <td>0.000000</td>\n",
       "      <td>0.000000</td>\n",
       "      <td>1.000000</td>\n",
       "      <td>1.000000</td>\n",
       "      <td>290.000000</td>\n",
       "      <td>0.000000</td>\n",
       "      <td>1900.000000</td>\n",
       "      <td>0.000000</td>\n",
       "      <td>98001.000000</td>\n",
       "      <td>47.155900</td>\n",
       "      <td>-122.519000</td>\n",
       "      <td>399.000000</td>\n",
       "      <td>651.000000</td>\n",
       "    </tr>\n",
       "    <tr>\n",
       "      <th>25%</th>\n",
       "      <td>2.123049e+09</td>\n",
       "      <td>3.219500e+05</td>\n",
       "      <td>3.000000</td>\n",
       "      <td>1.750000</td>\n",
       "      <td>1427.000000</td>\n",
       "      <td>5.040000e+03</td>\n",
       "      <td>1.000000</td>\n",
       "      <td>0.000000</td>\n",
       "      <td>0.000000</td>\n",
       "      <td>3.000000</td>\n",
       "      <td>7.000000</td>\n",
       "      <td>1190.000000</td>\n",
       "      <td>0.000000</td>\n",
       "      <td>1951.000000</td>\n",
       "      <td>0.000000</td>\n",
       "      <td>98033.000000</td>\n",
       "      <td>47.471000</td>\n",
       "      <td>-122.328000</td>\n",
       "      <td>1490.000000</td>\n",
       "      <td>5100.000000</td>\n",
       "    </tr>\n",
       "    <tr>\n",
       "      <th>50%</th>\n",
       "      <td>3.904930e+09</td>\n",
       "      <td>4.500000e+05</td>\n",
       "      <td>3.000000</td>\n",
       "      <td>2.250000</td>\n",
       "      <td>1910.000000</td>\n",
       "      <td>7.618000e+03</td>\n",
       "      <td>1.500000</td>\n",
       "      <td>0.000000</td>\n",
       "      <td>0.000000</td>\n",
       "      <td>3.000000</td>\n",
       "      <td>7.000000</td>\n",
       "      <td>1560.000000</td>\n",
       "      <td>0.000000</td>\n",
       "      <td>1975.000000</td>\n",
       "      <td>0.000000</td>\n",
       "      <td>98065.000000</td>\n",
       "      <td>47.571800</td>\n",
       "      <td>-122.230000</td>\n",
       "      <td>1840.000000</td>\n",
       "      <td>7620.000000</td>\n",
       "    </tr>\n",
       "    <tr>\n",
       "      <th>75%</th>\n",
       "      <td>7.308900e+09</td>\n",
       "      <td>6.450000e+05</td>\n",
       "      <td>4.000000</td>\n",
       "      <td>2.500000</td>\n",
       "      <td>2550.000000</td>\n",
       "      <td>1.068800e+04</td>\n",
       "      <td>2.000000</td>\n",
       "      <td>0.000000</td>\n",
       "      <td>0.000000</td>\n",
       "      <td>4.000000</td>\n",
       "      <td>8.000000</td>\n",
       "      <td>2210.000000</td>\n",
       "      <td>560.000000</td>\n",
       "      <td>1997.000000</td>\n",
       "      <td>0.000000</td>\n",
       "      <td>98118.000000</td>\n",
       "      <td>47.678000</td>\n",
       "      <td>-122.125000</td>\n",
       "      <td>2360.000000</td>\n",
       "      <td>10083.000000</td>\n",
       "    </tr>\n",
       "    <tr>\n",
       "      <th>max</th>\n",
       "      <td>9.900000e+09</td>\n",
       "      <td>7.700000e+06</td>\n",
       "      <td>33.000000</td>\n",
       "      <td>8.000000</td>\n",
       "      <td>13540.000000</td>\n",
       "      <td>1.651359e+06</td>\n",
       "      <td>3.500000</td>\n",
       "      <td>1.000000</td>\n",
       "      <td>4.000000</td>\n",
       "      <td>5.000000</td>\n",
       "      <td>13.000000</td>\n",
       "      <td>9410.000000</td>\n",
       "      <td>4820.000000</td>\n",
       "      <td>2015.000000</td>\n",
       "      <td>2015.000000</td>\n",
       "      <td>98199.000000</td>\n",
       "      <td>47.777600</td>\n",
       "      <td>-121.315000</td>\n",
       "      <td>6210.000000</td>\n",
       "      <td>871200.000000</td>\n",
       "    </tr>\n",
       "  </tbody>\n",
       "</table>\n",
       "</div>"
      ],
      "text/plain": [
       "                 id         price      bedrooms     bathrooms   sqft_living  \\\n",
       "count  2.161300e+04  2.161300e+04  21613.000000  21613.000000  21613.000000   \n",
       "mean   4.580302e+09  5.400881e+05      3.370842      2.114757   2079.899736   \n",
       "std    2.876566e+09  3.671272e+05      0.930062      0.770163    918.440897   \n",
       "min    1.000102e+06  7.500000e+04      0.000000      0.000000    290.000000   \n",
       "25%    2.123049e+09  3.219500e+05      3.000000      1.750000   1427.000000   \n",
       "50%    3.904930e+09  4.500000e+05      3.000000      2.250000   1910.000000   \n",
       "75%    7.308900e+09  6.450000e+05      4.000000      2.500000   2550.000000   \n",
       "max    9.900000e+09  7.700000e+06     33.000000      8.000000  13540.000000   \n",
       "\n",
       "           sqft_lot        floors    waterfront          view     condition  \\\n",
       "count  2.161300e+04  21613.000000  21613.000000  21613.000000  21613.000000   \n",
       "mean   1.510697e+04      1.494309      0.007542      0.234303      3.409430   \n",
       "std    4.142051e+04      0.539989      0.086517      0.766318      0.650743   \n",
       "min    5.200000e+02      1.000000      0.000000      0.000000      1.000000   \n",
       "25%    5.040000e+03      1.000000      0.000000      0.000000      3.000000   \n",
       "50%    7.618000e+03      1.500000      0.000000      0.000000      3.000000   \n",
       "75%    1.068800e+04      2.000000      0.000000      0.000000      4.000000   \n",
       "max    1.651359e+06      3.500000      1.000000      4.000000      5.000000   \n",
       "\n",
       "              grade    sqft_above  sqft_basement      yr_built  yr_renovated  \\\n",
       "count  21613.000000  21613.000000   21613.000000  21613.000000  21613.000000   \n",
       "mean       7.656873   1788.390691     291.509045   1971.005136     84.402258   \n",
       "std        1.175459    828.090978     442.575043     29.373411    401.679240   \n",
       "min        1.000000    290.000000       0.000000   1900.000000      0.000000   \n",
       "25%        7.000000   1190.000000       0.000000   1951.000000      0.000000   \n",
       "50%        7.000000   1560.000000       0.000000   1975.000000      0.000000   \n",
       "75%        8.000000   2210.000000     560.000000   1997.000000      0.000000   \n",
       "max       13.000000   9410.000000    4820.000000   2015.000000   2015.000000   \n",
       "\n",
       "            zipcode           lat          long  sqft_living15     sqft_lot15  \n",
       "count  21613.000000  21613.000000  21613.000000   21613.000000   21613.000000  \n",
       "mean   98077.939805     47.560053   -122.213896    1986.552492   12768.455652  \n",
       "std       53.505026      0.138564      0.140828     685.391304   27304.179631  \n",
       "min    98001.000000     47.155900   -122.519000     399.000000     651.000000  \n",
       "25%    98033.000000     47.471000   -122.328000    1490.000000    5100.000000  \n",
       "50%    98065.000000     47.571800   -122.230000    1840.000000    7620.000000  \n",
       "75%    98118.000000     47.678000   -122.125000    2360.000000   10083.000000  \n",
       "max    98199.000000     47.777600   -121.315000    6210.000000  871200.000000  "
      ]
     },
     "execution_count": 5,
     "metadata": {},
     "output_type": "execute_result"
    }
   ],
   "source": [
    "data.describe()"
   ]
  },
  {
   "cell_type": "code",
   "execution_count": 6,
   "id": "4d378e73",
   "metadata": {},
   "outputs": [
    {
     "data": {
      "text/plain": [
       "(520, 1651359)"
      ]
     },
     "execution_count": 6,
     "metadata": {},
     "output_type": "execute_result"
    }
   ],
   "source": [
    "data.sqft_lot.min(), data.sqft_lot.max() # We need to scale this "
   ]
  },
  {
   "cell_type": "code",
   "execution_count": 7,
   "id": "8a9ac140",
   "metadata": {},
   "outputs": [
    {
     "data": {
      "text/plain": [
       "0        59\n",
       "1        63\n",
       "2        82\n",
       "3        49\n",
       "4        28\n",
       "         ..\n",
       "21608     5\n",
       "21609     1\n",
       "21610     5\n",
       "21611    11\n",
       "21612     6\n",
       "Name: Age, Length: 21613, dtype: int64"
      ]
     },
     "execution_count": 7,
     "metadata": {},
     "output_type": "execute_result"
    }
   ],
   "source": [
    "# Creating a new column \"Age\" of property from date and the yr_built\n",
    "data[\"Age\"] = data[\"date\"].str[:4].astype(\"int\") - data.yr_built\n",
    "data[\"Age\"]"
   ]
  },
  {
   "cell_type": "code",
   "execution_count": 8,
   "id": "223d9856",
   "metadata": {},
   "outputs": [
    {
     "data": {
      "text/plain": [
       "0        2014\n",
       "1        2014\n",
       "2        2015\n",
       "3        2014\n",
       "4        2015\n",
       "         ... \n",
       "21608    2014\n",
       "21609    2015\n",
       "21610    2014\n",
       "21611    2015\n",
       "21612    2014\n",
       "Name: date, Length: 21613, dtype: int32"
      ]
     },
     "execution_count": 8,
     "metadata": {},
     "output_type": "execute_result"
    }
   ],
   "source": [
    "data[\"date\"].str[:4].astype(\"int\") "
   ]
  },
  {
   "cell_type": "code",
   "execution_count": 9,
   "id": "4aefdad4",
   "metadata": {},
   "outputs": [
    {
     "data": {
      "text/plain": [
       "Index(['id', 'date', 'price', 'bedrooms', 'bathrooms', 'sqft_living',\n",
       "       'sqft_lot', 'floors', 'waterfront', 'view', 'condition', 'grade',\n",
       "       'sqft_above', 'sqft_basement', 'yr_built', 'yr_renovated', 'zipcode',\n",
       "       'lat', 'long', 'sqft_living15', 'sqft_lot15', 'Age'],\n",
       "      dtype='object')"
      ]
     },
     "execution_count": 9,
     "metadata": {},
     "output_type": "execute_result"
    }
   ],
   "source": [
    "data.columns"
   ]
  },
  {
   "cell_type": "code",
   "execution_count": 10,
   "id": "47b64552",
   "metadata": {},
   "outputs": [],
   "source": [
    "columns_for_reg = ['price', 'bedrooms', 'bathrooms', 'sqft_living',\n",
    "       'sqft_lot', 'floors', 'waterfront', 'view', 'condition', 'grade',\n",
    "       'sqft_above', 'sqft_basement','Age']"
   ]
  },
  {
   "cell_type": "code",
   "execution_count": 11,
   "id": "5e88f575",
   "metadata": {},
   "outputs": [],
   "source": [
    "data_for_reg = data[columns_for_reg].copy()"
   ]
  },
  {
   "cell_type": "code",
   "execution_count": 12,
   "id": "6768e9d4",
   "metadata": {},
   "outputs": [
    {
     "data": {
      "text/html": [
       "<div>\n",
       "<style scoped>\n",
       "    .dataframe tbody tr th:only-of-type {\n",
       "        vertical-align: middle;\n",
       "    }\n",
       "\n",
       "    .dataframe tbody tr th {\n",
       "        vertical-align: top;\n",
       "    }\n",
       "\n",
       "    .dataframe thead th {\n",
       "        text-align: right;\n",
       "    }\n",
       "</style>\n",
       "<table border=\"1\" class=\"dataframe\">\n",
       "  <thead>\n",
       "    <tr style=\"text-align: right;\">\n",
       "      <th></th>\n",
       "      <th>price</th>\n",
       "      <th>bedrooms</th>\n",
       "      <th>bathrooms</th>\n",
       "      <th>sqft_living</th>\n",
       "      <th>sqft_lot</th>\n",
       "      <th>floors</th>\n",
       "      <th>waterfront</th>\n",
       "      <th>view</th>\n",
       "      <th>condition</th>\n",
       "      <th>grade</th>\n",
       "      <th>sqft_above</th>\n",
       "      <th>sqft_basement</th>\n",
       "      <th>Age</th>\n",
       "    </tr>\n",
       "  </thead>\n",
       "  <tbody>\n",
       "    <tr>\n",
       "      <th>0</th>\n",
       "      <td>221900.0</td>\n",
       "      <td>3</td>\n",
       "      <td>1.00</td>\n",
       "      <td>1180</td>\n",
       "      <td>5650</td>\n",
       "      <td>1.0</td>\n",
       "      <td>0</td>\n",
       "      <td>0</td>\n",
       "      <td>3</td>\n",
       "      <td>7</td>\n",
       "      <td>1180</td>\n",
       "      <td>0</td>\n",
       "      <td>59</td>\n",
       "    </tr>\n",
       "    <tr>\n",
       "      <th>1</th>\n",
       "      <td>538000.0</td>\n",
       "      <td>3</td>\n",
       "      <td>2.25</td>\n",
       "      <td>2570</td>\n",
       "      <td>7242</td>\n",
       "      <td>2.0</td>\n",
       "      <td>0</td>\n",
       "      <td>0</td>\n",
       "      <td>3</td>\n",
       "      <td>7</td>\n",
       "      <td>2170</td>\n",
       "      <td>400</td>\n",
       "      <td>63</td>\n",
       "    </tr>\n",
       "    <tr>\n",
       "      <th>2</th>\n",
       "      <td>180000.0</td>\n",
       "      <td>2</td>\n",
       "      <td>1.00</td>\n",
       "      <td>770</td>\n",
       "      <td>10000</td>\n",
       "      <td>1.0</td>\n",
       "      <td>0</td>\n",
       "      <td>0</td>\n",
       "      <td>3</td>\n",
       "      <td>6</td>\n",
       "      <td>770</td>\n",
       "      <td>0</td>\n",
       "      <td>82</td>\n",
       "    </tr>\n",
       "    <tr>\n",
       "      <th>3</th>\n",
       "      <td>604000.0</td>\n",
       "      <td>4</td>\n",
       "      <td>3.00</td>\n",
       "      <td>1960</td>\n",
       "      <td>5000</td>\n",
       "      <td>1.0</td>\n",
       "      <td>0</td>\n",
       "      <td>0</td>\n",
       "      <td>5</td>\n",
       "      <td>7</td>\n",
       "      <td>1050</td>\n",
       "      <td>910</td>\n",
       "      <td>49</td>\n",
       "    </tr>\n",
       "    <tr>\n",
       "      <th>4</th>\n",
       "      <td>510000.0</td>\n",
       "      <td>3</td>\n",
       "      <td>2.00</td>\n",
       "      <td>1680</td>\n",
       "      <td>8080</td>\n",
       "      <td>1.0</td>\n",
       "      <td>0</td>\n",
       "      <td>0</td>\n",
       "      <td>3</td>\n",
       "      <td>8</td>\n",
       "      <td>1680</td>\n",
       "      <td>0</td>\n",
       "      <td>28</td>\n",
       "    </tr>\n",
       "  </tbody>\n",
       "</table>\n",
       "</div>"
      ],
      "text/plain": [
       "      price  bedrooms  bathrooms  sqft_living  sqft_lot  floors  waterfront  \\\n",
       "0  221900.0         3       1.00         1180      5650     1.0           0   \n",
       "1  538000.0         3       2.25         2570      7242     2.0           0   \n",
       "2  180000.0         2       1.00          770     10000     1.0           0   \n",
       "3  604000.0         4       3.00         1960      5000     1.0           0   \n",
       "4  510000.0         3       2.00         1680      8080     1.0           0   \n",
       "\n",
       "   view  condition  grade  sqft_above  sqft_basement  Age  \n",
       "0     0          3      7        1180              0   59  \n",
       "1     0          3      7        2170            400   63  \n",
       "2     0          3      6         770              0   82  \n",
       "3     0          5      7        1050            910   49  \n",
       "4     0          3      8        1680              0   28  "
      ]
     },
     "execution_count": 12,
     "metadata": {},
     "output_type": "execute_result"
    }
   ],
   "source": [
    "data_for_reg.head()"
   ]
  },
  {
   "cell_type": "code",
   "execution_count": 13,
   "id": "cf30d5d3",
   "metadata": {},
   "outputs": [
    {
     "data": {
      "text/plain": [
       "0    21450\n",
       "1      163\n",
       "Name: waterfront, dtype: int64"
      ]
     },
     "execution_count": 13,
     "metadata": {},
     "output_type": "execute_result"
    }
   ],
   "source": [
    "# Checking the distinct values ofr WaterFront, View and condition\n",
    "data_for_reg[\"waterfront\"].value_counts()"
   ]
  },
  {
   "cell_type": "code",
   "execution_count": 14,
   "id": "fba46f19",
   "metadata": {},
   "outputs": [
    {
     "data": {
      "text/plain": [
       "0    19489\n",
       "2      963\n",
       "3      510\n",
       "1      332\n",
       "4      319\n",
       "Name: view, dtype: int64"
      ]
     },
     "execution_count": 14,
     "metadata": {},
     "output_type": "execute_result"
    }
   ],
   "source": [
    "data_for_reg[\"view\"].value_counts()"
   ]
  },
  {
   "cell_type": "code",
   "execution_count": 15,
   "id": "f2592c4a",
   "metadata": {},
   "outputs": [],
   "source": [
    "#Checking the mean pprice for each view\n",
    "view_grp = data_for_reg.groupby([\"view\"])"
   ]
  },
  {
   "cell_type": "code",
   "execution_count": 16,
   "id": "7fb3c1b8",
   "metadata": {},
   "outputs": [
    {
     "data": {
      "text/html": [
       "<div>\n",
       "<style scoped>\n",
       "    .dataframe tbody tr th:only-of-type {\n",
       "        vertical-align: middle;\n",
       "    }\n",
       "\n",
       "    .dataframe tbody tr th {\n",
       "        vertical-align: top;\n",
       "    }\n",
       "\n",
       "    .dataframe thead th {\n",
       "        text-align: right;\n",
       "    }\n",
       "</style>\n",
       "<table border=\"1\" class=\"dataframe\">\n",
       "  <thead>\n",
       "    <tr style=\"text-align: right;\">\n",
       "      <th></th>\n",
       "      <th>count</th>\n",
       "      <th>mean</th>\n",
       "    </tr>\n",
       "    <tr>\n",
       "      <th>view</th>\n",
       "      <th></th>\n",
       "      <th></th>\n",
       "    </tr>\n",
       "  </thead>\n",
       "  <tbody>\n",
       "    <tr>\n",
       "      <th>0</th>\n",
       "      <td>19489</td>\n",
       "      <td>496564</td>\n",
       "    </tr>\n",
       "    <tr>\n",
       "      <th>1</th>\n",
       "      <td>332</td>\n",
       "      <td>812280</td>\n",
       "    </tr>\n",
       "    <tr>\n",
       "      <th>2</th>\n",
       "      <td>963</td>\n",
       "      <td>792400</td>\n",
       "    </tr>\n",
       "    <tr>\n",
       "      <th>3</th>\n",
       "      <td>510</td>\n",
       "      <td>971965</td>\n",
       "    </tr>\n",
       "    <tr>\n",
       "      <th>4</th>\n",
       "      <td>319</td>\n",
       "      <td>1463711</td>\n",
       "    </tr>\n",
       "  </tbody>\n",
       "</table>\n",
       "</div>"
      ],
      "text/plain": [
       "      count     mean\n",
       "view                \n",
       "0     19489   496564\n",
       "1       332   812280\n",
       "2       963   792400\n",
       "3       510   971965\n",
       "4       319  1463711"
      ]
     },
     "execution_count": 16,
     "metadata": {},
     "output_type": "execute_result"
    }
   ],
   "source": [
    "view_grp[\"price\"].agg([\"count\", \"mean\"]).astype(int)"
   ]
  },
  {
   "cell_type": "markdown",
   "id": "aa088e43",
   "metadata": {},
   "source": [
    "So View is a rank column that ranks the views. HIgher the view, better the price"
   ]
  },
  {
   "cell_type": "code",
   "execution_count": 17,
   "id": "aa107114",
   "metadata": {},
   "outputs": [
    {
     "data": {
      "text/html": [
       "<div>\n",
       "<style scoped>\n",
       "    .dataframe tbody tr th:only-of-type {\n",
       "        vertical-align: middle;\n",
       "    }\n",
       "\n",
       "    .dataframe tbody tr th {\n",
       "        vertical-align: top;\n",
       "    }\n",
       "\n",
       "    .dataframe thead th {\n",
       "        text-align: right;\n",
       "    }\n",
       "</style>\n",
       "<table border=\"1\" class=\"dataframe\">\n",
       "  <thead>\n",
       "    <tr style=\"text-align: right;\">\n",
       "      <th></th>\n",
       "      <th>price</th>\n",
       "      <th>bedrooms</th>\n",
       "      <th>bathrooms</th>\n",
       "      <th>sqft_living</th>\n",
       "      <th>sqft_lot</th>\n",
       "      <th>floors</th>\n",
       "      <th>waterfront</th>\n",
       "      <th>view</th>\n",
       "      <th>condition</th>\n",
       "      <th>grade</th>\n",
       "      <th>sqft_above</th>\n",
       "      <th>sqft_basement</th>\n",
       "      <th>Age</th>\n",
       "    </tr>\n",
       "  </thead>\n",
       "  <tbody>\n",
       "    <tr>\n",
       "      <th>0</th>\n",
       "      <td>221900.0</td>\n",
       "      <td>3</td>\n",
       "      <td>1.00</td>\n",
       "      <td>1180</td>\n",
       "      <td>5650</td>\n",
       "      <td>1.0</td>\n",
       "      <td>0</td>\n",
       "      <td>0</td>\n",
       "      <td>3</td>\n",
       "      <td>7</td>\n",
       "      <td>1180</td>\n",
       "      <td>0</td>\n",
       "      <td>59</td>\n",
       "    </tr>\n",
       "    <tr>\n",
       "      <th>1</th>\n",
       "      <td>538000.0</td>\n",
       "      <td>3</td>\n",
       "      <td>2.25</td>\n",
       "      <td>2570</td>\n",
       "      <td>7242</td>\n",
       "      <td>2.0</td>\n",
       "      <td>0</td>\n",
       "      <td>0</td>\n",
       "      <td>3</td>\n",
       "      <td>7</td>\n",
       "      <td>2170</td>\n",
       "      <td>400</td>\n",
       "      <td>63</td>\n",
       "    </tr>\n",
       "    <tr>\n",
       "      <th>2</th>\n",
       "      <td>180000.0</td>\n",
       "      <td>2</td>\n",
       "      <td>1.00</td>\n",
       "      <td>770</td>\n",
       "      <td>10000</td>\n",
       "      <td>1.0</td>\n",
       "      <td>0</td>\n",
       "      <td>0</td>\n",
       "      <td>3</td>\n",
       "      <td>6</td>\n",
       "      <td>770</td>\n",
       "      <td>0</td>\n",
       "      <td>82</td>\n",
       "    </tr>\n",
       "    <tr>\n",
       "      <th>3</th>\n",
       "      <td>604000.0</td>\n",
       "      <td>4</td>\n",
       "      <td>3.00</td>\n",
       "      <td>1960</td>\n",
       "      <td>5000</td>\n",
       "      <td>1.0</td>\n",
       "      <td>0</td>\n",
       "      <td>0</td>\n",
       "      <td>5</td>\n",
       "      <td>7</td>\n",
       "      <td>1050</td>\n",
       "      <td>910</td>\n",
       "      <td>49</td>\n",
       "    </tr>\n",
       "    <tr>\n",
       "      <th>4</th>\n",
       "      <td>510000.0</td>\n",
       "      <td>3</td>\n",
       "      <td>2.00</td>\n",
       "      <td>1680</td>\n",
       "      <td>8080</td>\n",
       "      <td>1.0</td>\n",
       "      <td>0</td>\n",
       "      <td>0</td>\n",
       "      <td>3</td>\n",
       "      <td>8</td>\n",
       "      <td>1680</td>\n",
       "      <td>0</td>\n",
       "      <td>28</td>\n",
       "    </tr>\n",
       "    <tr>\n",
       "      <th>...</th>\n",
       "      <td>...</td>\n",
       "      <td>...</td>\n",
       "      <td>...</td>\n",
       "      <td>...</td>\n",
       "      <td>...</td>\n",
       "      <td>...</td>\n",
       "      <td>...</td>\n",
       "      <td>...</td>\n",
       "      <td>...</td>\n",
       "      <td>...</td>\n",
       "      <td>...</td>\n",
       "      <td>...</td>\n",
       "      <td>...</td>\n",
       "    </tr>\n",
       "    <tr>\n",
       "      <th>21608</th>\n",
       "      <td>360000.0</td>\n",
       "      <td>3</td>\n",
       "      <td>2.50</td>\n",
       "      <td>1530</td>\n",
       "      <td>1131</td>\n",
       "      <td>3.0</td>\n",
       "      <td>0</td>\n",
       "      <td>0</td>\n",
       "      <td>3</td>\n",
       "      <td>8</td>\n",
       "      <td>1530</td>\n",
       "      <td>0</td>\n",
       "      <td>5</td>\n",
       "    </tr>\n",
       "    <tr>\n",
       "      <th>21609</th>\n",
       "      <td>400000.0</td>\n",
       "      <td>4</td>\n",
       "      <td>2.50</td>\n",
       "      <td>2310</td>\n",
       "      <td>5813</td>\n",
       "      <td>2.0</td>\n",
       "      <td>0</td>\n",
       "      <td>0</td>\n",
       "      <td>3</td>\n",
       "      <td>8</td>\n",
       "      <td>2310</td>\n",
       "      <td>0</td>\n",
       "      <td>1</td>\n",
       "    </tr>\n",
       "    <tr>\n",
       "      <th>21610</th>\n",
       "      <td>402101.0</td>\n",
       "      <td>2</td>\n",
       "      <td>0.75</td>\n",
       "      <td>1020</td>\n",
       "      <td>1350</td>\n",
       "      <td>2.0</td>\n",
       "      <td>0</td>\n",
       "      <td>0</td>\n",
       "      <td>3</td>\n",
       "      <td>7</td>\n",
       "      <td>1020</td>\n",
       "      <td>0</td>\n",
       "      <td>5</td>\n",
       "    </tr>\n",
       "    <tr>\n",
       "      <th>21611</th>\n",
       "      <td>400000.0</td>\n",
       "      <td>3</td>\n",
       "      <td>2.50</td>\n",
       "      <td>1600</td>\n",
       "      <td>2388</td>\n",
       "      <td>2.0</td>\n",
       "      <td>0</td>\n",
       "      <td>0</td>\n",
       "      <td>3</td>\n",
       "      <td>8</td>\n",
       "      <td>1600</td>\n",
       "      <td>0</td>\n",
       "      <td>11</td>\n",
       "    </tr>\n",
       "    <tr>\n",
       "      <th>21612</th>\n",
       "      <td>325000.0</td>\n",
       "      <td>2</td>\n",
       "      <td>0.75</td>\n",
       "      <td>1020</td>\n",
       "      <td>1076</td>\n",
       "      <td>2.0</td>\n",
       "      <td>0</td>\n",
       "      <td>0</td>\n",
       "      <td>3</td>\n",
       "      <td>7</td>\n",
       "      <td>1020</td>\n",
       "      <td>0</td>\n",
       "      <td>6</td>\n",
       "    </tr>\n",
       "  </tbody>\n",
       "</table>\n",
       "<p>21613 rows × 13 columns</p>\n",
       "</div>"
      ],
      "text/plain": [
       "          price  bedrooms  bathrooms  sqft_living  sqft_lot  floors  \\\n",
       "0      221900.0         3       1.00         1180      5650     1.0   \n",
       "1      538000.0         3       2.25         2570      7242     2.0   \n",
       "2      180000.0         2       1.00          770     10000     1.0   \n",
       "3      604000.0         4       3.00         1960      5000     1.0   \n",
       "4      510000.0         3       2.00         1680      8080     1.0   \n",
       "...         ...       ...        ...          ...       ...     ...   \n",
       "21608  360000.0         3       2.50         1530      1131     3.0   \n",
       "21609  400000.0         4       2.50         2310      5813     2.0   \n",
       "21610  402101.0         2       0.75         1020      1350     2.0   \n",
       "21611  400000.0         3       2.50         1600      2388     2.0   \n",
       "21612  325000.0         2       0.75         1020      1076     2.0   \n",
       "\n",
       "       waterfront  view  condition  grade  sqft_above  sqft_basement  Age  \n",
       "0               0     0          3      7        1180              0   59  \n",
       "1               0     0          3      7        2170            400   63  \n",
       "2               0     0          3      6         770              0   82  \n",
       "3               0     0          5      7        1050            910   49  \n",
       "4               0     0          3      8        1680              0   28  \n",
       "...           ...   ...        ...    ...         ...            ...  ...  \n",
       "21608           0     0          3      8        1530              0    5  \n",
       "21609           0     0          3      8        2310              0    1  \n",
       "21610           0     0          3      7        1020              0    5  \n",
       "21611           0     0          3      8        1600              0   11  \n",
       "21612           0     0          3      7        1020              0    6  \n",
       "\n",
       "[21613 rows x 13 columns]"
      ]
     },
     "execution_count": 17,
     "metadata": {},
     "output_type": "execute_result"
    }
   ],
   "source": [
    "data_for_reg"
   ]
  },
  {
   "cell_type": "code",
   "execution_count": 18,
   "id": "ed2eaab4",
   "metadata": {},
   "outputs": [],
   "source": [
    "from sklearn.model_selection import train_test_split\n",
    "from sklearn.feature_selection import SelectKBest\n",
    "from sklearn.feature_selection import f_regression\n"
   ]
  },
  {
   "cell_type": "code",
   "execution_count": 29,
   "id": "f8ec9731",
   "metadata": {},
   "outputs": [],
   "source": [
    "def select_features(X_train, y_train, X_test):\n",
    "    fs = SelectKBest(score_func = f_regression,  k =9) # k = 'all'\n",
    "    fs.fit(X_train, y_train)   \n",
    "    X_train_fs = fs.transform(X_train)   \n",
    "    X_test_fs = fs.transform(X_test)   \n",
    "    return X_train_fs, X_test_fs, fs\n",
    "\n"
   ]
  },
  {
   "cell_type": "code",
   "execution_count": 30,
   "id": "9f078a80",
   "metadata": {},
   "outputs": [],
   "source": [
    "X = data_for_reg.drop(\"price\", axis =1).values\n",
    "y = data_for_reg[\"price\"]"
   ]
  },
  {
   "cell_type": "code",
   "execution_count": 31,
   "id": "b7792bc6",
   "metadata": {},
   "outputs": [],
   "source": [
    "# Scaling the data\n",
    "from sklearn.preprocessing import StandardScaler\n",
    "std_sclr = StandardScaler()\n",
    "X = std_sclr.fit_transform(X)\n"
   ]
  },
  {
   "cell_type": "code",
   "execution_count": 32,
   "id": "b0c32933",
   "metadata": {},
   "outputs": [
    {
     "data": {
      "text/html": [
       "<div>\n",
       "<style scoped>\n",
       "    .dataframe tbody tr th:only-of-type {\n",
       "        vertical-align: middle;\n",
       "    }\n",
       "\n",
       "    .dataframe tbody tr th {\n",
       "        vertical-align: top;\n",
       "    }\n",
       "\n",
       "    .dataframe thead th {\n",
       "        text-align: right;\n",
       "    }\n",
       "</style>\n",
       "<table border=\"1\" class=\"dataframe\">\n",
       "  <thead>\n",
       "    <tr style=\"text-align: right;\">\n",
       "      <th></th>\n",
       "      <th>Scores</th>\n",
       "    </tr>\n",
       "  </thead>\n",
       "  <tbody>\n",
       "    <tr>\n",
       "      <th>bedrooms</th>\n",
       "      <td>1738.730990</td>\n",
       "    </tr>\n",
       "    <tr>\n",
       "      <th>bathrooms</th>\n",
       "      <td>6535.187565</td>\n",
       "    </tr>\n",
       "    <tr>\n",
       "      <th>sqft_living</th>\n",
       "      <td>16619.970953</td>\n",
       "    </tr>\n",
       "    <tr>\n",
       "      <th>sqft_lot</th>\n",
       "      <td>132.231692</td>\n",
       "    </tr>\n",
       "    <tr>\n",
       "      <th>floors</th>\n",
       "      <td>1181.231738</td>\n",
       "    </tr>\n",
       "    <tr>\n",
       "      <th>waterfront</th>\n",
       "      <td>1291.159314</td>\n",
       "    </tr>\n",
       "    <tr>\n",
       "      <th>view</th>\n",
       "      <td>3182.001395</td>\n",
       "    </tr>\n",
       "    <tr>\n",
       "      <th>condition</th>\n",
       "      <td>21.473015</td>\n",
       "    </tr>\n",
       "    <tr>\n",
       "      <th>grade</th>\n",
       "      <td>13491.695126</td>\n",
       "    </tr>\n",
       "    <tr>\n",
       "      <th>sqft_above</th>\n",
       "      <td>9687.218274</td>\n",
       "    </tr>\n",
       "    <tr>\n",
       "      <th>sqft_basement</th>\n",
       "      <td>2089.250110</td>\n",
       "    </tr>\n",
       "    <tr>\n",
       "      <th>Age</th>\n",
       "      <td>53.605119</td>\n",
       "    </tr>\n",
       "  </tbody>\n",
       "</table>\n",
       "</div>"
      ],
      "text/plain": [
       "                     Scores\n",
       "bedrooms        1738.730990\n",
       "bathrooms       6535.187565\n",
       "sqft_living    16619.970953\n",
       "sqft_lot         132.231692\n",
       "floors          1181.231738\n",
       "waterfront      1291.159314\n",
       "view            3182.001395\n",
       "condition         21.473015\n",
       "grade          13491.695126\n",
       "sqft_above      9687.218274\n",
       "sqft_basement   2089.250110\n",
       "Age               53.605119"
      ]
     },
     "execution_count": 32,
     "metadata": {},
     "output_type": "execute_result"
    }
   ],
   "source": [
    "X_train, X_test, y_train, y_test = train_test_split(X, y, random_state = 2, test_size = 0.2)\n",
    "X_train_fs, X_test_fs, fs = select_features(X_train, y_train, X_test)\n",
    "\n",
    "scores_df = pd.DataFrame(np.array([fs.scores_[i] for i in range(len(fs.scores_))]), index = [data_for_reg.drop(\"price\",axis=1).columns], columns = [\"Scores\"])\n",
    "scores_df"
   ]
  },
  {
   "cell_type": "code",
   "execution_count": 33,
   "id": "b26afc9c",
   "metadata": {},
   "outputs": [
    {
     "data": {
      "image/png": "[encoded data removed]",
      "text/plain": [
       "<Figure size 432x288 with 1 Axes>"
      ]
     },
     "metadata": {
      "needs_background": "light"
     },
     "output_type": "display_data"
    }
   ],
   "source": [
    "scores_df.plot(kind = \"bar\")\n",
    "plt.show()"
   ]
  },
  {
   "cell_type": "code",
   "execution_count": 34,
   "id": "0d2c84de",
   "metadata": {},
   "outputs": [],
   "source": [
    "scores_df = scores_df.reset_index()"
   ]
  },
  {
   "cell_type": "code",
   "execution_count": 35,
   "id": "f9bdb5e6",
   "metadata": {},
   "outputs": [
    {
     "data": {
      "text/plain": [
       "<AxesSubplot:>"
      ]
     },
     "execution_count": 35,
     "metadata": {},
     "output_type": "execute_result"
    },
    {
     "data": {
      "image/png": "[encoded data removed]",
      "text/plain": [
       "<Figure size 432x288 with 1 Axes>"
      ]
     },
     "metadata": {
      "needs_background": "light"
     },
     "output_type": "display_data"
    }
   ],
   "source": [
    "# Selecting thr top 5 features.\n",
    "scores_df.sort_values(\"Scores\", ascending = False).head().plot(kind = 'bar')"
   ]
  },
  {
   "cell_type": "code",
   "execution_count": 36,
   "id": "b591a493",
   "metadata": {},
   "outputs": [],
   "source": [
    "Set1 = [\"sqft_living\", \"grade\", \"sqft_above\", \"bathrooms\", \"view\"]\n"
   ]
  },
  {
   "cell_type": "code",
   "execution_count": 103,
   "id": "1d226f05",
   "metadata": {},
   "outputs": [
    {
     "name": "stdout",
     "output_type": "stream",
     "text": [
      "MAE, RMSE for all columns in Regresssion: (139951.68653572275, 213712.94344255395)\n"
     ]
    }
   ],
   "source": [
    "# Fitting a Regression with all the columns\n",
    "from sklearn.metrics import mean_absolute_error, mean_squared_error\n",
    "\n",
    "from sklearn.linear_model import LinearRegression\n",
    "lin_reg = LinearRegression()\n",
    "lin_reg.fit(X_train, y_train)\n",
    "\n",
    "def y_prediction(model, X_test, y_test):\n",
    "    y_pred = model.predict(X_test)\n",
    "    mae = mean_absolute_error(y_test, y_pred)\n",
    "    rmse = np.sqrt(mean_squared_error(y_test, y_pred))\n",
    "    return mae, rmse\n",
    "\n",
    "print(\"MAE, RMSE for all columns in Regresssion: {}\".format(y_prediction(lin_reg, X_test, y_test)))"
   ]
  },
  {
   "cell_type": "code",
   "execution_count": 96,
   "id": "df3cebee",
   "metadata": {},
   "outputs": [
    {
     "name": "stdout",
     "output_type": "stream",
     "text": [
      "MAE and RMSE for all columns in Regresssion: (153278.08404839112, 230982.26579081887)\n"
     ]
    }
   ],
   "source": [
    "# Fitting a regrssion model with only 5 best columns from feature selection\n",
    "lin_reg.fit(X_train_fs, y_train)\n",
    "print(\"MAE and RMSE for all columns in Regresssion: {}\".format(y_prediction(lin_reg, X_test_fs, y_test)))"
   ]
  },
  {
   "cell_type": "markdown",
   "id": "fa5403cd",
   "metadata": {},
   "source": [
    "## Performing Cross Validation \n",
    "\n",
    "But before that let us try to use 2 algortihms as see if one is better than the other\n",
    "We will use LInear_Regression and Decision Tree\n"
   ]
  },
  {
   "cell_type": "code",
   "execution_count": 99,
   "id": "8ba9ac56",
   "metadata": {},
   "outputs": [
    {
     "name": "stdout",
     "output_type": "stream",
     "text": [
      "MAE and RMSE for all columns in Decision Tree in Training Dataset: (177.96576055523423, 3096.5577532202333)\n",
      "MAE and RSME for all columns in Decision Tree in Test Dataset: (169201.60004626418, 286398.99012564955)\n"
     ]
    }
   ],
   "source": [
    "from sklearn.tree import DecisionTreeRegressor\n",
    "dtree = DecisionTreeRegressor()\n",
    "dtree.fit(X_train, y_train)\n",
    "\n",
    "print(\"MAE and RMSE for all columns in Decision Tree in Training Dataset: {}\".format(y_prediction(dtree, X_train, y_train)))\n",
    "print(\"MAE and RSME for all columns in Decision Tree in Test Dataset: {}\".format(y_prediction(dtree, X_test, y_test)))"
   ]
  },
  {
   "cell_type": "markdown",
   "id": "5b01a96b",
   "metadata": {},
   "source": [
    "CLearly, Overfitting... Training Accuracy is very higher thhan the testing accuracy"
   ]
  },
  {
   "cell_type": "code",
   "execution_count": 104,
   "id": "0920d681",
   "metadata": {},
   "outputs": [
    {
     "data": {
      "text/plain": [
       "array([ 675311.48115849, 1422321.49065849,  333599.4996983 , ...,\n",
       "        603143.84130773,  161282.58294784,  427435.23943714])"
      ]
     },
     "execution_count": 104,
     "metadata": {},
     "output_type": "execute_result"
    }
   ],
   "source": [
    "lin_reg.predict(X_test)"
   ]
  },
  {
   "cell_type": "code",
   "execution_count": 105,
   "id": "0a8f98ff",
   "metadata": {},
   "outputs": [
    {
     "name": "stdout",
     "output_type": "stream",
     "text": [
      "MAE for all columns in Regression in Training Dataset: (140034.86870717426, 217117.93809045004)\n",
      "MAE for all columns in Regression in Test Dataset: (139951.68653572275, 213712.94344255395)\n"
     ]
    }
   ],
   "source": [
    "# For linear_ Regressor\n",
    "print(\"MAE for all columns in Regression in Training Dataset: {}\".format(y_prediction(lin_reg, X_train, y_train)))\n",
    "print(\"MAE for all columns in Regression in Test Dataset: {}\".format(y_prediction(lin_reg, X_test, y_test)))"
   ]
  },
  {
   "cell_type": "markdown",
   "id": "93aaec41",
   "metadata": {},
   "source": [
    "At least the Regression is better as it consistent between training and testing data"
   ]
  },
  {
   "cell_type": "code",
   "execution_count": 44,
   "id": "a479d479",
   "metadata": {},
   "outputs": [],
   "source": [
    "# Now lets perform cross_validation"
   ]
  },
  {
   "cell_type": "code",
   "execution_count": 106,
   "id": "54e516c6",
   "metadata": {},
   "outputs": [],
   "source": [
    "from sklearn.model_selection import cross_val_score\n",
    "scores = cross_val_score(dtree, X_train, y_train, scoring = \"neg_mean_squared_error\", cv = 10)\n",
    "\n",
    "scores_dtree = np.sqrt(-scores)\n",
    "\n",
    "def display_scores(scores):\n",
    "    print(\"Scores: \", np.sqrt(scores))\n",
    "    print(\"Mean: \", scores.mean())\n",
    "    print(\"Std.:\", scores.std())"
   ]
  },
  {
   "cell_type": "code",
   "execution_count": 107,
   "id": "a03d9e1b",
   "metadata": {},
   "outputs": [
    {
     "name": "stdout",
     "output_type": "stream",
     "text": [
      "Scores:  [497.58097965 503.32398682 524.49835357 517.52342556 519.34814889\n",
      " 497.16074766 504.58060257 547.19280884 515.24850098 513.41047899]\n",
      "Mean:  264383.5086919385\n",
      "Std.: 14767.58080333708\n"
     ]
    }
   ],
   "source": [
    "display_scores(scores_dtree)"
   ]
  },
  {
   "cell_type": "code",
   "execution_count": 108,
   "id": "591d24bb",
   "metadata": {},
   "outputs": [],
   "source": [
    "score_linreg = cross_val_score(lin_reg, X_train, y_train, scoring = \"neg_mean_squared_error\", cv = 10)\n",
    "\n",
    "score_linreg = np.sqrt(-score_linreg)"
   ]
  },
  {
   "cell_type": "code",
   "execution_count": 109,
   "id": "62d9cab0",
   "metadata": {},
   "outputs": [
    {
     "name": "stdout",
     "output_type": "stream",
     "text": [
      "Scores:  [483.84398173 451.92527631 466.95316517 472.40859828 468.02384995\n",
      " 442.50758372 455.11489638 501.29360991 455.1955307  459.92732236]\n",
      "Mean:  217157.68472629949\n",
      "Std.: 15319.721452323922\n"
     ]
    }
   ],
   "source": [
    "display_scores(score_linreg)"
   ]
  },
  {
   "cell_type": "markdown",
   "id": "65cf3094",
   "metadata": {},
   "source": [
    "## Observations\n",
    "cross_val_score lets you see the mean of the score of all the folds and the std. So, you can guess the range of the prediction better.\n",
    "\n",
    "Decision Tree performed worse than the Linear Regression"
   ]
  },
  {
   "cell_type": "markdown",
   "id": "b9a7168a",
   "metadata": {},
   "source": [
    "## FIne-tuning the model using GridSearchCV"
   ]
  },
  {
   "cell_type": "code",
   "execution_count": 63,
   "id": "b1b04550",
   "metadata": {},
   "outputs": [
    {
     "data": {
      "text/plain": [
       "\"\\nn_estimators=100, \\ncriterion='mse',\\nmax_depth=None, \\nmin_samples_split=2,\\nmin_samples_leaf=1, \\nmin_weight_fraction_leaf=0.0,\\nmax_features='auto',\\nmax_leaf_nodes=None,\\nmin_impurity_decrease=0.0,\\nmin_impurity_split=None,\\nbootstrap=True,\\noob_score=False,\\nn_jobs=None, \\nrandom_state=None, \\nverbose=0, \\nwarm_start=False, \\nccp_alpha=0.0,\\nmax_samples=None\\n\\n\""
      ]
     },
     "execution_count": 63,
     "metadata": {},
     "output_type": "execute_result"
    }
   ],
   "source": [
    "from sklearn.model_selection import GridSearchCV\n",
    "# Let us first use the GridSearchCV on a RandomForestRegressor\n",
    "from sklearn.ensemble import RandomForestRegressor\n",
    "\n",
    "forest_reg = RandomForestRegressor()\n",
    "# Below are the hyperparameters of the RandoForestRegressor()\n",
    "\n",
    "\"\"\"\n",
    "n_estimators=100, \n",
    "criterion='mse',\n",
    "max_depth=None, \n",
    "min_samples_split=2,\n",
    "min_samples_leaf=1, \n",
    "min_weight_fraction_leaf=0.0,\n",
    "max_features='auto',\n",
    "max_leaf_nodes=None,\n",
    "min_impurity_decrease=0.0,\n",
    "min_impurity_split=None,\n",
    "bootstrap=True,\n",
    "oob_score=False,\n",
    "n_jobs=None, \n",
    "random_state=None, \n",
    "verbose=0, \n",
    "warm_start=False, \n",
    "ccp_alpha=0.0,\n",
    "max_samples=None\n",
    "\n",
    "\"\"\""
   ]
  },
  {
   "cell_type": "code",
   "execution_count": 83,
   "id": "c3ec3f0a",
   "metadata": {},
   "outputs": [
    {
     "data": {
      "text/plain": [
       "GridSearchCV(cv=5, estimator=RandomForestRegressor(),\n",
       "             param_grid=[{'max_features': [2, 4, 6, 8],\n",
       "                          'n_estimators': [3, 10, 30]},\n",
       "                         {'bootstrap': [False], 'max_features': [5, 7, 9],\n",
       "                          'n_estimators': [3, 10]}],\n",
       "             return_train_score=True, scoring='neg_mean_squared_error')"
      ]
     },
     "execution_count": 83,
     "metadata": {},
     "output_type": "execute_result"
    }
   ],
   "source": [
    "param_grid = [\n",
    "    {'n_estimators':[3,10,30], 'max_features': [2,4,6,8]},\n",
    "    {\"bootstrap\": [False], 'n_estimators':[3,10], 'max_features': [5,7,9]}\n",
    "]\n",
    "\n",
    "grid_search = GridSearchCV(forest_reg, param_grid, cv = 5, scoring = \"neg_mean_squared_error\", return_train_score = True)\n",
    "grid_search.fit(X_train, y_train)\n"
   ]
  },
  {
   "cell_type": "code",
   "execution_count": 84,
   "id": "a53648fe",
   "metadata": {},
   "outputs": [
    {
     "data": {
      "text/plain": [
       "RandomForestRegressor(max_features=4, n_estimators=30)"
      ]
     },
     "execution_count": 84,
     "metadata": {},
     "output_type": "execute_result"
    }
   ],
   "source": [
    "grid_search.best_estimator_"
   ]
  },
  {
   "cell_type": "code",
   "execution_count": 85,
   "id": "ed7fe844",
   "metadata": {},
   "outputs": [
    {
     "data": {
      "text/plain": [
       "{'max_features': 4, 'n_estimators': 30}"
      ]
     },
     "execution_count": 85,
     "metadata": {},
     "output_type": "execute_result"
    }
   ],
   "source": [
    "grid_search.best_params_"
   ]
  },
  {
   "cell_type": "code",
   "execution_count": 69,
   "id": "50b13334",
   "metadata": {
    "collapsed": true
   },
   "outputs": [
    {
     "data": {
      "text/plain": [
       "{'mean_fit_time': array([0.12330189, 0.39483261, 1.16848736, 0.17978711, 0.58627892,\n",
       "        1.74787297, 0.2389873 , 0.77677679, 2.33927302, 0.30034413,\n",
       "        0.97381301, 2.91464443, 0.32476583, 1.06101608, 0.42342272,\n",
       "        1.26090899, 0.52078166, 1.70787668]),\n",
       " 'std_fit_time': array([0.00467005, 0.01304057, 0.03689713, 0.00713604, 0.00377377,\n",
       "        0.01344879, 0.0040642 , 0.0134764 , 0.01666695, 0.00388092,\n",
       "        0.01678488, 0.02251478, 0.00488499, 0.01096311, 0.00716724,\n",
       "        0.18541393, 0.02780911, 0.01109513]),\n",
       " 'mean_score_time': array([0.00662332, 0.01956654, 0.06136589, 0.00852075, 0.02121763,\n",
       "        0.06561527, 0.00800247, 0.0218111 , 0.0685101 , 0.00747471,\n",
       "        0.02144647, 0.06329389, 0.00652838, 0.02801571, 0.00995679,\n",
       "        0.01924043, 0.00849352, 0.02317777]),\n",
       " 'std_score_time': array([2.79296900e-03, 3.91390149e-03, 6.89833648e-03, 1.04158886e-03,\n",
       "        2.93626814e-03, 2.35748168e-03, 4.37912044e-06, 3.44242428e-03,\n",
       "        1.60034494e-03, 3.34254796e-03, 3.16270197e-03, 3.71806224e-03,\n",
       "        3.52294491e-03, 3.92518662e-03, 2.49614290e-03, 4.39992192e-03,\n",
       "        6.04213882e-04, 5.04279242e-03]),\n",
       " 'param_max_features': masked_array(data=[2, 2, 2, 4, 4, 4, 6, 6, 6, 8, 8, 8, 5, 5, 7, 7, 9, 9],\n",
       "              mask=[False, False, False, False, False, False, False, False,\n",
       "                    False, False, False, False, False, False, False, False,\n",
       "                    False, False],\n",
       "        fill_value='?',\n",
       "             dtype=object),\n",
       " 'param_n_estimators': masked_array(data=[3, 10, 30, 3, 10, 30, 3, 10, 30, 3, 10, 30, 3, 10, 3,\n",
       "                    10, 3, 10],\n",
       "              mask=[False, False, False, False, False, False, False, False,\n",
       "                    False, False, False, False, False, False, False, False,\n",
       "                    False, False],\n",
       "        fill_value='?',\n",
       "             dtype=object),\n",
       " 'param_bootstrap': masked_array(data=[--, --, --, --, --, --, --, --, --, --, --, --, False,\n",
       "                    False, False, False, False, False],\n",
       "              mask=[ True,  True,  True,  True,  True,  True,  True,  True,\n",
       "                     True,  True,  True,  True, False, False, False, False,\n",
       "                    False, False],\n",
       "        fill_value='?',\n",
       "             dtype=object),\n",
       " 'params': [{'max_features': 2, 'n_estimators': 3},\n",
       "  {'max_features': 2, 'n_estimators': 10},\n",
       "  {'max_features': 2, 'n_estimators': 30},\n",
       "  {'max_features': 4, 'n_estimators': 3},\n",
       "  {'max_features': 4, 'n_estimators': 10},\n",
       "  {'max_features': 4, 'n_estimators': 30},\n",
       "  {'max_features': 6, 'n_estimators': 3},\n",
       "  {'max_features': 6, 'n_estimators': 10},\n",
       "  {'max_features': 6, 'n_estimators': 30},\n",
       "  {'max_features': 8, 'n_estimators': 3},\n",
       "  {'max_features': 8, 'n_estimators': 10},\n",
       "  {'max_features': 8, 'n_estimators': 30},\n",
       "  {'bootstrap': False, 'max_features': 5, 'n_estimators': 3},\n",
       "  {'bootstrap': False, 'max_features': 5, 'n_estimators': 10},\n",
       "  {'bootstrap': False, 'max_features': 7, 'n_estimators': 3},\n",
       "  {'bootstrap': False, 'max_features': 7, 'n_estimators': 10},\n",
       "  {'bootstrap': False, 'max_features': 9, 'n_estimators': 3},\n",
       "  {'bootstrap': False, 'max_features': 9, 'n_estimators': 10}],\n",
       " 'split0_test_score': array([-140310.08943834, -128509.99022653, -122725.94087157,\n",
       "        -139997.66332498, -124086.87522914, -122289.91534796,\n",
       "        -138570.93920298, -123820.52988873, -120644.84610386,\n",
       "        -137965.19966583, -124992.11804752, -120764.38368831,\n",
       "        -136451.07518797, -126131.46080104, -136555.60805861,\n",
       "        -125868.77896183, -138244.90775014, -129298.69330538]),\n",
       " 'split1_test_score': array([-149404.87614871, -131576.87769954, -129336.53361453,\n",
       "        -145570.7991453 , -133600.44087864, -128020.13197288,\n",
       "        -143518.3291677 , -132952.09215346, -127616.0867892 ,\n",
       "        -147189.06917936, -132557.30938966, -128919.39505864,\n",
       "        -146092.49951803, -133937.17235396, -145891.2481203 ,\n",
       "        -136944.43559861, -149775.31935608, -137843.04978311]),\n",
       " 'split2_test_score': array([-143171.15503502, -128261.98617905, -122897.51103592,\n",
       "        -140680.37234111, -124604.56993858, -121811.78322528,\n",
       "        -140292.72884133, -125032.00560391, -121898.99407541,\n",
       "        -140689.67306086, -125781.37546992, -121215.94942126,\n",
       "        -139917.52067669, -127188.11836322, -141962.24710815,\n",
       "        -127639.551952  , -142660.61307114, -129993.10691151]),\n",
       " 'split3_test_score': array([-146885.81008611, -131110.48930981, -124997.02007083,\n",
       "        -143398.27549643, -128619.7739999 , -125171.29516545,\n",
       "        -142545.8340322 , -129689.74321587, -125007.64176673,\n",
       "        -145145.56465041, -128055.34028244, -124594.53907332,\n",
       "        -144099.38379603, -129770.43175246, -143593.26055523,\n",
       "        -132932.33014748, -146443.38755543, -136199.54230769]),\n",
       " 'split4_test_score': array([-145553.92802519, -128897.78422981, -125451.13605488,\n",
       "        -142633.50101536, -129277.73075477, -123471.01699716,\n",
       "        -142715.22178845, -128818.9213876 , -123838.96923979,\n",
       "        -141403.25637812, -126581.4660401 , -124724.88813299,\n",
       "        -141726.23404666, -132217.62197802, -141420.62989204,\n",
       "        -130970.26739445, -143686.70074224, -134421.570214  ]),\n",
       " 'mean_test_score': array([-145065.17174667, -129671.42552895, -125081.62832955,\n",
       "        -142456.12226464, -128037.87816021, -124152.82854175,\n",
       "        -141528.61060653, -128062.65844992, -123801.307595  ,\n",
       "        -142478.55258692, -127593.52184593, -124043.83107491,\n",
       "        -141657.34264507, -129848.96104974, -141884.59874687,\n",
       "        -130871.07281087, -144162.18569501, -133551.19250434]),\n",
       " 'std_test_score': array([3117.20220784, 1388.2092524 , 2390.29476227, 1990.860927  ,\n",
       "        3470.33055276, 2254.28994656, 1826.30739014, 3295.64597038,\n",
       "        2432.74522734, 3287.20630324, 2680.59307662, 2942.44564891,\n",
       "        3339.79426949, 2940.41102614, 3085.19699529, 3914.33334651,\n",
       "        3852.43133584, 3374.46515652]),\n",
       " 'rank_test_score': array([18,  8,  4, 15,  6,  3, 12,  7,  1, 16,  5,  2, 13,  9, 14, 10, 17,\n",
       "        11]),\n",
       " 'split0_train_score': array([-59533.74027456, -52669.92757175, -48212.10572979, -58500.70054543,\n",
       "        -51154.09930947, -47826.61031399, -58415.87971876, -51488.50668051,\n",
       "        -47351.10772241, -58238.91795193, -51356.32367376, -47545.50225761,\n",
       "          -116.59227395,   -118.88165124,   -116.35128687,   -117.04532967,\n",
       "          -116.35128687,   -116.35128687]),\n",
       " 'split1_train_score': array([-59706.73146809, -51209.25090888, -46656.41950237, -56704.30057114,\n",
       "        -50454.78308512, -46345.00699123, -57262.46058461, -49819.53367216,\n",
       "        -46370.36402973, -57677.60415823, -50001.34430531, -46651.32190191,\n",
       "          -141.38661558,   -143.14582128,   -140.90464141,   -141.19382591,\n",
       "          -140.90464141,   -140.90464141]),\n",
       " 'split2_train_score': array([-61583.60805459, -51384.60742292, -47783.58664901, -59240.08575124,\n",
       "        -50567.32118438, -47168.3070546 , -56782.47152979, -51275.9872316 ,\n",
       "        -47425.4245819 , -59166.996827  , -50806.63499554, -47574.4167425 ,\n",
       "          -132.30725853,   -130.21067091,   -129.65640062,   -129.63230191,\n",
       "          -130.62034895,   -129.48770966]),\n",
       " 'split3_train_score': array([-59394.1523922 , -52018.16285403, -47599.14886837, -59289.37832161,\n",
       "        -51074.43172161, -46942.1641186 , -58032.37522894, -50537.06777658,\n",
       "        -46681.8008976 , -57377.05188251, -50647.4835479 , -47118.41488981,\n",
       "          -164.78875072,   -164.2537594 ,   -162.74036052,   -162.04149798,\n",
       "          -161.77641218,   -161.68001735]),\n",
       " 'split4_train_score': array([-59417.51007326, -51863.06094949, -47696.83868405, -57441.0352283 ,\n",
       "        -51244.27066802, -47035.05560596, -58600.36993284, -50875.59619674,\n",
       "        -47537.18125325, -58676.35499888, -50727.84540586, -47348.41538281,\n",
       "          -157.85957683,   -158.31745228,   -156.89562849,   -156.95828514,\n",
       "          -156.65464141,   -156.87152979]),\n",
       " 'mean_train_score': array([-59927.14845254, -51829.00194141, -47589.61988672, -58235.10008354,\n",
       "        -50898.98119372, -47063.42881688, -57818.71139899, -50799.33831152,\n",
       "        -47073.17569698, -58227.38516371, -50707.92638567, -47247.61423493,\n",
       "          -142.58689512,   -142.96187102,   -141.30966358,   -141.37424812,\n",
       "          -141.26146617,   -141.05903702]),\n",
       " 'std_train_score': array([ 835.5869952 ,  514.912733  ,  511.38270581, 1016.45743073,\n",
       "         323.23467737,  474.35967957,  692.30922758,  589.36668784,\n",
       "         461.24724761,  649.60031388,  432.08118986,  339.98677669,\n",
       "          17.37244443,   16.92112474,   17.09432784,   16.73200258,\n",
       "          16.68346838,   16.85023519])}"
      ]
     },
     "execution_count": 69,
     "metadata": {},
     "output_type": "execute_result"
    }
   ],
   "source": [
    "grid_search.cv_results_"
   ]
  },
  {
   "cell_type": "code",
   "execution_count": 110,
   "id": "e9d6cf21",
   "metadata": {},
   "outputs": [
    {
     "name": "stdout",
     "output_type": "stream",
     "text": [
      "231011.96097033581 {'max_features': 2, 'n_estimators': 3}\n",
      "204415.22011703768 {'max_features': 2, 'n_estimators': 10}\n",
      "197666.4150466347 {'max_features': 2, 'n_estimators': 30}\n",
      "228121.34229361964 {'max_features': 4, 'n_estimators': 3}\n",
      "202512.2175835286 {'max_features': 4, 'n_estimators': 10}\n",
      "194304.41249509936 {'max_features': 4, 'n_estimators': 30}\n",
      "219108.89405663902 {'max_features': 6, 'n_estimators': 3}\n",
      "199981.1905014214 {'max_features': 6, 'n_estimators': 10}\n",
      "194927.87361958867 {'max_features': 6, 'n_estimators': 30}\n",
      "222137.34090678854 {'max_features': 8, 'n_estimators': 3}\n",
      "202367.07866816397 {'max_features': 8, 'n_estimators': 10}\n",
      "195706.63486027482 {'max_features': 8, 'n_estimators': 30}\n",
      "225866.53557731834 {'bootstrap': False, 'max_features': 5, 'n_estimators': 3}\n",
      "202737.56419461107 {'bootstrap': False, 'max_features': 5, 'n_estimators': 10}\n",
      "222224.48996435155 {'bootstrap': False, 'max_features': 7, 'n_estimators': 3}\n",
      "204492.7292739028 {'bootstrap': False, 'max_features': 7, 'n_estimators': 10}\n",
      "225043.04226104467 {'bootstrap': False, 'max_features': 9, 'n_estimators': 3}\n",
      "211328.53273935866 {'bootstrap': False, 'max_features': 9, 'n_estimators': 10}\n"
     ]
    }
   ],
   "source": [
    "cv_res = grid_search.cv_results_\n",
    "\n",
    "for mean_scores, params in zip(cv_res[\"mean_test_score\"], cv_res[\"params\"]):\n",
    "    print(np.sqrt(-mean_scores), params)"
   ]
  },
  {
   "cell_type": "code",
   "execution_count": 136,
   "id": "87320201",
   "metadata": {},
   "outputs": [
    {
     "data": {
      "text/plain": [
       "200962.54958844214"
      ]
     },
     "execution_count": 136,
     "metadata": {},
     "output_type": "execute_result"
    }
   ],
   "source": [
    "final_model = grid_search.best_estimator_\n",
    "\n",
    "X_test_scaled = std_sclr.fit_transform(X_test)\n",
    "final_preds = final_model.predict(X_test_scaled)\n",
    "\n",
    "final_rmse = np.sqrt(mean_squared_error(y_test, final_preds))\n",
    "final_rmse"
   ]
  },
  {
   "cell_type": "markdown",
   "id": "134597e1",
   "metadata": {},
   "source": [
    "## final_rmse is just a point estimate of the generalization error.\n",
    "## It is better to compute 95% CI of the generalisation error"
   ]
  },
  {
   "cell_type": "code",
   "execution_count": 139,
   "id": "dae6af64",
   "metadata": {},
   "outputs": [
    {
     "data": {
      "text/plain": [
       "array([178863.90922264, 220861.03017909])"
      ]
     },
     "execution_count": 139,
     "metadata": {},
     "output_type": "execute_result"
    }
   ],
   "source": [
    "from scipy import stats\n",
    "#scipy.stats.t.interval() TO FIND THE CONFIDENCE INTERVAL OF A SAMPLE STATISTIC\n",
    "# stats.sem computes standard error of the mean.\n",
    "\"\"\"\n",
    "Computing a confidence interval of a sample statistic \n",
    "calculates an upper and lower bound for the population\n",
    "value of the statistic at a specified level of confidence based on sample data.\n",
    "\"\"\"\n",
    "confidence = 0.95\n",
    "err_sqr = (final_preds - y_test)**2\n",
    "\"\"\"\n",
    "Call scipy.stats.t.interval(alpha, df, mean, std) \n",
    "confidence_level = 0.95\n",
    "degrees_freedom = sample.size - 1\n",
    "sample_mean = np.mean(sample)\n",
    "sample_standard_error = scipy.stats.sem(sample)\n",
    "\"\"\"\n",
    "np.sqrt(stats.t.interval(confidence, len(err_sqr)-1, loc = err_sqr.mean(), scale = stats.sem(err_sqr)))"
   ]
  },
  {
   "cell_type": "code",
   "execution_count": 146,
   "id": "90343fab",
   "metadata": {},
   "outputs": [
    {
     "data": {
      "text/plain": [
       "213712.94344255395"
      ]
     },
     "execution_count": 146,
     "metadata": {},
     "output_type": "execute_result"
    }
   ],
   "source": [
    "# Checking the same for simple LinearRegression\n",
    "\n",
    "final_preds_reg = lin_reg.predict(X_test)\n",
    "final_rmse_reg = np.sqrt(mean_squared_error(y_test, final_preds_reg))\n",
    "final_rmse_reg"
   ]
  },
  {
   "cell_type": "code",
   "execution_count": 150,
   "id": "123f160e",
   "metadata": {},
   "outputs": [
    {
     "data": {
      "text/plain": [
       "array([197120.019406  , 229107.27255837])"
      ]
     },
     "execution_count": 150,
     "metadata": {},
     "output_type": "execute_result"
    }
   ],
   "source": [
    "err_sqr_reg = (final_preds_reg - y_test)**2\n",
    "\n",
    "np.sqrt(stats.t.interval(confidence, len(err_sqr_reg)-1, err_sqr_reg.mean(), stats.sem(err_sqr_reg)))"
   ]
  },
  {
   "cell_type": "markdown",
   "id": "c5a94033",
   "metadata": {},
   "source": [
    "## Inference"
   ]
  },
  {
   "cell_type": "markdown",
   "id": "c953cbdd",
   "metadata": {},
   "source": [
    "The Value predicted by the model contains an error with the mean between 178863 and 220861. \n",
    "This means that the mean error in the population will fall in the range of 178863 and 220861. \n",
    "\n",
    "This model is not so great!! but Ok"
   ]
  },
  {
   "cell_type": "code",
   "execution_count": null,
   "id": "37d6ea66",
   "metadata": {},
   "outputs": [],
   "source": []
  }
 ],
 "metadata": {
  "kernelspec": {
   "display_name": "Python 3.7.4 64-bit ('base': conda)",
   "language": "python",
   "name": "python37464bitbasecondaa6beb71e76f344e8b8bfde2c47b605b8"
  },
  "language_info": {
   "codemirror_mode": {
    "name": "ipython",
    "version": 3
   },
   "file_extension": ".py",
   "mimetype": "text/x-python",
   "name": "python",
   "nbconvert_exporter": "python",
   "pygments_lexer": "ipython3",
   "version": "3.8.8"
  }
 },
 "nbformat": 4,
 "nbformat_minor": 5
}
