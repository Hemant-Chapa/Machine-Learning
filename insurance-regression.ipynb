{
 "cells": [
  {
   "cell_type": "code",
   "execution_count": 1,
   "id": "continued-chocolate",
   "metadata": {
    "_cell_guid": "b1076dfc-b9ad-4769-8c92-a6c4dae69d19",
    "_uuid": "8f2839f25d086af736a60e9eeb907d3b93b6e0e5",
    "execution": {
     "iopub.execute_input": "2021-07-05T23:22:17.877487Z",
     "iopub.status.busy": "2021-07-05T23:22:17.876816Z",
     "iopub.status.idle": "2021-07-05T23:22:17.888751Z",
     "shell.execute_reply": "2021-07-05T23:22:17.887689Z",
     "shell.execute_reply.started": "2021-07-05T19:09:58.241189Z"
    },
    "papermill": {
     "duration": 0.060138,
     "end_time": "2021-07-05T23:22:17.888966",
     "exception": false,
     "start_time": "2021-07-05T23:22:17.828828",
     "status": "completed"
    },
    "tags": []
   },
   "outputs": [
    {
     "name": "stdout",
     "output_type": "stream",
     "text": [
      "/kaggle/input/insurance/insurance.csv\n"
     ]
    }
   ],
   "source": [
    "# This Python 3 environment comes with many helpful analytics libraries installed\n",
    "# It is defined by the kaggle/python Docker image: https://github.com/kaggle/docker-python\n",
    "# For example, here's several helpful packages to load\n",
    "\n",
    "import numpy as np # linear algebra\n",
    "import pandas as pd # data processing, CSV file I/O (e.g. pd.read_csv)\n",
    "\n",
    "# Input data files are available in the read-only \"../input/\" directory\n",
    "# For example, running this (by clicking run or pressing Shift+Enter) will list all files under the input directory\n",
    "\n",
    "import os\n",
    "for dirname, _, filenames in os.walk('/kaggle/input'):\n",
    "    for filename in filenames:\n",
    "        print(os.path.join(dirname, filename))\n",
    "\n",
    "# You can write up to 20GB to the current directory (/kaggle/working/) that gets preserved as output when you create a version using \"Save & Run All\" \n",
    "# You can also write temporary files to /kaggle/temp/, but they won't be saved outside of the current session"
   ]
  },
  {
   "cell_type": "code",
   "execution_count": null,
   "id": "worthy-things",
   "metadata": {
    "papermill": {
     "duration": 0.039264,
     "end_time": "2021-07-05T23:22:17.969487",
     "exception": false,
     "start_time": "2021-07-05T23:22:17.930223",
     "status": "completed"
    },
    "tags": []
   },
   "outputs": [],
   "source": []
  },
  {
   "cell_type": "markdown",
   "id": "juvenile-netscape",
   "metadata": {
    "papermill": {
     "duration": 0.039433,
     "end_time": "2021-07-05T23:22:18.048850",
     "exception": false,
     "start_time": "2021-07-05T23:22:18.009417",
     "status": "completed"
    },
    "tags": []
   },
   "source": [
    "## Data Collection"
   ]
  },
  {
   "cell_type": "code",
   "execution_count": 2,
   "id": "ruled-observation",
   "metadata": {
    "execution": {
     "iopub.execute_input": "2021-07-05T23:22:18.134416Z",
     "iopub.status.busy": "2021-07-05T23:22:18.133664Z",
     "iopub.status.idle": "2021-07-05T23:22:18.184119Z",
     "shell.execute_reply": "2021-07-05T23:22:18.184675Z",
     "shell.execute_reply.started": "2021-07-05T19:12:45.887047Z"
    },
    "papermill": {
     "duration": 0.096331,
     "end_time": "2021-07-05T23:22:18.184866",
     "exception": false,
     "start_time": "2021-07-05T23:22:18.088535",
     "status": "completed"
    },
    "tags": []
   },
   "outputs": [
    {
     "data": {
      "text/html": [
       "<div>\n",
       "<style scoped>\n",
       "    .dataframe tbody tr th:only-of-type {\n",
       "        vertical-align: middle;\n",
       "    }\n",
       "\n",
       "    .dataframe tbody tr th {\n",
       "        vertical-align: top;\n",
       "    }\n",
       "\n",
       "    .dataframe thead th {\n",
       "        text-align: right;\n",
       "    }\n",
       "</style>\n",
       "<table border=\"1\" class=\"dataframe\">\n",
       "  <thead>\n",
       "    <tr style=\"text-align: right;\">\n",
       "      <th></th>\n",
       "      <th>age</th>\n",
       "      <th>sex</th>\n",
       "      <th>bmi</th>\n",
       "      <th>children</th>\n",
       "      <th>smoker</th>\n",
       "      <th>region</th>\n",
       "      <th>charges</th>\n",
       "    </tr>\n",
       "  </thead>\n",
       "  <tbody>\n",
       "    <tr>\n",
       "      <th>0</th>\n",
       "      <td>19</td>\n",
       "      <td>female</td>\n",
       "      <td>27.900</td>\n",
       "      <td>0</td>\n",
       "      <td>yes</td>\n",
       "      <td>southwest</td>\n",
       "      <td>16884.92400</td>\n",
       "    </tr>\n",
       "    <tr>\n",
       "      <th>1</th>\n",
       "      <td>18</td>\n",
       "      <td>male</td>\n",
       "      <td>33.770</td>\n",
       "      <td>1</td>\n",
       "      <td>no</td>\n",
       "      <td>southeast</td>\n",
       "      <td>1725.55230</td>\n",
       "    </tr>\n",
       "    <tr>\n",
       "      <th>2</th>\n",
       "      <td>28</td>\n",
       "      <td>male</td>\n",
       "      <td>33.000</td>\n",
       "      <td>3</td>\n",
       "      <td>no</td>\n",
       "      <td>southeast</td>\n",
       "      <td>4449.46200</td>\n",
       "    </tr>\n",
       "    <tr>\n",
       "      <th>3</th>\n",
       "      <td>33</td>\n",
       "      <td>male</td>\n",
       "      <td>22.705</td>\n",
       "      <td>0</td>\n",
       "      <td>no</td>\n",
       "      <td>northwest</td>\n",
       "      <td>21984.47061</td>\n",
       "    </tr>\n",
       "    <tr>\n",
       "      <th>4</th>\n",
       "      <td>32</td>\n",
       "      <td>male</td>\n",
       "      <td>28.880</td>\n",
       "      <td>0</td>\n",
       "      <td>no</td>\n",
       "      <td>northwest</td>\n",
       "      <td>3866.85520</td>\n",
       "    </tr>\n",
       "    <tr>\n",
       "      <th>...</th>\n",
       "      <td>...</td>\n",
       "      <td>...</td>\n",
       "      <td>...</td>\n",
       "      <td>...</td>\n",
       "      <td>...</td>\n",
       "      <td>...</td>\n",
       "      <td>...</td>\n",
       "    </tr>\n",
       "    <tr>\n",
       "      <th>1333</th>\n",
       "      <td>50</td>\n",
       "      <td>male</td>\n",
       "      <td>30.970</td>\n",
       "      <td>3</td>\n",
       "      <td>no</td>\n",
       "      <td>northwest</td>\n",
       "      <td>10600.54830</td>\n",
       "    </tr>\n",
       "    <tr>\n",
       "      <th>1334</th>\n",
       "      <td>18</td>\n",
       "      <td>female</td>\n",
       "      <td>31.920</td>\n",
       "      <td>0</td>\n",
       "      <td>no</td>\n",
       "      <td>northeast</td>\n",
       "      <td>2205.98080</td>\n",
       "    </tr>\n",
       "    <tr>\n",
       "      <th>1335</th>\n",
       "      <td>18</td>\n",
       "      <td>female</td>\n",
       "      <td>36.850</td>\n",
       "      <td>0</td>\n",
       "      <td>no</td>\n",
       "      <td>southeast</td>\n",
       "      <td>1629.83350</td>\n",
       "    </tr>\n",
       "    <tr>\n",
       "      <th>1336</th>\n",
       "      <td>21</td>\n",
       "      <td>female</td>\n",
       "      <td>25.800</td>\n",
       "      <td>0</td>\n",
       "      <td>no</td>\n",
       "      <td>southwest</td>\n",
       "      <td>2007.94500</td>\n",
       "    </tr>\n",
       "    <tr>\n",
       "      <th>1337</th>\n",
       "      <td>61</td>\n",
       "      <td>female</td>\n",
       "      <td>29.070</td>\n",
       "      <td>0</td>\n",
       "      <td>yes</td>\n",
       "      <td>northwest</td>\n",
       "      <td>29141.36030</td>\n",
       "    </tr>\n",
       "  </tbody>\n",
       "</table>\n",
       "<p>1338 rows × 7 columns</p>\n",
       "</div>"
      ],
      "text/plain": [
       "      age     sex     bmi  children smoker     region      charges\n",
       "0      19  female  27.900         0    yes  southwest  16884.92400\n",
       "1      18    male  33.770         1     no  southeast   1725.55230\n",
       "2      28    male  33.000         3     no  southeast   4449.46200\n",
       "3      33    male  22.705         0     no  northwest  21984.47061\n",
       "4      32    male  28.880         0     no  northwest   3866.85520\n",
       "...   ...     ...     ...       ...    ...        ...          ...\n",
       "1333   50    male  30.970         3     no  northwest  10600.54830\n",
       "1334   18  female  31.920         0     no  northeast   2205.98080\n",
       "1335   18  female  36.850         0     no  southeast   1629.83350\n",
       "1336   21  female  25.800         0     no  southwest   2007.94500\n",
       "1337   61  female  29.070         0    yes  northwest  29141.36030\n",
       "\n",
       "[1338 rows x 7 columns]"
      ]
     },
     "execution_count": 2,
     "metadata": {},
     "output_type": "execute_result"
    }
   ],
   "source": [
    "ins = pd.read_csv(\"../input/insurance/insurance.csv\")\n",
    "ins"
   ]
  },
  {
   "cell_type": "code",
   "execution_count": 3,
   "id": "nominated-grave",
   "metadata": {
    "execution": {
     "iopub.execute_input": "2021-07-05T23:22:18.285374Z",
     "iopub.status.busy": "2021-07-05T23:22:18.284462Z",
     "iopub.status.idle": "2021-07-05T23:22:18.288078Z",
     "shell.execute_reply": "2021-07-05T23:22:18.287558Z",
     "shell.execute_reply.started": "2021-07-05T19:12:53.847667Z"
    },
    "papermill": {
     "duration": 0.062818,
     "end_time": "2021-07-05T23:22:18.288215",
     "exception": false,
     "start_time": "2021-07-05T23:22:18.225397",
     "status": "completed"
    },
    "tags": []
   },
   "outputs": [
    {
     "name": "stdout",
     "output_type": "stream",
     "text": [
      "<class 'pandas.core.frame.DataFrame'>\n",
      "RangeIndex: 1338 entries, 0 to 1337\n",
      "Data columns (total 7 columns):\n",
      " #   Column    Non-Null Count  Dtype  \n",
      "---  ------    --------------  -----  \n",
      " 0   age       1338 non-null   int64  \n",
      " 1   sex       1338 non-null   object \n",
      " 2   bmi       1338 non-null   float64\n",
      " 3   children  1338 non-null   int64  \n",
      " 4   smoker    1338 non-null   object \n",
      " 5   region    1338 non-null   object \n",
      " 6   charges   1338 non-null   float64\n",
      "dtypes: float64(2), int64(2), object(3)\n",
      "memory usage: 73.3+ KB\n"
     ]
    }
   ],
   "source": [
    "ins.info() # NO missing values"
   ]
  },
  {
   "cell_type": "markdown",
   "id": "proved-profile",
   "metadata": {
    "papermill": {
     "duration": 0.040335,
     "end_time": "2021-07-05T23:22:18.369097",
     "exception": false,
     "start_time": "2021-07-05T23:22:18.328762",
     "status": "completed"
    },
    "tags": []
   },
   "source": [
    "## Missing Values ??"
   ]
  },
  {
   "cell_type": "code",
   "execution_count": 4,
   "id": "appropriate-charm",
   "metadata": {
    "execution": {
     "iopub.execute_input": "2021-07-05T23:22:18.459626Z",
     "iopub.status.busy": "2021-07-05T23:22:18.458514Z",
     "iopub.status.idle": "2021-07-05T23:22:18.463074Z",
     "shell.execute_reply": "2021-07-05T23:22:18.462505Z",
     "shell.execute_reply.started": "2021-07-05T19:13:55.656916Z"
    },
    "papermill": {
     "duration": 0.053428,
     "end_time": "2021-07-05T23:22:18.463225",
     "exception": false,
     "start_time": "2021-07-05T23:22:18.409797",
     "status": "completed"
    },
    "tags": []
   },
   "outputs": [
    {
     "data": {
      "text/plain": [
       "age         0\n",
       "sex         0\n",
       "bmi         0\n",
       "children    0\n",
       "smoker      0\n",
       "region      0\n",
       "charges     0\n",
       "dtype: int64"
      ]
     },
     "execution_count": 4,
     "metadata": {},
     "output_type": "execute_result"
    }
   ],
   "source": [
    "ins.isnull().sum()# NO missing values"
   ]
  },
  {
   "cell_type": "markdown",
   "id": "promising-jordan",
   "metadata": {
    "papermill": {
     "duration": 0.041112,
     "end_time": "2021-07-05T23:22:18.546314",
     "exception": false,
     "start_time": "2021-07-05T23:22:18.505202",
     "status": "completed"
    },
    "tags": []
   },
   "source": [
    "## Descriptive Statistics"
   ]
  },
  {
   "cell_type": "code",
   "execution_count": 5,
   "id": "hybrid-theology",
   "metadata": {
    "execution": {
     "iopub.execute_input": "2021-07-05T23:22:18.638633Z",
     "iopub.status.busy": "2021-07-05T23:22:18.637933Z",
     "iopub.status.idle": "2021-07-05T23:22:18.658434Z",
     "shell.execute_reply": "2021-07-05T23:22:18.657755Z",
     "shell.execute_reply.started": "2021-07-05T19:14:40.649440Z"
    },
    "papermill": {
     "duration": 0.070865,
     "end_time": "2021-07-05T23:22:18.658579",
     "exception": false,
     "start_time": "2021-07-05T23:22:18.587714",
     "status": "completed"
    },
    "tags": []
   },
   "outputs": [
    {
     "data": {
      "text/html": [
       "<div>\n",
       "<style scoped>\n",
       "    .dataframe tbody tr th:only-of-type {\n",
       "        vertical-align: middle;\n",
       "    }\n",
       "\n",
       "    .dataframe tbody tr th {\n",
       "        vertical-align: top;\n",
       "    }\n",
       "\n",
       "    .dataframe thead th {\n",
       "        text-align: right;\n",
       "    }\n",
       "</style>\n",
       "<table border=\"1\" class=\"dataframe\">\n",
       "  <thead>\n",
       "    <tr style=\"text-align: right;\">\n",
       "      <th></th>\n",
       "      <th>age</th>\n",
       "      <th>bmi</th>\n",
       "      <th>children</th>\n",
       "      <th>charges</th>\n",
       "    </tr>\n",
       "  </thead>\n",
       "  <tbody>\n",
       "    <tr>\n",
       "      <th>count</th>\n",
       "      <td>1338.000000</td>\n",
       "      <td>1338.000000</td>\n",
       "      <td>1338.000000</td>\n",
       "      <td>1338.000000</td>\n",
       "    </tr>\n",
       "    <tr>\n",
       "      <th>mean</th>\n",
       "      <td>39.207025</td>\n",
       "      <td>30.663397</td>\n",
       "      <td>1.094918</td>\n",
       "      <td>13270.422265</td>\n",
       "    </tr>\n",
       "    <tr>\n",
       "      <th>std</th>\n",
       "      <td>14.049960</td>\n",
       "      <td>6.098187</td>\n",
       "      <td>1.205493</td>\n",
       "      <td>12110.011237</td>\n",
       "    </tr>\n",
       "    <tr>\n",
       "      <th>min</th>\n",
       "      <td>18.000000</td>\n",
       "      <td>15.960000</td>\n",
       "      <td>0.000000</td>\n",
       "      <td>1121.873900</td>\n",
       "    </tr>\n",
       "    <tr>\n",
       "      <th>25%</th>\n",
       "      <td>27.000000</td>\n",
       "      <td>26.296250</td>\n",
       "      <td>0.000000</td>\n",
       "      <td>4740.287150</td>\n",
       "    </tr>\n",
       "    <tr>\n",
       "      <th>50%</th>\n",
       "      <td>39.000000</td>\n",
       "      <td>30.400000</td>\n",
       "      <td>1.000000</td>\n",
       "      <td>9382.033000</td>\n",
       "    </tr>\n",
       "    <tr>\n",
       "      <th>75%</th>\n",
       "      <td>51.000000</td>\n",
       "      <td>34.693750</td>\n",
       "      <td>2.000000</td>\n",
       "      <td>16639.912515</td>\n",
       "    </tr>\n",
       "    <tr>\n",
       "      <th>max</th>\n",
       "      <td>64.000000</td>\n",
       "      <td>53.130000</td>\n",
       "      <td>5.000000</td>\n",
       "      <td>63770.428010</td>\n",
       "    </tr>\n",
       "  </tbody>\n",
       "</table>\n",
       "</div>"
      ],
      "text/plain": [
       "               age          bmi     children       charges\n",
       "count  1338.000000  1338.000000  1338.000000   1338.000000\n",
       "mean     39.207025    30.663397     1.094918  13270.422265\n",
       "std      14.049960     6.098187     1.205493  12110.011237\n",
       "min      18.000000    15.960000     0.000000   1121.873900\n",
       "25%      27.000000    26.296250     0.000000   4740.287150\n",
       "50%      39.000000    30.400000     1.000000   9382.033000\n",
       "75%      51.000000    34.693750     2.000000  16639.912515\n",
       "max      64.000000    53.130000     5.000000  63770.428010"
      ]
     },
     "execution_count": 5,
     "metadata": {},
     "output_type": "execute_result"
    }
   ],
   "source": [
    "ins.describe()"
   ]
  },
  {
   "cell_type": "markdown",
   "id": "computational-strand",
   "metadata": {
    "papermill": {
     "duration": 0.041378,
     "end_time": "2021-07-05T23:22:18.741591",
     "exception": false,
     "start_time": "2021-07-05T23:22:18.700213",
     "status": "completed"
    },
    "tags": []
   },
   "source": [
    "## Exploratory Data Analysis"
   ]
  },
  {
   "cell_type": "code",
   "execution_count": 6,
   "id": "dependent-declaration",
   "metadata": {
    "execution": {
     "iopub.execute_input": "2021-07-05T23:22:18.835635Z",
     "iopub.status.busy": "2021-07-05T23:22:18.834913Z",
     "iopub.status.idle": "2021-07-05T23:22:20.278774Z",
     "shell.execute_reply": "2021-07-05T23:22:20.279297Z",
     "shell.execute_reply.started": "2021-07-05T19:35:45.976747Z"
    },
    "papermill": {
     "duration": 1.496125,
     "end_time": "2021-07-05T23:22:20.279481",
     "exception": false,
     "start_time": "2021-07-05T23:22:18.783356",
     "status": "completed"
    },
    "tags": []
   },
   "outputs": [
    {
     "name": "stderr",
     "output_type": "stream",
     "text": [
      "/opt/conda/lib/python3.7/site-packages/pandas/plotting/_matplotlib/tools.py:400: MatplotlibDeprecationWarning: \n",
      "The is_first_col function was deprecated in Matplotlib 3.4 and will be removed two minor releases later. Use ax.get_subplotspec().is_first_col() instead.\n",
      "  if ax.is_first_col():\n"
     ]
    },
    {
     "data": {
      "image/png": "[encoded data removed]",
      "text/plain": [
       "<Figure size 720x720 with 16 Axes>"
      ]
     },
     "metadata": {
      "needs_background": "light"
     },
     "output_type": "display_data"
    }
   ],
   "source": [
    "# EDA\n",
    "from pandas.plotting import scatter_matrix\n",
    "import matplotlib.pyplot as plt\n",
    "%matplotlib inline\n",
    "\n",
    "#fig = plt.figure(figsize = (10,10))\n",
    "scatter_matrix(ins[[\"age\", \"bmi\",\"children\", \"charges\"]], figsize = (10,10))\n",
    "plt.xticks(rotation = 90)\n",
    "plt.show()"
   ]
  },
  {
   "cell_type": "code",
   "execution_count": 7,
   "id": "acting-spanking",
   "metadata": {
    "execution": {
     "iopub.execute_input": "2021-07-05T23:22:20.381987Z",
     "iopub.status.busy": "2021-07-05T23:22:20.381234Z",
     "iopub.status.idle": "2021-07-05T23:22:21.464429Z",
     "shell.execute_reply": "2021-07-05T23:22:21.463875Z",
     "shell.execute_reply.started": "2021-07-05T22:59:35.380793Z"
    },
    "papermill": {
     "duration": 1.136816,
     "end_time": "2021-07-05T23:22:21.464584",
     "exception": false,
     "start_time": "2021-07-05T23:22:20.327768",
     "status": "completed"
    },
    "tags": []
   },
   "outputs": [
    {
     "data": {
      "image/png": "[encoded data removed]",
      "text/plain": [
       "<Figure size 576x432 with 2 Axes>"
      ]
     },
     "metadata": {
      "needs_background": "light"
     },
     "output_type": "display_data"
    }
   ],
   "source": [
    "# Checking correlation coeff using a heatmap\n",
    "import seaborn as sns\n",
    "ins_corr = ins.corr()\n",
    "plt.figure(figsize = (8,6))\n",
    "sns.heatmap(ins_corr, annot = True, cmap = \"YlGnBu\")\n",
    "plt.title(\"Correlation Matrix\", fontsize = 14)\n",
    "plt.show()"
   ]
  },
  {
   "cell_type": "markdown",
   "id": "nasty-outdoors",
   "metadata": {
    "papermill": {
     "duration": 0.04864,
     "end_time": "2021-07-05T23:22:21.562483",
     "exception": false,
     "start_time": "2021-07-05T23:22:21.513843",
     "status": "completed"
    },
    "tags": []
   },
   "source": []
  },
  {
   "cell_type": "code",
   "execution_count": 8,
   "id": "manufactured-logging",
   "metadata": {
    "execution": {
     "iopub.execute_input": "2021-07-05T23:22:21.670164Z",
     "iopub.status.busy": "2021-07-05T23:22:21.669432Z",
     "iopub.status.idle": "2021-07-05T23:22:21.873387Z",
     "shell.execute_reply": "2021-07-05T23:22:21.872840Z",
     "shell.execute_reply.started": "2021-07-05T23:00:33.479697Z"
    },
    "papermill": {
     "duration": 0.26178,
     "end_time": "2021-07-05T23:22:21.873535",
     "exception": false,
     "start_time": "2021-07-05T23:22:21.611755",
     "status": "completed"
    },
    "tags": []
   },
   "outputs": [
    {
     "data": {
      "image/png": "[encoded data removed]",
      "text/plain": [
       "<Figure size 432x288 with 1 Axes>"
      ]
     },
     "metadata": {
      "needs_background": "light"
     },
     "output_type": "display_data"
    }
   ],
   "source": [
    "sns.barplot(data=ins, x = \"smoker\", y = \"charges\")\n",
    "plt.title(\"Charges by Smoker\", fontsize = 14)\n",
    "plt.show()"
   ]
  },
  {
   "cell_type": "code",
   "execution_count": 9,
   "id": "extra-evaluation",
   "metadata": {
    "execution": {
     "iopub.execute_input": "2021-07-05T23:22:21.982099Z",
     "iopub.status.busy": "2021-07-05T23:22:21.981434Z",
     "iopub.status.idle": "2021-07-05T23:22:21.985057Z",
     "shell.execute_reply": "2021-07-05T23:22:21.985629Z",
     "shell.execute_reply.started": "2021-07-05T19:59:41.635289Z"
    },
    "papermill": {
     "duration": 0.062315,
     "end_time": "2021-07-05T23:22:21.985796",
     "exception": false,
     "start_time": "2021-07-05T23:22:21.923481",
     "status": "completed"
    },
    "tags": []
   },
   "outputs": [
    {
     "data": {
      "text/plain": [
       "280.00014582983204"
      ]
     },
     "execution_count": 9,
     "metadata": {},
     "output_type": "execute_result"
    }
   ],
   "source": [
    "grp_by_smoker = ins.groupby(\"smoker\")\n",
    "avg_charge_by_smoker = grp_by_smoker[\"charges\"].mean()\n",
    "(avg_charge_by_smoker[\"yes\"] - avg_charge_by_smoker[\"no\"])/avg_charge_by_smoker[\"no\"]*100\n",
    "#The charges vary depending whether or not one is smoker.\n"
   ]
  },
  {
   "cell_type": "code",
   "execution_count": 10,
   "id": "younger-grammar",
   "metadata": {
    "execution": {
     "iopub.execute_input": "2021-07-05T23:22:22.089076Z",
     "iopub.status.busy": "2021-07-05T23:22:22.088418Z",
     "iopub.status.idle": "2021-07-05T23:22:22.094386Z",
     "shell.execute_reply": "2021-07-05T23:22:22.094894Z",
     "shell.execute_reply.started": "2021-07-05T20:00:26.052997Z"
    },
    "papermill": {
     "duration": 0.059232,
     "end_time": "2021-07-05T23:22:22.095062",
     "exception": false,
     "start_time": "2021-07-05T23:22:22.035830",
     "status": "completed"
    },
    "tags": []
   },
   "outputs": [
    {
     "data": {
      "text/plain": [
       "smoker\n",
       "no      8434.268298\n",
       "yes    32050.231832\n",
       "Name: charges, dtype: float64"
      ]
     },
     "execution_count": 10,
     "metadata": {},
     "output_type": "execute_result"
    }
   ],
   "source": [
    "avg_charge_by_smoker"
   ]
  },
  {
   "cell_type": "code",
   "execution_count": 11,
   "id": "senior-sydney",
   "metadata": {
    "execution": {
     "iopub.execute_input": "2021-07-05T23:22:22.198867Z",
     "iopub.status.busy": "2021-07-05T23:22:22.198201Z",
     "iopub.status.idle": "2021-07-05T23:22:22.242931Z",
     "shell.execute_reply": "2021-07-05T23:22:22.242345Z",
     "shell.execute_reply.started": "2021-07-05T23:06:49.651033Z"
    },
    "papermill": {
     "duration": 0.097676,
     "end_time": "2021-07-05T23:22:22.243073",
     "exception": false,
     "start_time": "2021-07-05T23:22:22.145397",
     "status": "completed"
    },
    "tags": []
   },
   "outputs": [],
   "source": [
    "grp_by_age = ins.groupby([pd.cut(ins[\"age\"], bins = 5), \"smoker\"])\n",
    "mean_charges_by_age = grp_by_age[\"charges\"].mean().reset_index()\n",
    "mean_charges_by_age.age = mean_charges_by_age.age.astype(\"str\")\n",
    "mean_charges_by_age.groupby(\"age\")[\"charges\"].sum()\n",
    "\n",
    "mean_charges_by_age[\"total_charges_by_age\"] = mean_charges_by_age.groupby(\"age\").transform(np.sum)[\"charges\"]\n"
   ]
  },
  {
   "cell_type": "code",
   "execution_count": 12,
   "id": "designed-mapping",
   "metadata": {
    "execution": {
     "iopub.execute_input": "2021-07-05T23:22:22.347799Z",
     "iopub.status.busy": "2021-07-05T23:22:22.346799Z",
     "iopub.status.idle": "2021-07-05T23:22:22.362014Z",
     "shell.execute_reply": "2021-07-05T23:22:22.362476Z",
     "shell.execute_reply.started": "2021-07-05T23:19:43.239164Z"
    },
    "papermill": {
     "duration": 0.069165,
     "end_time": "2021-07-05T23:22:22.362648",
     "exception": false,
     "start_time": "2021-07-05T23:22:22.293483",
     "status": "completed"
    },
    "tags": []
   },
   "outputs": [
    {
     "data": {
      "text/html": [
       "<div>\n",
       "<style scoped>\n",
       "    .dataframe tbody tr th:only-of-type {\n",
       "        vertical-align: middle;\n",
       "    }\n",
       "\n",
       "    .dataframe tbody tr th {\n",
       "        vertical-align: top;\n",
       "    }\n",
       "\n",
       "    .dataframe thead th {\n",
       "        text-align: right;\n",
       "    }\n",
       "</style>\n",
       "<table border=\"1\" class=\"dataframe\">\n",
       "  <thead>\n",
       "    <tr style=\"text-align: right;\">\n",
       "      <th>smoker</th>\n",
       "      <th>no</th>\n",
       "      <th>yes</th>\n",
       "    </tr>\n",
       "    <tr>\n",
       "      <th>age</th>\n",
       "      <th></th>\n",
       "      <th></th>\n",
       "    </tr>\n",
       "  </thead>\n",
       "  <tbody>\n",
       "    <tr>\n",
       "      <th>(17.954, 27.2]</th>\n",
       "      <td>4137.989931</td>\n",
       "      <td>27457.382643</td>\n",
       "    </tr>\n",
       "    <tr>\n",
       "      <th>(27.2, 36.4]</th>\n",
       "      <td>5998.176866</td>\n",
       "      <td>29664.755384</td>\n",
       "    </tr>\n",
       "    <tr>\n",
       "      <th>(36.4, 45.6]</th>\n",
       "      <td>8048.552697</td>\n",
       "      <td>32295.172825</td>\n",
       "    </tr>\n",
       "    <tr>\n",
       "      <th>(45.6, 54.8]</th>\n",
       "      <td>11438.346490</td>\n",
       "      <td>34816.508707</td>\n",
       "    </tr>\n",
       "    <tr>\n",
       "      <th>(54.8, 64.0]</th>\n",
       "      <td>14064.827492</td>\n",
       "      <td>39696.365439</td>\n",
       "    </tr>\n",
       "  </tbody>\n",
       "</table>\n",
       "</div>"
      ],
      "text/plain": [
       "smoker                    no           yes\n",
       "age                                       \n",
       "(17.954, 27.2]   4137.989931  27457.382643\n",
       "(27.2, 36.4]     5998.176866  29664.755384\n",
       "(36.4, 45.6]     8048.552697  32295.172825\n",
       "(45.6, 54.8]    11438.346490  34816.508707\n",
       "(54.8, 64.0]    14064.827492  39696.365439"
      ]
     },
     "execution_count": 12,
     "metadata": {},
     "output_type": "execute_result"
    }
   ],
   "source": [
    "mean_charges_by_age_smoke = mean_charges_by_age.pivot(index = 'age', columns = \"smoker\", values = \"charges\").copy()\n",
    "mean_charges_by_age_smoke"
   ]
  },
  {
   "cell_type": "code",
   "execution_count": 13,
   "id": "answering-excellence",
   "metadata": {
    "execution": {
     "iopub.execute_input": "2021-07-05T23:22:22.468205Z",
     "iopub.status.busy": "2021-07-05T23:22:22.467208Z",
     "iopub.status.idle": "2021-07-05T23:22:22.497041Z",
     "shell.execute_reply": "2021-07-05T23:22:22.497502Z",
     "shell.execute_reply.started": "2021-07-05T23:19:45.673630Z"
    },
    "papermill": {
     "duration": 0.084198,
     "end_time": "2021-07-05T23:22:22.497675",
     "exception": false,
     "start_time": "2021-07-05T23:22:22.413477",
     "status": "completed"
    },
    "tags": []
   },
   "outputs": [
    {
     "data": {
      "text/html": [
       "<div>\n",
       "<style scoped>\n",
       "    .dataframe tbody tr th:only-of-type {\n",
       "        vertical-align: middle;\n",
       "    }\n",
       "\n",
       "    .dataframe tbody tr th {\n",
       "        vertical-align: top;\n",
       "    }\n",
       "\n",
       "    .dataframe thead th {\n",
       "        text-align: right;\n",
       "    }\n",
       "</style>\n",
       "<table border=\"1\" class=\"dataframe\">\n",
       "  <thead>\n",
       "    <tr style=\"text-align: right;\">\n",
       "      <th>smoker</th>\n",
       "      <th>no</th>\n",
       "      <th>yes</th>\n",
       "      <th>diff_smoker_non_smoker</th>\n",
       "      <th>pct_over_non_smoker</th>\n",
       "    </tr>\n",
       "    <tr>\n",
       "      <th>age</th>\n",
       "      <th></th>\n",
       "      <th></th>\n",
       "      <th></th>\n",
       "      <th></th>\n",
       "    </tr>\n",
       "  </thead>\n",
       "  <tbody>\n",
       "    <tr>\n",
       "      <th>(17.954, 27.2]</th>\n",
       "      <td>4137.989931</td>\n",
       "      <td>27457.382643</td>\n",
       "      <td>23319.392712</td>\n",
       "      <td>563.543969</td>\n",
       "    </tr>\n",
       "    <tr>\n",
       "      <th>(27.2, 36.4]</th>\n",
       "      <td>5998.176866</td>\n",
       "      <td>29664.755384</td>\n",
       "      <td>23666.578517</td>\n",
       "      <td>394.562865</td>\n",
       "    </tr>\n",
       "    <tr>\n",
       "      <th>(36.4, 45.6]</th>\n",
       "      <td>8048.552697</td>\n",
       "      <td>32295.172825</td>\n",
       "      <td>24246.620128</td>\n",
       "      <td>301.254412</td>\n",
       "    </tr>\n",
       "    <tr>\n",
       "      <th>(45.6, 54.8]</th>\n",
       "      <td>11438.346490</td>\n",
       "      <td>34816.508707</td>\n",
       "      <td>23378.162217</td>\n",
       "      <td>204.384106</td>\n",
       "    </tr>\n",
       "    <tr>\n",
       "      <th>(54.8, 64.0]</th>\n",
       "      <td>14064.827492</td>\n",
       "      <td>39696.365439</td>\n",
       "      <td>25631.537947</td>\n",
       "      <td>182.238552</td>\n",
       "    </tr>\n",
       "  </tbody>\n",
       "</table>\n",
       "</div>"
      ],
      "text/plain": [
       "smoker                    no           yes  diff_smoker_non_smoker  \\\n",
       "age                                                                  \n",
       "(17.954, 27.2]   4137.989931  27457.382643            23319.392712   \n",
       "(27.2, 36.4]     5998.176866  29664.755384            23666.578517   \n",
       "(36.4, 45.6]     8048.552697  32295.172825            24246.620128   \n",
       "(45.6, 54.8]    11438.346490  34816.508707            23378.162217   \n",
       "(54.8, 64.0]    14064.827492  39696.365439            25631.537947   \n",
       "\n",
       "smoker          pct_over_non_smoker  \n",
       "age                                  \n",
       "(17.954, 27.2]           563.543969  \n",
       "(27.2, 36.4]             394.562865  \n",
       "(36.4, 45.6]             301.254412  \n",
       "(45.6, 54.8]             204.384106  \n",
       "(54.8, 64.0]             182.238552  "
      ]
     },
     "execution_count": 13,
     "metadata": {},
     "output_type": "execute_result"
    }
   ],
   "source": [
    "mean_charges_by_age_smoke[\"diff_smoker_non_smoker\"] = (mean_charges_by_age_smoke[\"yes\"] - mean_charges_by_age_smoke[\"no\"])\n",
    "mean_charges_by_age_smoke[\"pct_over_non_smoker\"] = (mean_charges_by_age_smoke[\"yes\"] - mean_charges_by_age_smoke[\"no\"])/mean_charges_by_age_smoke[\"no\"]*100\n",
    "mean_charges_by_age_smoke"
   ]
  },
  {
   "cell_type": "code",
   "execution_count": 14,
   "id": "expected-ratio",
   "metadata": {
    "execution": {
     "iopub.execute_input": "2021-07-05T23:22:22.604632Z",
     "iopub.status.busy": "2021-07-05T23:22:22.603555Z",
     "iopub.status.idle": "2021-07-05T23:22:22.833721Z",
     "shell.execute_reply": "2021-07-05T23:22:22.833188Z",
     "shell.execute_reply.started": "2021-07-05T23:15:12.024600Z"
    },
    "papermill": {
     "duration": 0.284869,
     "end_time": "2021-07-05T23:22:22.833865",
     "exception": false,
     "start_time": "2021-07-05T23:22:22.548996",
     "status": "completed"
    },
    "tags": []
   },
   "outputs": [
    {
     "data": {
      "text/plain": [
       "Text(0.5, 1.0, 'Distribution Charges by Age group and Smoker')"
      ]
     },
     "execution_count": 14,
     "metadata": {},
     "output_type": "execute_result"
    },
    {
     "data": {
      "image/png": "[encoded data removed]",
      "text/plain": [
       "<Figure size 432x288 with 1 Axes>"
      ]
     },
     "metadata": {
      "needs_background": "light"
     },
     "output_type": "display_data"
    }
   ],
   "source": [
    "sns.barplot(x = 'age', y = 'charges', data = mean_charges_by_age, hue = \"smoker\")\n",
    "plt.title(\"Distribution Charges by Age group and Smoker\", fontsize = 14)\n"
   ]
  },
  {
   "cell_type": "code",
   "execution_count": 15,
   "id": "alternative-worse",
   "metadata": {
    "execution": {
     "iopub.execute_input": "2021-07-05T23:22:22.960919Z",
     "iopub.status.busy": "2021-07-05T23:22:22.948967Z",
     "iopub.status.idle": "2021-07-05T23:22:23.152690Z",
     "shell.execute_reply": "2021-07-05T23:22:23.152093Z",
     "shell.execute_reply.started": "2021-07-05T23:15:22.513437Z"
    },
    "papermill": {
     "duration": 0.266212,
     "end_time": "2021-07-05T23:22:23.152848",
     "exception": false,
     "start_time": "2021-07-05T23:22:22.886636",
     "status": "completed"
    },
    "tags": []
   },
   "outputs": [
    {
     "data": {
      "image/png": "[encoded data removed]",
      "text/plain": [
       "<Figure size 432x288 with 1 Axes>"
      ]
     },
     "metadata": {
      "needs_background": "light"
     },
     "output_type": "display_data"
    }
   ],
   "source": [
    "mean_charges_by_age.pivot(index = \"age\", columns = \"smoker\", values = \"charges\").plot()\n",
    "plt.title(\"Variation of charges by age and smoking habit\", fontsize = 14)\n",
    "plt.show()"
   ]
  },
  {
   "cell_type": "markdown",
   "id": "genetic-restriction",
   "metadata": {
    "papermill": {
     "duration": 0.054141,
     "end_time": "2021-07-05T23:22:23.261869",
     "exception": false,
     "start_time": "2021-07-05T23:22:23.207728",
     "status": "completed"
    },
    "tags": []
   },
   "source": [
    "There are 2 interesting observations\n",
    "1. The charges keep increasinig with age\n",
    "2. For an age group, the smoker pays more than the non smoker"
   ]
  },
  {
   "cell_type": "code",
   "execution_count": 16,
   "id": "italic-arrow",
   "metadata": {
    "execution": {
     "iopub.execute_input": "2021-07-05T23:22:23.410232Z",
     "iopub.status.busy": "2021-07-05T23:22:23.405864Z",
     "iopub.status.idle": "2021-07-05T23:22:26.078991Z",
     "shell.execute_reply": "2021-07-05T23:22:26.078421Z",
     "shell.execute_reply.started": "2021-07-05T21:14:41.416500Z"
    },
    "papermill": {
     "duration": 2.762272,
     "end_time": "2021-07-05T23:22:26.079133",
     "exception": false,
     "start_time": "2021-07-05T23:22:23.316861",
     "status": "completed"
    },
    "tags": []
   },
   "outputs": [
    {
     "data": {
      "text/plain": [
       "<BarContainer object of 1338 artists>"
      ]
     },
     "execution_count": 16,
     "metadata": {},
     "output_type": "execute_result"
    },
    {
     "data": {
      "image/png": "[encoded data removed]",
      "text/plain": [
       "<Figure size 432x288 with 1 Axes>"
      ]
     },
     "metadata": {
      "needs_background": "light"
     },
     "output_type": "display_data"
    }
   ],
   "source": [
    "# Does region have an influence on the charges\n",
    "plt.bar(x = ins.region, height = ins.charges)"
   ]
  },
  {
   "cell_type": "code",
   "execution_count": 17,
   "id": "micro-southeast",
   "metadata": {
    "execution": {
     "iopub.execute_input": "2021-07-05T23:22:26.205815Z",
     "iopub.status.busy": "2021-07-05T23:22:26.195408Z",
     "iopub.status.idle": "2021-07-05T23:22:26.210458Z",
     "shell.execute_reply": "2021-07-05T23:22:26.209897Z",
     "shell.execute_reply.started": "2021-07-05T21:16:33.538464Z"
    },
    "papermill": {
     "duration": 0.075985,
     "end_time": "2021-07-05T23:22:26.210600",
     "exception": false,
     "start_time": "2021-07-05T23:22:26.134615",
     "status": "completed"
    },
    "tags": []
   },
   "outputs": [
    {
     "data": {
      "text/html": [
       "<div>\n",
       "<style scoped>\n",
       "    .dataframe tbody tr th:only-of-type {\n",
       "        vertical-align: middle;\n",
       "    }\n",
       "\n",
       "    .dataframe tbody tr th {\n",
       "        vertical-align: top;\n",
       "    }\n",
       "\n",
       "    .dataframe thead th {\n",
       "        text-align: right;\n",
       "    }\n",
       "</style>\n",
       "<table border=\"1\" class=\"dataframe\">\n",
       "  <thead>\n",
       "    <tr style=\"text-align: right;\">\n",
       "      <th></th>\n",
       "      <th>region</th>\n",
       "      <th>age</th>\n",
       "      <th>bmi</th>\n",
       "      <th>children</th>\n",
       "      <th>charges</th>\n",
       "    </tr>\n",
       "  </thead>\n",
       "  <tbody>\n",
       "    <tr>\n",
       "      <th>0</th>\n",
       "      <td>northeast</td>\n",
       "      <td>39.268519</td>\n",
       "      <td>29.173503</td>\n",
       "      <td>1.046296</td>\n",
       "      <td>13406.384516</td>\n",
       "    </tr>\n",
       "    <tr>\n",
       "      <th>1</th>\n",
       "      <td>northwest</td>\n",
       "      <td>39.196923</td>\n",
       "      <td>29.199785</td>\n",
       "      <td>1.147692</td>\n",
       "      <td>12417.575374</td>\n",
       "    </tr>\n",
       "    <tr>\n",
       "      <th>2</th>\n",
       "      <td>southeast</td>\n",
       "      <td>38.939560</td>\n",
       "      <td>33.355989</td>\n",
       "      <td>1.049451</td>\n",
       "      <td>14735.411438</td>\n",
       "    </tr>\n",
       "    <tr>\n",
       "      <th>3</th>\n",
       "      <td>southwest</td>\n",
       "      <td>39.455385</td>\n",
       "      <td>30.596615</td>\n",
       "      <td>1.141538</td>\n",
       "      <td>12346.937377</td>\n",
       "    </tr>\n",
       "  </tbody>\n",
       "</table>\n",
       "</div>"
      ],
      "text/plain": [
       "      region        age        bmi  children       charges\n",
       "0  northeast  39.268519  29.173503  1.046296  13406.384516\n",
       "1  northwest  39.196923  29.199785  1.147692  12417.575374\n",
       "2  southeast  38.939560  33.355989  1.049451  14735.411438\n",
       "3  southwest  39.455385  30.596615  1.141538  12346.937377"
      ]
     },
     "execution_count": 17,
     "metadata": {},
     "output_type": "execute_result"
    }
   ],
   "source": [
    "mean_charge_by_region = ins.groupby(\"region\").mean().reset_index()\n",
    "mean_charge_by_region"
   ]
  },
  {
   "cell_type": "code",
   "execution_count": 18,
   "id": "dental-speaker",
   "metadata": {
    "execution": {
     "iopub.execute_input": "2021-07-05T23:22:26.327791Z",
     "iopub.status.busy": "2021-07-05T23:22:26.327109Z",
     "iopub.status.idle": "2021-07-05T23:22:26.340842Z",
     "shell.execute_reply": "2021-07-05T23:22:26.340198Z",
     "shell.execute_reply.started": "2021-07-05T21:19:07.308216Z"
    },
    "papermill": {
     "duration": 0.074545,
     "end_time": "2021-07-05T23:22:26.340983",
     "exception": false,
     "start_time": "2021-07-05T23:22:26.266438",
     "status": "completed"
    },
    "tags": []
   },
   "outputs": [
    {
     "data": {
      "text/html": [
       "<div>\n",
       "<style scoped>\n",
       "    .dataframe tbody tr th:only-of-type {\n",
       "        vertical-align: middle;\n",
       "    }\n",
       "\n",
       "    .dataframe tbody tr th {\n",
       "        vertical-align: top;\n",
       "    }\n",
       "\n",
       "    .dataframe thead th {\n",
       "        text-align: right;\n",
       "    }\n",
       "</style>\n",
       "<table border=\"1\" class=\"dataframe\">\n",
       "  <thead>\n",
       "    <tr style=\"text-align: right;\">\n",
       "      <th></th>\n",
       "      <th>region</th>\n",
       "      <th>smoker</th>\n",
       "      <th>charges</th>\n",
       "    </tr>\n",
       "  </thead>\n",
       "  <tbody>\n",
       "    <tr>\n",
       "      <th>0</th>\n",
       "      <td>northeast</td>\n",
       "      <td>no</td>\n",
       "      <td>9165.531672</td>\n",
       "    </tr>\n",
       "    <tr>\n",
       "      <th>1</th>\n",
       "      <td>northeast</td>\n",
       "      <td>yes</td>\n",
       "      <td>29673.536473</td>\n",
       "    </tr>\n",
       "    <tr>\n",
       "      <th>2</th>\n",
       "      <td>northwest</td>\n",
       "      <td>no</td>\n",
       "      <td>8556.463715</td>\n",
       "    </tr>\n",
       "    <tr>\n",
       "      <th>3</th>\n",
       "      <td>northwest</td>\n",
       "      <td>yes</td>\n",
       "      <td>30192.003182</td>\n",
       "    </tr>\n",
       "    <tr>\n",
       "      <th>4</th>\n",
       "      <td>southeast</td>\n",
       "      <td>no</td>\n",
       "      <td>8032.216309</td>\n",
       "    </tr>\n",
       "    <tr>\n",
       "      <th>5</th>\n",
       "      <td>southeast</td>\n",
       "      <td>yes</td>\n",
       "      <td>34844.996824</td>\n",
       "    </tr>\n",
       "    <tr>\n",
       "      <th>6</th>\n",
       "      <td>southwest</td>\n",
       "      <td>no</td>\n",
       "      <td>8019.284513</td>\n",
       "    </tr>\n",
       "    <tr>\n",
       "      <th>7</th>\n",
       "      <td>southwest</td>\n",
       "      <td>yes</td>\n",
       "      <td>32269.063494</td>\n",
       "    </tr>\n",
       "  </tbody>\n",
       "</table>\n",
       "</div>"
      ],
      "text/plain": [
       "      region smoker       charges\n",
       "0  northeast     no   9165.531672\n",
       "1  northeast    yes  29673.536473\n",
       "2  northwest     no   8556.463715\n",
       "3  northwest    yes  30192.003182\n",
       "4  southeast     no   8032.216309\n",
       "5  southeast    yes  34844.996824\n",
       "6  southwest     no   8019.284513\n",
       "7  southwest    yes  32269.063494"
      ]
     },
     "execution_count": 18,
     "metadata": {},
     "output_type": "execute_result"
    }
   ],
   "source": [
    "grp_by_region_smoker = ins.groupby([\"region\", \"smoker\"])\n",
    "mean_charge_by_region_smoker = grp_by_region_smoker[\"charges\"].mean().reset_index()\n",
    "mean_charge_by_region_smoker"
   ]
  },
  {
   "cell_type": "code",
   "execution_count": 19,
   "id": "catholic-replication",
   "metadata": {
    "execution": {
     "iopub.execute_input": "2021-07-05T23:22:26.458215Z",
     "iopub.status.busy": "2021-07-05T23:22:26.457192Z",
     "iopub.status.idle": "2021-07-05T23:22:26.791405Z",
     "shell.execute_reply": "2021-07-05T23:22:26.791862Z",
     "shell.execute_reply.started": "2021-07-05T21:19:52.196574Z"
    },
    "papermill": {
     "duration": 0.39535,
     "end_time": "2021-07-05T23:22:26.792037",
     "exception": false,
     "start_time": "2021-07-05T23:22:26.396687",
     "status": "completed"
    },
    "tags": []
   },
   "outputs": [
    {
     "data": {
      "image/png": "[encoded data removed]",
      "text/plain": [
       "<Figure size 432x288 with 1 Axes>"
      ]
     },
     "metadata": {
      "needs_background": "light"
     },
     "output_type": "display_data"
    }
   ],
   "source": [
    "sns.barplot(data = mean_charge_by_region_smoker, x = \"region\", y = \"charges\", hue = \"smoker\")\n",
    "plt.show()"
   ]
  },
  {
   "cell_type": "code",
   "execution_count": 20,
   "id": "pharmaceutical-memorabilia",
   "metadata": {
    "execution": {
     "iopub.execute_input": "2021-07-05T23:22:26.909546Z",
     "iopub.status.busy": "2021-07-05T23:22:26.908527Z",
     "iopub.status.idle": "2021-07-05T23:22:27.078049Z",
     "shell.execute_reply": "2021-07-05T23:22:27.077416Z",
     "shell.execute_reply.started": "2021-07-05T21:21:17.894979Z"
    },
    "papermill": {
     "duration": 0.230295,
     "end_time": "2021-07-05T23:22:27.078188",
     "exception": false,
     "start_time": "2021-07-05T23:22:26.847893",
     "status": "completed"
    },
    "tags": []
   },
   "outputs": [
    {
     "data": {
      "text/plain": [
       "<AxesSubplot:xlabel='region'>"
      ]
     },
     "execution_count": 20,
     "metadata": {},
     "output_type": "execute_result"
    },
    {
     "data": {
      "image/png": "[encoded data removed]",
      "text/plain": [
       "<Figure size 432x288 with 1 Axes>"
      ]
     },
     "metadata": {
      "needs_background": "light"
     },
     "output_type": "display_data"
    }
   ],
   "source": [
    "mean_charge_by_region_smoker.pivot(index = \"region\", columns = \"smoker\", values = \"charges\").plot()"
   ]
  },
  {
   "cell_type": "code",
   "execution_count": 21,
   "id": "included-channels",
   "metadata": {
    "execution": {
     "iopub.execute_input": "2021-07-05T23:22:27.235068Z",
     "iopub.status.busy": "2021-07-05T23:22:27.209024Z",
     "iopub.status.idle": "2021-07-05T23:22:27.239969Z",
     "shell.execute_reply": "2021-07-05T23:22:27.239438Z",
     "shell.execute_reply.started": "2021-07-05T21:22:25.493747Z"
    },
    "papermill": {
     "duration": 0.103968,
     "end_time": "2021-07-05T23:22:27.240107",
     "exception": false,
     "start_time": "2021-07-05T23:22:27.136139",
     "status": "completed"
    },
    "tags": []
   },
   "outputs": [
    {
     "data": {
      "text/html": [
       "<div>\n",
       "<style scoped>\n",
       "    .dataframe tbody tr th:only-of-type {\n",
       "        vertical-align: middle;\n",
       "    }\n",
       "\n",
       "    .dataframe tbody tr th {\n",
       "        vertical-align: top;\n",
       "    }\n",
       "\n",
       "    .dataframe thead tr th {\n",
       "        text-align: left;\n",
       "    }\n",
       "\n",
       "    .dataframe thead tr:last-of-type th {\n",
       "        text-align: right;\n",
       "    }\n",
       "</style>\n",
       "<table border=\"1\" class=\"dataframe\">\n",
       "  <thead>\n",
       "    <tr>\n",
       "      <th></th>\n",
       "      <th colspan=\"8\" halign=\"left\">charges</th>\n",
       "    </tr>\n",
       "    <tr>\n",
       "      <th></th>\n",
       "      <th>count</th>\n",
       "      <th>mean</th>\n",
       "      <th>std</th>\n",
       "      <th>min</th>\n",
       "      <th>25%</th>\n",
       "      <th>50%</th>\n",
       "      <th>75%</th>\n",
       "      <th>max</th>\n",
       "    </tr>\n",
       "    <tr>\n",
       "      <th>region</th>\n",
       "      <th></th>\n",
       "      <th></th>\n",
       "      <th></th>\n",
       "      <th></th>\n",
       "      <th></th>\n",
       "      <th></th>\n",
       "      <th></th>\n",
       "      <th></th>\n",
       "    </tr>\n",
       "  </thead>\n",
       "  <tbody>\n",
       "    <tr>\n",
       "      <th>northeast</th>\n",
       "      <td>2.0</td>\n",
       "      <td>19419.534072</td>\n",
       "      <td>14501.349263</td>\n",
       "      <td>9165.531672</td>\n",
       "      <td>14292.532872</td>\n",
       "      <td>19419.534072</td>\n",
       "      <td>24546.535273</td>\n",
       "      <td>29673.536473</td>\n",
       "    </tr>\n",
       "    <tr>\n",
       "      <th>northwest</th>\n",
       "      <td>2.0</td>\n",
       "      <td>19374.233449</td>\n",
       "      <td>15298.636672</td>\n",
       "      <td>8556.463715</td>\n",
       "      <td>13965.348582</td>\n",
       "      <td>19374.233449</td>\n",
       "      <td>24783.118316</td>\n",
       "      <td>30192.003182</td>\n",
       "    </tr>\n",
       "    <tr>\n",
       "      <th>southeast</th>\n",
       "      <td>2.0</td>\n",
       "      <td>21438.606566</td>\n",
       "      <td>18959.498924</td>\n",
       "      <td>8032.216309</td>\n",
       "      <td>14735.411438</td>\n",
       "      <td>21438.606566</td>\n",
       "      <td>28141.801695</td>\n",
       "      <td>34844.996824</td>\n",
       "    </tr>\n",
       "    <tr>\n",
       "      <th>southwest</th>\n",
       "      <td>2.0</td>\n",
       "      <td>20144.174003</td>\n",
       "      <td>17147.183159</td>\n",
       "      <td>8019.284513</td>\n",
       "      <td>14081.729258</td>\n",
       "      <td>20144.174003</td>\n",
       "      <td>26206.618748</td>\n",
       "      <td>32269.063494</td>\n",
       "    </tr>\n",
       "  </tbody>\n",
       "</table>\n",
       "</div>"
      ],
      "text/plain": [
       "          charges                                                         \\\n",
       "            count          mean           std          min           25%   \n",
       "region                                                                     \n",
       "northeast     2.0  19419.534072  14501.349263  9165.531672  14292.532872   \n",
       "northwest     2.0  19374.233449  15298.636672  8556.463715  13965.348582   \n",
       "southeast     2.0  21438.606566  18959.498924  8032.216309  14735.411438   \n",
       "southwest     2.0  20144.174003  17147.183159  8019.284513  14081.729258   \n",
       "\n",
       "                                                     \n",
       "                    50%           75%           max  \n",
       "region                                               \n",
       "northeast  19419.534072  24546.535273  29673.536473  \n",
       "northwest  19374.233449  24783.118316  30192.003182  \n",
       "southeast  21438.606566  28141.801695  34844.996824  \n",
       "southwest  20144.174003  26206.618748  32269.063494  "
      ]
     },
     "execution_count": 21,
     "metadata": {},
     "output_type": "execute_result"
    }
   ],
   "source": [
    "mean_charge_by_region_smoker.groupby(\"region\").describe()"
   ]
  },
  {
   "cell_type": "markdown",
   "id": "fancy-library",
   "metadata": {
    "papermill": {
     "duration": 0.057936,
     "end_time": "2021-07-05T23:22:27.355909",
     "exception": false,
     "start_time": "2021-07-05T23:22:27.297973",
     "status": "completed"
    },
    "tags": []
   },
   "source": [
    "A non-smoker pays lesser charges in South East region. \n",
    "\n",
    "Also, a smoker pays higher charges in southeast region.For a smoker, the northeast region will incur low charges. For a non-smoker, south east region will incur the low charges"
   ]
  },
  {
   "cell_type": "code",
   "execution_count": 22,
   "id": "attached-designer",
   "metadata": {
    "execution": {
     "iopub.execute_input": "2021-07-05T23:22:27.486364Z",
     "iopub.status.busy": "2021-07-05T23:22:27.483549Z",
     "iopub.status.idle": "2021-07-05T23:22:27.508865Z",
     "shell.execute_reply": "2021-07-05T23:22:27.508174Z",
     "shell.execute_reply.started": "2021-07-05T21:36:08.380442Z"
    },
    "papermill": {
     "duration": 0.094828,
     "end_time": "2021-07-05T23:22:27.509008",
     "exception": false,
     "start_time": "2021-07-05T23:22:27.414180",
     "status": "completed"
    },
    "tags": []
   },
   "outputs": [
    {
     "data": {
      "text/html": [
       "<div>\n",
       "<style scoped>\n",
       "    .dataframe tbody tr th:only-of-type {\n",
       "        vertical-align: middle;\n",
       "    }\n",
       "\n",
       "    .dataframe tbody tr th {\n",
       "        vertical-align: top;\n",
       "    }\n",
       "\n",
       "    .dataframe thead th {\n",
       "        text-align: right;\n",
       "    }\n",
       "</style>\n",
       "<table border=\"1\" class=\"dataframe\">\n",
       "  <thead>\n",
       "    <tr style=\"text-align: right;\">\n",
       "      <th></th>\n",
       "      <th>age</th>\n",
       "      <th>sex</th>\n",
       "      <th>smoker</th>\n",
       "      <th>charges</th>\n",
       "    </tr>\n",
       "  </thead>\n",
       "  <tbody>\n",
       "    <tr>\n",
       "      <th>0</th>\n",
       "      <td>(17.954, 27.2]</td>\n",
       "      <td>female</td>\n",
       "      <td>no</td>\n",
       "      <td>4790.240704</td>\n",
       "    </tr>\n",
       "    <tr>\n",
       "      <th>1</th>\n",
       "      <td>(17.954, 27.2]</td>\n",
       "      <td>female</td>\n",
       "      <td>yes</td>\n",
       "      <td>25392.476195</td>\n",
       "    </tr>\n",
       "    <tr>\n",
       "      <th>2</th>\n",
       "      <td>(17.954, 27.2]</td>\n",
       "      <td>male</td>\n",
       "      <td>no</td>\n",
       "      <td>3508.230564</td>\n",
       "    </tr>\n",
       "    <tr>\n",
       "      <th>3</th>\n",
       "      <td>(17.954, 27.2]</td>\n",
       "      <td>male</td>\n",
       "      <td>yes</td>\n",
       "      <td>29090.099369</td>\n",
       "    </tr>\n",
       "    <tr>\n",
       "      <th>4</th>\n",
       "      <td>(27.2, 36.4]</td>\n",
       "      <td>female</td>\n",
       "      <td>no</td>\n",
       "      <td>5581.764914</td>\n",
       "    </tr>\n",
       "    <tr>\n",
       "      <th>5</th>\n",
       "      <td>(27.2, 36.4]</td>\n",
       "      <td>female</td>\n",
       "      <td>yes</td>\n",
       "      <td>29962.706778</td>\n",
       "    </tr>\n",
       "    <tr>\n",
       "      <th>6</th>\n",
       "      <td>(27.2, 36.4]</td>\n",
       "      <td>male</td>\n",
       "      <td>no</td>\n",
       "      <td>6466.640313</td>\n",
       "    </tr>\n",
       "    <tr>\n",
       "      <th>7</th>\n",
       "      <td>(27.2, 36.4]</td>\n",
       "      <td>male</td>\n",
       "      <td>yes</td>\n",
       "      <td>29511.265272</td>\n",
       "    </tr>\n",
       "    <tr>\n",
       "      <th>8</th>\n",
       "      <td>(36.4, 45.6]</td>\n",
       "      <td>female</td>\n",
       "      <td>no</td>\n",
       "      <td>8214.241135</td>\n",
       "    </tr>\n",
       "    <tr>\n",
       "      <th>9</th>\n",
       "      <td>(36.4, 45.6]</td>\n",
       "      <td>female</td>\n",
       "      <td>yes</td>\n",
       "      <td>30886.347177</td>\n",
       "    </tr>\n",
       "    <tr>\n",
       "      <th>10</th>\n",
       "      <td>(36.4, 45.6]</td>\n",
       "      <td>male</td>\n",
       "      <td>no</td>\n",
       "      <td>7879.222756</td>\n",
       "    </tr>\n",
       "    <tr>\n",
       "      <th>11</th>\n",
       "      <td>(36.4, 45.6]</td>\n",
       "      <td>male</td>\n",
       "      <td>yes</td>\n",
       "      <td>33558.257889</td>\n",
       "    </tr>\n",
       "    <tr>\n",
       "      <th>12</th>\n",
       "      <td>(45.6, 54.8]</td>\n",
       "      <td>female</td>\n",
       "      <td>no</td>\n",
       "      <td>11734.095084</td>\n",
       "    </tr>\n",
       "    <tr>\n",
       "      <th>13</th>\n",
       "      <td>(45.6, 54.8]</td>\n",
       "      <td>female</td>\n",
       "      <td>yes</td>\n",
       "      <td>33780.347315</td>\n",
       "    </tr>\n",
       "    <tr>\n",
       "      <th>14</th>\n",
       "      <td>(45.6, 54.8]</td>\n",
       "      <td>male</td>\n",
       "      <td>no</td>\n",
       "      <td>11106.383782</td>\n",
       "    </tr>\n",
       "    <tr>\n",
       "      <th>15</th>\n",
       "      <td>(45.6, 54.8]</td>\n",
       "      <td>male</td>\n",
       "      <td>yes</td>\n",
       "      <td>35507.282967</td>\n",
       "    </tr>\n",
       "    <tr>\n",
       "      <th>16</th>\n",
       "      <td>(54.8, 64.0]</td>\n",
       "      <td>female</td>\n",
       "      <td>no</td>\n",
       "      <td>14429.269648</td>\n",
       "    </tr>\n",
       "    <tr>\n",
       "      <th>17</th>\n",
       "      <td>(54.8, 64.0]</td>\n",
       "      <td>female</td>\n",
       "      <td>yes</td>\n",
       "      <td>37595.688500</td>\n",
       "    </tr>\n",
       "    <tr>\n",
       "      <th>18</th>\n",
       "      <td>(54.8, 64.0]</td>\n",
       "      <td>male</td>\n",
       "      <td>no</td>\n",
       "      <td>13662.023004</td>\n",
       "    </tr>\n",
       "    <tr>\n",
       "      <th>19</th>\n",
       "      <td>(54.8, 64.0]</td>\n",
       "      <td>male</td>\n",
       "      <td>yes</td>\n",
       "      <td>41271.873143</td>\n",
       "    </tr>\n",
       "  </tbody>\n",
       "</table>\n",
       "</div>"
      ],
      "text/plain": [
       "               age     sex smoker       charges\n",
       "0   (17.954, 27.2]  female     no   4790.240704\n",
       "1   (17.954, 27.2]  female    yes  25392.476195\n",
       "2   (17.954, 27.2]    male     no   3508.230564\n",
       "3   (17.954, 27.2]    male    yes  29090.099369\n",
       "4     (27.2, 36.4]  female     no   5581.764914\n",
       "5     (27.2, 36.4]  female    yes  29962.706778\n",
       "6     (27.2, 36.4]    male     no   6466.640313\n",
       "7     (27.2, 36.4]    male    yes  29511.265272\n",
       "8     (36.4, 45.6]  female     no   8214.241135\n",
       "9     (36.4, 45.6]  female    yes  30886.347177\n",
       "10    (36.4, 45.6]    male     no   7879.222756\n",
       "11    (36.4, 45.6]    male    yes  33558.257889\n",
       "12    (45.6, 54.8]  female     no  11734.095084\n",
       "13    (45.6, 54.8]  female    yes  33780.347315\n",
       "14    (45.6, 54.8]    male     no  11106.383782\n",
       "15    (45.6, 54.8]    male    yes  35507.282967\n",
       "16    (54.8, 64.0]  female     no  14429.269648\n",
       "17    (54.8, 64.0]  female    yes  37595.688500\n",
       "18    (54.8, 64.0]    male     no  13662.023004\n",
       "19    (54.8, 64.0]    male    yes  41271.873143"
      ]
     },
     "execution_count": 22,
     "metadata": {},
     "output_type": "execute_result"
    }
   ],
   "source": [
    "# PREDICTION\n",
    "# ins.groupby([\"sex\",])[\"charges\"].mean() # almost the same \n",
    "\n",
    "grp_by_age_sex = ins.groupby([pd.cut(ins[\"age\"], bins = 5), \"sex\", \"smoker\"])\n",
    "grp_by_age_sex[\"charges\"].mean().reset_index()"
   ]
  },
  {
   "cell_type": "code",
   "execution_count": 23,
   "id": "stone-chamber",
   "metadata": {
    "execution": {
     "iopub.execute_input": "2021-07-05T23:22:27.633883Z",
     "iopub.status.busy": "2021-07-05T23:22:27.632867Z",
     "iopub.status.idle": "2021-07-05T23:22:27.645898Z",
     "shell.execute_reply": "2021-07-05T23:22:27.646384Z",
     "shell.execute_reply.started": "2021-07-05T21:37:13.353331Z"
    },
    "papermill": {
     "duration": 0.078979,
     "end_time": "2021-07-05T23:22:27.646580",
     "exception": false,
     "start_time": "2021-07-05T23:22:27.567601",
     "status": "completed"
    },
    "tags": []
   },
   "outputs": [
    {
     "name": "stdout",
     "output_type": "stream",
     "text": [
      "<class 'pandas.core.frame.DataFrame'>\n",
      "RangeIndex: 1338 entries, 0 to 1337\n",
      "Data columns (total 7 columns):\n",
      " #   Column    Non-Null Count  Dtype  \n",
      "---  ------    --------------  -----  \n",
      " 0   age       1338 non-null   int64  \n",
      " 1   sex       1338 non-null   object \n",
      " 2   bmi       1338 non-null   float64\n",
      " 3   children  1338 non-null   int64  \n",
      " 4   smoker    1338 non-null   object \n",
      " 5   region    1338 non-null   object \n",
      " 6   charges   1338 non-null   float64\n",
      "dtypes: float64(2), int64(2), object(3)\n",
      "memory usage: 73.3+ KB\n"
     ]
    }
   ],
   "source": [
    "ins.info()"
   ]
  },
  {
   "cell_type": "code",
   "execution_count": 24,
   "id": "complimentary-testament",
   "metadata": {
    "execution": {
     "iopub.execute_input": "2021-07-05T23:22:27.770324Z",
     "iopub.status.busy": "2021-07-05T23:22:27.769474Z",
     "iopub.status.idle": "2021-07-05T23:22:27.936143Z",
     "shell.execute_reply": "2021-07-05T23:22:27.936689Z",
     "shell.execute_reply.started": "2021-07-05T21:42:26.445775Z"
    },
    "papermill": {
     "duration": 0.231513,
     "end_time": "2021-07-05T23:22:27.936877",
     "exception": false,
     "start_time": "2021-07-05T23:22:27.705364",
     "status": "completed"
    },
    "tags": []
   },
   "outputs": [
    {
     "data": {
      "text/plain": [
       "[array(['female', 'male'], dtype=object),\n",
       " array(['no', 'yes'], dtype=object),\n",
       " array(['northeast', 'northwest', 'southeast', 'southwest'], dtype=object)]"
      ]
     },
     "execution_count": 24,
     "metadata": {},
     "output_type": "execute_result"
    }
   ],
   "source": [
    "num_attribs = [\"age\", \"bmi\", \"children\"]\n",
    "cat_attribs = [\"sex\",\"smoker\", \"region\"]\n",
    "\n",
    "from sklearn.preprocessing import OneHotEncoder\n",
    "ohe = OneHotEncoder()\n",
    "encoded_cat = ohe.fit_transform(ins[cat_attribs])\n",
    "encoded_cat.toarray()\n",
    "ohe.categories_"
   ]
  },
  {
   "cell_type": "code",
   "execution_count": 25,
   "id": "freelance-monitor",
   "metadata": {
    "execution": {
     "iopub.execute_input": "2021-07-05T23:22:28.072765Z",
     "iopub.status.busy": "2021-07-05T23:22:28.071326Z",
     "iopub.status.idle": "2021-07-05T23:22:28.078328Z",
     "shell.execute_reply": "2021-07-05T23:22:28.078806Z",
     "shell.execute_reply.started": "2021-07-05T22:02:56.938392Z"
    },
    "papermill": {
     "duration": 0.081663,
     "end_time": "2021-07-05T23:22:28.078989",
     "exception": false,
     "start_time": "2021-07-05T23:22:27.997326",
     "status": "completed"
    },
    "tags": []
   },
   "outputs": [
    {
     "data": {
      "text/plain": [
       "(['sex_female',\n",
       "  'sex_male',\n",
       "  'smoker_no',\n",
       "  'smoker_yes',\n",
       "  'region_northeast',\n",
       "  'region_northwest',\n",
       "  'region_southeast',\n",
       "  'region_southwest'],\n",
       " array([[1., 0., 0., ..., 0., 0., 1.],\n",
       "        [0., 1., 1., ..., 0., 1., 0.],\n",
       "        [0., 1., 1., ..., 0., 1., 0.],\n",
       "        ...,\n",
       "        [1., 0., 1., ..., 0., 1., 0.],\n",
       "        [1., 0., 1., ..., 0., 0., 1.],\n",
       "        [1., 0., 0., ..., 1., 0., 0.]]))"
      ]
     },
     "execution_count": 25,
     "metadata": {},
     "output_type": "execute_result"
    }
   ],
   "source": [
    "def OHE_attribs(df, cat_attribs):\n",
    "    ohe = OneHotEncoder()\n",
    "    encoded_cols = ohe.fit_transform(df[cat_attribs])\n",
    "    cat_columns = []\n",
    "    for i in range(len(cat_attribs)):\n",
    "        for j in ohe.categories_[i]:\n",
    "            cat_columns.append(cat_attribs[i]+'_'+str(j))\n",
    "    return cat_columns,encoded_cols.toarray()\n",
    "    \n",
    "cat_cols,encoded_cols  = OHE_attribs(ins,cat_attribs )\n",
    "cat_cols, encoded_cols"
   ]
  },
  {
   "cell_type": "code",
   "execution_count": 26,
   "id": "lined-mystery",
   "metadata": {
    "execution": {
     "iopub.execute_input": "2021-07-05T23:22:28.216952Z",
     "iopub.status.busy": "2021-07-05T23:22:28.206980Z",
     "iopub.status.idle": "2021-07-05T23:22:28.237531Z",
     "shell.execute_reply": "2021-07-05T23:22:28.236913Z",
     "shell.execute_reply.started": "2021-07-05T22:06:20.452826Z"
    },
    "papermill": {
     "duration": 0.098105,
     "end_time": "2021-07-05T23:22:28.237683",
     "exception": false,
     "start_time": "2021-07-05T23:22:28.139578",
     "status": "completed"
    },
    "tags": []
   },
   "outputs": [
    {
     "data": {
      "text/html": [
       "<div>\n",
       "<style scoped>\n",
       "    .dataframe tbody tr th:only-of-type {\n",
       "        vertical-align: middle;\n",
       "    }\n",
       "\n",
       "    .dataframe tbody tr th {\n",
       "        vertical-align: top;\n",
       "    }\n",
       "\n",
       "    .dataframe thead th {\n",
       "        text-align: right;\n",
       "    }\n",
       "</style>\n",
       "<table border=\"1\" class=\"dataframe\">\n",
       "  <thead>\n",
       "    <tr style=\"text-align: right;\">\n",
       "      <th></th>\n",
       "      <th>age</th>\n",
       "      <th>bmi</th>\n",
       "      <th>children</th>\n",
       "      <th>sex_female</th>\n",
       "      <th>sex_male</th>\n",
       "      <th>smoker_no</th>\n",
       "      <th>smoker_yes</th>\n",
       "      <th>region_northeast</th>\n",
       "      <th>region_northwest</th>\n",
       "      <th>region_southeast</th>\n",
       "      <th>region_southwest</th>\n",
       "    </tr>\n",
       "  </thead>\n",
       "  <tbody>\n",
       "    <tr>\n",
       "      <th>0</th>\n",
       "      <td>19</td>\n",
       "      <td>27.900</td>\n",
       "      <td>0</td>\n",
       "      <td>1.0</td>\n",
       "      <td>0.0</td>\n",
       "      <td>0.0</td>\n",
       "      <td>1.0</td>\n",
       "      <td>0.0</td>\n",
       "      <td>0.0</td>\n",
       "      <td>0.0</td>\n",
       "      <td>1.0</td>\n",
       "    </tr>\n",
       "    <tr>\n",
       "      <th>1</th>\n",
       "      <td>18</td>\n",
       "      <td>33.770</td>\n",
       "      <td>1</td>\n",
       "      <td>0.0</td>\n",
       "      <td>1.0</td>\n",
       "      <td>1.0</td>\n",
       "      <td>0.0</td>\n",
       "      <td>0.0</td>\n",
       "      <td>0.0</td>\n",
       "      <td>1.0</td>\n",
       "      <td>0.0</td>\n",
       "    </tr>\n",
       "    <tr>\n",
       "      <th>2</th>\n",
       "      <td>28</td>\n",
       "      <td>33.000</td>\n",
       "      <td>3</td>\n",
       "      <td>0.0</td>\n",
       "      <td>1.0</td>\n",
       "      <td>1.0</td>\n",
       "      <td>0.0</td>\n",
       "      <td>0.0</td>\n",
       "      <td>0.0</td>\n",
       "      <td>1.0</td>\n",
       "      <td>0.0</td>\n",
       "    </tr>\n",
       "    <tr>\n",
       "      <th>3</th>\n",
       "      <td>33</td>\n",
       "      <td>22.705</td>\n",
       "      <td>0</td>\n",
       "      <td>0.0</td>\n",
       "      <td>1.0</td>\n",
       "      <td>1.0</td>\n",
       "      <td>0.0</td>\n",
       "      <td>0.0</td>\n",
       "      <td>1.0</td>\n",
       "      <td>0.0</td>\n",
       "      <td>0.0</td>\n",
       "    </tr>\n",
       "    <tr>\n",
       "      <th>4</th>\n",
       "      <td>32</td>\n",
       "      <td>28.880</td>\n",
       "      <td>0</td>\n",
       "      <td>0.0</td>\n",
       "      <td>1.0</td>\n",
       "      <td>1.0</td>\n",
       "      <td>0.0</td>\n",
       "      <td>0.0</td>\n",
       "      <td>1.0</td>\n",
       "      <td>0.0</td>\n",
       "      <td>0.0</td>\n",
       "    </tr>\n",
       "    <tr>\n",
       "      <th>...</th>\n",
       "      <td>...</td>\n",
       "      <td>...</td>\n",
       "      <td>...</td>\n",
       "      <td>...</td>\n",
       "      <td>...</td>\n",
       "      <td>...</td>\n",
       "      <td>...</td>\n",
       "      <td>...</td>\n",
       "      <td>...</td>\n",
       "      <td>...</td>\n",
       "      <td>...</td>\n",
       "    </tr>\n",
       "    <tr>\n",
       "      <th>1333</th>\n",
       "      <td>50</td>\n",
       "      <td>30.970</td>\n",
       "      <td>3</td>\n",
       "      <td>0.0</td>\n",
       "      <td>1.0</td>\n",
       "      <td>1.0</td>\n",
       "      <td>0.0</td>\n",
       "      <td>0.0</td>\n",
       "      <td>1.0</td>\n",
       "      <td>0.0</td>\n",
       "      <td>0.0</td>\n",
       "    </tr>\n",
       "    <tr>\n",
       "      <th>1334</th>\n",
       "      <td>18</td>\n",
       "      <td>31.920</td>\n",
       "      <td>0</td>\n",
       "      <td>1.0</td>\n",
       "      <td>0.0</td>\n",
       "      <td>1.0</td>\n",
       "      <td>0.0</td>\n",
       "      <td>1.0</td>\n",
       "      <td>0.0</td>\n",
       "      <td>0.0</td>\n",
       "      <td>0.0</td>\n",
       "    </tr>\n",
       "    <tr>\n",
       "      <th>1335</th>\n",
       "      <td>18</td>\n",
       "      <td>36.850</td>\n",
       "      <td>0</td>\n",
       "      <td>1.0</td>\n",
       "      <td>0.0</td>\n",
       "      <td>1.0</td>\n",
       "      <td>0.0</td>\n",
       "      <td>0.0</td>\n",
       "      <td>0.0</td>\n",
       "      <td>1.0</td>\n",
       "      <td>0.0</td>\n",
       "    </tr>\n",
       "    <tr>\n",
       "      <th>1336</th>\n",
       "      <td>21</td>\n",
       "      <td>25.800</td>\n",
       "      <td>0</td>\n",
       "      <td>1.0</td>\n",
       "      <td>0.0</td>\n",
       "      <td>1.0</td>\n",
       "      <td>0.0</td>\n",
       "      <td>0.0</td>\n",
       "      <td>0.0</td>\n",
       "      <td>0.0</td>\n",
       "      <td>1.0</td>\n",
       "    </tr>\n",
       "    <tr>\n",
       "      <th>1337</th>\n",
       "      <td>61</td>\n",
       "      <td>29.070</td>\n",
       "      <td>0</td>\n",
       "      <td>1.0</td>\n",
       "      <td>0.0</td>\n",
       "      <td>0.0</td>\n",
       "      <td>1.0</td>\n",
       "      <td>0.0</td>\n",
       "      <td>1.0</td>\n",
       "      <td>0.0</td>\n",
       "      <td>0.0</td>\n",
       "    </tr>\n",
       "  </tbody>\n",
       "</table>\n",
       "<p>1338 rows × 11 columns</p>\n",
       "</div>"
      ],
      "text/plain": [
       "      age     bmi  children  sex_female  sex_male  smoker_no  smoker_yes  \\\n",
       "0      19  27.900         0         1.0       0.0        0.0         1.0   \n",
       "1      18  33.770         1         0.0       1.0        1.0         0.0   \n",
       "2      28  33.000         3         0.0       1.0        1.0         0.0   \n",
       "3      33  22.705         0         0.0       1.0        1.0         0.0   \n",
       "4      32  28.880         0         0.0       1.0        1.0         0.0   \n",
       "...   ...     ...       ...         ...       ...        ...         ...   \n",
       "1333   50  30.970         3         0.0       1.0        1.0         0.0   \n",
       "1334   18  31.920         0         1.0       0.0        1.0         0.0   \n",
       "1335   18  36.850         0         1.0       0.0        1.0         0.0   \n",
       "1336   21  25.800         0         1.0       0.0        1.0         0.0   \n",
       "1337   61  29.070         0         1.0       0.0        0.0         1.0   \n",
       "\n",
       "      region_northeast  region_northwest  region_southeast  region_southwest  \n",
       "0                  0.0               0.0               0.0               1.0  \n",
       "1                  0.0               0.0               1.0               0.0  \n",
       "2                  0.0               0.0               1.0               0.0  \n",
       "3                  0.0               1.0               0.0               0.0  \n",
       "4                  0.0               1.0               0.0               0.0  \n",
       "...                ...               ...               ...               ...  \n",
       "1333               0.0               1.0               0.0               0.0  \n",
       "1334               1.0               0.0               0.0               0.0  \n",
       "1335               0.0               0.0               1.0               0.0  \n",
       "1336               0.0               0.0               0.0               1.0  \n",
       "1337               0.0               1.0               0.0               0.0  \n",
       "\n",
       "[1338 rows x 11 columns]"
      ]
     },
     "execution_count": 26,
     "metadata": {},
     "output_type": "execute_result"
    }
   ],
   "source": [
    "ins_df = ins[num_attribs].merge(pd.DataFrame(encoded_cols, columns = cat_cols), how = \"left\", right_index = True, left_index = True)\n",
    "ins_df"
   ]
  },
  {
   "cell_type": "code",
   "execution_count": 27,
   "id": "authentic-stress",
   "metadata": {
    "execution": {
     "iopub.execute_input": "2021-07-05T23:22:28.365992Z",
     "iopub.status.busy": "2021-07-05T23:22:28.365004Z",
     "iopub.status.idle": "2021-07-05T23:22:28.371319Z",
     "shell.execute_reply": "2021-07-05T23:22:28.370680Z",
     "shell.execute_reply.started": "2021-07-05T22:07:59.906466Z"
    },
    "papermill": {
     "duration": 0.071351,
     "end_time": "2021-07-05T23:22:28.371458",
     "exception": false,
     "start_time": "2021-07-05T23:22:28.300107",
     "status": "completed"
    },
    "tags": []
   },
   "outputs": [
    {
     "data": {
      "text/plain": [
       "((1338, 11), (1338,))"
      ]
     },
     "execution_count": 27,
     "metadata": {},
     "output_type": "execute_result"
    }
   ],
   "source": [
    "X = ins_df.values\n",
    "y = ins[\"charges\"].values\n",
    "X.shape, y.shape"
   ]
  },
  {
   "cell_type": "code",
   "execution_count": 28,
   "id": "annual-finland",
   "metadata": {
    "execution": {
     "iopub.execute_input": "2021-07-05T23:22:28.497918Z",
     "iopub.status.busy": "2021-07-05T23:22:28.497196Z",
     "iopub.status.idle": "2021-07-05T23:22:28.562742Z",
     "shell.execute_reply": "2021-07-05T23:22:28.562164Z",
     "shell.execute_reply.started": "2021-07-05T22:09:35.334888Z"
    },
    "papermill": {
     "duration": 0.130622,
     "end_time": "2021-07-05T23:22:28.562882",
     "exception": false,
     "start_time": "2021-07-05T23:22:28.432260",
     "status": "completed"
    },
    "tags": []
   },
   "outputs": [
    {
     "data": {
      "text/plain": [
       "((1070, 11), (1070,), (268, 11), (268,))"
      ]
     },
     "execution_count": 28,
     "metadata": {},
     "output_type": "execute_result"
    }
   ],
   "source": [
    "from sklearn.model_selection import train_test_split\n",
    "X_train, X_test, y_train, y_test = train_test_split(X, y, random_state = 1, test_size = 0.2)\n",
    "\n",
    "X_train.shape, y_train.shape, X_test.shape, y_test.shape"
   ]
  },
  {
   "cell_type": "code",
   "execution_count": 29,
   "id": "fatty-literacy",
   "metadata": {
    "execution": {
     "iopub.execute_input": "2021-07-05T23:22:28.690516Z",
     "iopub.status.busy": "2021-07-05T23:22:28.689690Z",
     "iopub.status.idle": "2021-07-05T23:22:28.692060Z",
     "shell.execute_reply": "2021-07-05T23:22:28.692586Z",
     "shell.execute_reply.started": "2021-07-05T22:20:25.094219Z"
    },
    "papermill": {
     "duration": 0.068827,
     "end_time": "2021-07-05T23:22:28.692756",
     "exception": false,
     "start_time": "2021-07-05T23:22:28.623929",
     "status": "completed"
    },
    "tags": []
   },
   "outputs": [],
   "source": [
    "from sklearn.metrics import mean_squared_error\n",
    "def accuracy_check(y_pred, y_test):\n",
    "    mse = mean_squared_error(y_pred, y_test)\n",
    "    return round(np.sqrt(mse),2)"
   ]
  },
  {
   "cell_type": "code",
   "execution_count": 30,
   "id": "crazy-confirmation",
   "metadata": {
    "execution": {
     "iopub.execute_input": "2021-07-05T23:22:28.821225Z",
     "iopub.status.busy": "2021-07-05T23:22:28.820547Z",
     "iopub.status.idle": "2021-07-05T23:22:28.937487Z",
     "shell.execute_reply": "2021-07-05T23:22:28.938183Z",
     "shell.execute_reply.started": "2021-07-05T22:20:29.584349Z"
    },
    "papermill": {
     "duration": 0.184308,
     "end_time": "2021-07-05T23:22:28.938459",
     "exception": false,
     "start_time": "2021-07-05T23:22:28.754151",
     "status": "completed"
    },
    "tags": []
   },
   "outputs": [
    {
     "data": {
      "text/plain": [
       "6065.29"
      ]
     },
     "execution_count": 30,
     "metadata": {},
     "output_type": "execute_result"
    }
   ],
   "source": [
    "# LInear_Regression\n",
    "from sklearn.linear_model import LinearRegression\n",
    "from sklearn.metrics import mean_squared_error\n",
    "lin_reg = LinearRegression()\n",
    "lin_reg.fit(X_train, y_train)\n",
    "y_pred_train = lin_reg.predict(X_train)\n",
    "training_acc = accuracy_check(y_pred_train, y_train)\n",
    "training_acc"
   ]
  },
  {
   "cell_type": "code",
   "execution_count": 31,
   "id": "ranging-gnome",
   "metadata": {
    "execution": {
     "iopub.execute_input": "2021-07-05T23:22:29.112987Z",
     "iopub.status.busy": "2021-07-05T23:22:29.112070Z",
     "iopub.status.idle": "2021-07-05T23:22:29.116535Z",
     "shell.execute_reply": "2021-07-05T23:22:29.116016Z",
     "shell.execute_reply.started": "2021-07-05T22:21:08.719631Z"
    },
    "papermill": {
     "duration": 0.075378,
     "end_time": "2021-07-05T23:22:29.116682",
     "exception": false,
     "start_time": "2021-07-05T23:22:29.041304",
     "status": "completed"
    },
    "tags": []
   },
   "outputs": [
    {
     "data": {
      "text/plain": [
       "5956.45"
      ]
     },
     "execution_count": 31,
     "metadata": {},
     "output_type": "execute_result"
    }
   ],
   "source": [
    "y_pred_test = lin_reg.predict(X_test)\n",
    "test_acc = accuracy_check(y_pred_test, y_test)\n",
    "test_acc"
   ]
  },
  {
   "cell_type": "code",
   "execution_count": 32,
   "id": "convenient-weapon",
   "metadata": {
    "execution": {
     "iopub.execute_input": "2021-07-05T23:22:29.249537Z",
     "iopub.status.busy": "2021-07-05T23:22:29.248610Z",
     "iopub.status.idle": "2021-07-05T23:22:29.282401Z",
     "shell.execute_reply": "2021-07-05T23:22:29.283178Z",
     "shell.execute_reply.started": "2021-07-05T22:32:45.913699Z"
    },
    "papermill": {
     "duration": 0.104905,
     "end_time": "2021-07-05T23:22:29.283466",
     "exception": false,
     "start_time": "2021-07-05T23:22:29.178561",
     "status": "completed"
    },
    "tags": []
   },
   "outputs": [
    {
     "name": "stdout",
     "output_type": "stream",
     "text": [
      "Scores: [6120.94 6915.09 6286.84 4975.05 6194.07 6391.12 5659.8  6624.67 6261.62\n",
      " 5584.41]\n",
      "Mean : 6101.36\n",
      "Std. : 531.02\n"
     ]
    }
   ],
   "source": [
    "# Cross Validation using Linear Regression\n",
    "from sklearn.model_selection import cross_val_score\n",
    "\n",
    "scores = cross_val_score(lin_reg,X_train, y_train, scoring = \"neg_mean_squared_error\", cv = 10)\n",
    "lin_reg_score = np.sqrt(-scores)\n",
    "\n",
    "def display_scores(scores):\n",
    "    print(\"Scores:\", np.round(scores,2))\n",
    "    print(\"Mean :\", np.round(scores.mean(),2))\n",
    "    print(\"Std. :\", np.round(scores.std(),2))\n",
    "\n",
    "display_scores(lin_reg_score)"
   ]
  },
  {
   "cell_type": "code",
   "execution_count": 33,
   "id": "treated-charger",
   "metadata": {
    "execution": {
     "iopub.execute_input": "2021-07-05T23:22:29.465063Z",
     "iopub.status.busy": "2021-07-05T23:22:29.464065Z",
     "iopub.status.idle": "2021-07-05T23:22:29.639569Z",
     "shell.execute_reply": "2021-07-05T23:22:29.640280Z",
     "shell.execute_reply.started": "2021-07-05T22:38:26.090216Z"
    },
    "papermill": {
     "duration": 0.245524,
     "end_time": "2021-07-05T23:22:29.640629",
     "exception": false,
     "start_time": "2021-07-05T23:22:29.395105",
     "status": "completed"
    },
    "tags": []
   },
   "outputs": [
    {
     "name": "stdout",
     "output_type": "stream",
     "text": [
      "Scores: [6466.56 7180.77 6463.46 6108.64 8125.18 6952.5  6756.1  6580.53 6828.4\n",
      " 4869.97]\n",
      "Mean : 6633.21\n",
      "Std. : 782.59\n"
     ]
    }
   ],
   "source": [
    "# Testing with Decison Tree\n",
    "from sklearn.tree import DecisionTreeRegressor\n",
    "dtree = DecisionTreeRegressor()\n",
    "\n",
    "scores = cross_val_score(dtree, X_train, y_train, scoring = \"neg_mean_squared_error\", cv =10)\n",
    "dtree_scores = np.sqrt(-scores)\n",
    "display_scores(dtree_scores)\n"
   ]
  },
  {
   "cell_type": "code",
   "execution_count": 34,
   "id": "worthy-ballot",
   "metadata": {
    "execution": {
     "iopub.execute_input": "2021-07-05T23:22:29.778367Z",
     "iopub.status.busy": "2021-07-05T23:22:29.777679Z",
     "iopub.status.idle": "2021-07-05T23:22:33.556995Z",
     "shell.execute_reply": "2021-07-05T23:22:33.556441Z",
     "shell.execute_reply.started": "2021-07-05T22:35:15.147280Z"
    },
    "papermill": {
     "duration": 3.84925,
     "end_time": "2021-07-05T23:22:33.557137",
     "exception": false,
     "start_time": "2021-07-05T23:22:29.707887",
     "status": "completed"
    },
    "tags": []
   },
   "outputs": [
    {
     "name": "stdout",
     "output_type": "stream",
     "text": [
      "Scores: [4875.93 5675.54 5167.81 3804.72 5370.42 5163.32 4810.29 5442.27 4531.42\n",
      " 4200.65]\n",
      "Mean : 4904.24\n",
      "Std. : 555.96\n"
     ]
    }
   ],
   "source": [
    "# Random Forest \n",
    "from sklearn.ensemble import RandomForestRegressor\n",
    "forest_reg = RandomForestRegressor()\n",
    "scores = cross_val_score(forest_reg, X_train, y_train, scoring = \"neg_mean_squared_error\", cv = 10)\n",
    "forest_reg_scores = np.sqrt(-scores)\n",
    "\n",
    "display_scores(forest_reg_scores) # Best performer"
   ]
  },
  {
   "cell_type": "code",
   "execution_count": 35,
   "id": "overall-storage",
   "metadata": {
    "execution": {
     "iopub.execute_input": "2021-07-05T23:22:33.689631Z",
     "iopub.status.busy": "2021-07-05T23:22:33.688948Z",
     "iopub.status.idle": "2021-07-05T23:22:33.692791Z",
     "shell.execute_reply": "2021-07-05T23:22:33.692132Z",
     "shell.execute_reply.started": "2021-07-05T22:37:27.735507Z"
    },
    "papermill": {
     "duration": 0.073274,
     "end_time": "2021-07-05T23:22:33.692934",
     "exception": false,
     "start_time": "2021-07-05T23:22:33.619660",
     "status": "completed"
    },
    "tags": []
   },
   "outputs": [
    {
     "data": {
      "text/plain": [
       "5956.45"
      ]
     },
     "execution_count": 35,
     "metadata": {},
     "output_type": "execute_result"
    }
   ],
   "source": [
    "# Let us see the testing scores\n",
    "y_pred = lin_reg.predict(X_test)\n",
    "accuracy_check(y_pred, y_test)"
   ]
  },
  {
   "cell_type": "code",
   "execution_count": 36,
   "id": "smooth-collective",
   "metadata": {
    "execution": {
     "iopub.execute_input": "2021-07-05T23:22:33.826298Z",
     "iopub.status.busy": "2021-07-05T23:22:33.825602Z",
     "iopub.status.idle": "2021-07-05T23:22:33.834206Z",
     "shell.execute_reply": "2021-07-05T23:22:33.833683Z",
     "shell.execute_reply.started": "2021-07-05T22:38:54.453960Z"
    },
    "papermill": {
     "duration": 0.078357,
     "end_time": "2021-07-05T23:22:33.834372",
     "exception": false,
     "start_time": "2021-07-05T23:22:33.756015",
     "status": "completed"
    },
    "tags": []
   },
   "outputs": [
    {
     "data": {
      "text/plain": [
       "6021.83"
      ]
     },
     "execution_count": 36,
     "metadata": {},
     "output_type": "execute_result"
    }
   ],
   "source": [
    "dtree.fit(X_train, y_train)\n",
    "y_pred = dtree.predict(X_test)\n",
    "accuracy_check(y_pred, y_test)"
   ]
  },
  {
   "cell_type": "code",
   "execution_count": 37,
   "id": "derived-maker",
   "metadata": {
    "execution": {
     "iopub.execute_input": "2021-07-05T23:22:34.014785Z",
     "iopub.status.busy": "2021-07-05T23:22:33.998827Z",
     "iopub.status.idle": "2021-07-05T23:22:34.373466Z",
     "shell.execute_reply": "2021-07-05T23:22:34.373912Z",
     "shell.execute_reply.started": "2021-07-05T22:39:08.320349Z"
    },
    "papermill": {
     "duration": 0.475269,
     "end_time": "2021-07-05T23:22:34.374086",
     "exception": false,
     "start_time": "2021-07-05T23:22:33.898817",
     "status": "completed"
    },
    "tags": []
   },
   "outputs": [
    {
     "data": {
      "text/plain": [
       "4636.31"
      ]
     },
     "execution_count": 37,
     "metadata": {},
     "output_type": "execute_result"
    }
   ],
   "source": [
    "forest_reg.fit(X_train, y_train)\n",
    "y_pred = forest_reg.predict(X_test)\n",
    "accuracy_check(y_pred, y_test)"
   ]
  },
  {
   "cell_type": "code",
   "execution_count": 38,
   "id": "western-discharge",
   "metadata": {
    "execution": {
     "iopub.execute_input": "2021-07-05T23:22:34.514329Z",
     "iopub.status.busy": "2021-07-05T23:22:34.509612Z",
     "iopub.status.idle": "2021-07-05T23:22:38.689238Z",
     "shell.execute_reply": "2021-07-05T23:22:38.688596Z",
     "shell.execute_reply.started": "2021-07-05T22:44:59.298327Z"
    },
    "papermill": {
     "duration": 4.250896,
     "end_time": "2021-07-05T23:22:38.689416",
     "exception": false,
     "start_time": "2021-07-05T23:22:34.438520",
     "status": "completed"
    },
    "tags": []
   },
   "outputs": [
    {
     "data": {
      "text/plain": [
       "GridSearchCV(cv=5, estimator=RandomForestRegressor(),\n",
       "             param_grid=[{'max_features': [2, 4, 6, 8, 10],\n",
       "                          'n_estimators': [3, 10, 30]},\n",
       "                         {'bootstrap': [False], 'max_features': [3, 5],\n",
       "                          'n_estimators': [5, 15]}],\n",
       "             return_train_score=True, scoring='neg_mean_squared_error')"
      ]
     },
     "execution_count": 38,
     "metadata": {},
     "output_type": "execute_result"
    }
   ],
   "source": [
    "# Tuning the model with GridSearchCV\n",
    "from sklearn.model_selection import GridSearchCV\n",
    "\n",
    "params = [\n",
    "    {'n_estimators':[3,10,30], 'max_features':[2,4,6,8,10]},\n",
    "    {'bootstrap': [False], 'n_estimators':[5,15], 'max_features': [3,5]}\n",
    "]\n",
    "grid_search = GridSearchCV(forest_reg, params, cv = 5, scoring = \"neg_mean_squared_error\", return_train_score=True)\n",
    "\n",
    "grid_search.fit(X_train, y_train)\n"
   ]
  },
  {
   "cell_type": "code",
   "execution_count": 39,
   "id": "affecting-surveillance",
   "metadata": {
    "execution": {
     "iopub.execute_input": "2021-07-05T23:22:38.822949Z",
     "iopub.status.busy": "2021-07-05T23:22:38.821949Z",
     "iopub.status.idle": "2021-07-05T23:22:38.827461Z",
     "shell.execute_reply": "2021-07-05T23:22:38.828061Z",
     "shell.execute_reply.started": "2021-07-05T22:45:13.463967Z"
    },
    "papermill": {
     "duration": 0.07452,
     "end_time": "2021-07-05T23:22:38.828261",
     "exception": false,
     "start_time": "2021-07-05T23:22:38.753741",
     "status": "completed"
    },
    "tags": []
   },
   "outputs": [
    {
     "data": {
      "text/plain": [
       "{'max_features': 6, 'n_estimators': 30}"
      ]
     },
     "execution_count": 39,
     "metadata": {},
     "output_type": "execute_result"
    }
   ],
   "source": [
    "grid_search.best_params_"
   ]
  },
  {
   "cell_type": "code",
   "execution_count": 40,
   "id": "sufficient-arcade",
   "metadata": {
    "execution": {
     "iopub.execute_input": "2021-07-05T23:22:38.964848Z",
     "iopub.status.busy": "2021-07-05T23:22:38.963777Z",
     "iopub.status.idle": "2021-07-05T23:22:38.970628Z",
     "shell.execute_reply": "2021-07-05T23:22:38.970009Z",
     "shell.execute_reply.started": "2021-07-05T22:45:23.927402Z"
    },
    "papermill": {
     "duration": 0.07529,
     "end_time": "2021-07-05T23:22:38.970778",
     "exception": false,
     "start_time": "2021-07-05T23:22:38.895488",
     "status": "completed"
    },
    "tags": []
   },
   "outputs": [
    {
     "data": {
      "text/plain": [
       "RandomForestRegressor(max_features=6, n_estimators=30)"
      ]
     },
     "execution_count": 40,
     "metadata": {},
     "output_type": "execute_result"
    }
   ],
   "source": [
    "grid_search.best_estimator_"
   ]
  },
  {
   "cell_type": "code",
   "execution_count": 41,
   "id": "million-attitude",
   "metadata": {
    "execution": {
     "iopub.execute_input": "2021-07-05T23:22:39.106964Z",
     "iopub.status.busy": "2021-07-05T23:22:39.105860Z",
     "iopub.status.idle": "2021-07-05T23:22:39.113457Z",
     "shell.execute_reply": "2021-07-05T23:22:39.112553Z",
     "shell.execute_reply.started": "2021-07-05T22:48:10.427276Z"
    },
    "papermill": {
     "duration": 0.077924,
     "end_time": "2021-07-05T23:22:39.113668",
     "exception": false,
     "start_time": "2021-07-05T23:22:39.035744",
     "status": "completed"
    },
    "tags": []
   },
   "outputs": [
    {
     "name": "stdout",
     "output_type": "stream",
     "text": [
      "{'max_features': 2, 'n_estimators': 3} 5924.355210296305\n",
      "{'max_features': 2, 'n_estimators': 10} 5364.142002302906\n",
      "{'max_features': 2, 'n_estimators': 30} 5156.575286468349\n",
      "{'max_features': 4, 'n_estimators': 3} 5652.645942818474\n",
      "{'max_features': 4, 'n_estimators': 10} 5012.195315631174\n",
      "{'max_features': 4, 'n_estimators': 30} 4873.142770170952\n",
      "{'max_features': 6, 'n_estimators': 3} 5477.8490035707555\n",
      "{'max_features': 6, 'n_estimators': 10} 5012.438855954847\n",
      "{'max_features': 6, 'n_estimators': 30} 4771.406606179156\n",
      "{'max_features': 8, 'n_estimators': 3} 5295.913871846575\n",
      "{'max_features': 8, 'n_estimators': 10} 5028.681701334741\n",
      "{'max_features': 8, 'n_estimators': 30} 4882.129983963804\n",
      "{'max_features': 10, 'n_estimators': 3} 5332.765345660592\n",
      "{'max_features': 10, 'n_estimators': 10} 5105.592143231568\n",
      "{'max_features': 10, 'n_estimators': 30} 4939.522089714799\n",
      "{'bootstrap': False, 'max_features': 3, 'n_estimators': 5} 5513.845444911943\n",
      "{'bootstrap': False, 'max_features': 3, 'n_estimators': 15} 5104.147477446902\n",
      "{'bootstrap': False, 'max_features': 5, 'n_estimators': 5} 5401.335290263009\n",
      "{'bootstrap': False, 'max_features': 5, 'n_estimators': 15} 5103.638750397025\n"
     ]
    }
   ],
   "source": [
    "for (mean_test_scores, params) in zip(grid_search.cv_results_[\"mean_test_score\"], grid_search.cv_results_[\"params\"]):\n",
    "    print(params, np.sqrt(-mean_test_scores))"
   ]
  },
  {
   "cell_type": "code",
   "execution_count": 42,
   "id": "governing-phenomenon",
   "metadata": {
    "execution": {
     "iopub.execute_input": "2021-07-05T23:22:39.251310Z",
     "iopub.status.busy": "2021-07-05T23:22:39.250667Z",
     "iopub.status.idle": "2021-07-05T23:22:39.260882Z",
     "shell.execute_reply": "2021-07-05T23:22:39.261387Z",
     "shell.execute_reply.started": "2021-07-05T22:51:05.103051Z"
    },
    "papermill": {
     "duration": 0.081428,
     "end_time": "2021-07-05T23:22:39.261574",
     "exception": false,
     "start_time": "2021-07-05T23:22:39.180146",
     "status": "completed"
    },
    "tags": []
   },
   "outputs": [
    {
     "data": {
      "text/plain": [
       "4662.74"
      ]
     },
     "execution_count": 42,
     "metadata": {},
     "output_type": "execute_result"
    }
   ],
   "source": [
    "final_model = grid_search.best_estimator_\n",
    "\n",
    "y_pred_final = final_model.predict(X_test)\n",
    "accuracy_check(y_pred_final, y_test)"
   ]
  },
  {
   "cell_type": "code",
   "execution_count": 43,
   "id": "automated-camel",
   "metadata": {
    "execution": {
     "iopub.execute_input": "2021-07-05T23:22:39.402460Z",
     "iopub.status.busy": "2021-07-05T23:22:39.401745Z",
     "iopub.status.idle": "2021-07-05T23:22:39.406782Z",
     "shell.execute_reply": "2021-07-05T23:22:39.406143Z",
     "shell.execute_reply.started": "2021-07-05T22:54:52.545209Z"
    },
    "papermill": {
     "duration": 0.079456,
     "end_time": "2021-07-05T23:22:39.406931",
     "exception": false,
     "start_time": "2021-07-05T23:22:39.327475",
     "status": "completed"
    },
    "tags": []
   },
   "outputs": [
    {
     "data": {
      "text/plain": [
       "array([3668.47060654, 5479.47735374])"
      ]
     },
     "execution_count": 43,
     "metadata": {},
     "output_type": "execute_result"
    }
   ],
   "source": [
    "from scipy import stats\n",
    "confidence = 0.95\n",
    "sq_error = (y_pred_final - y_test)**2\n",
    "\n",
    "np.sqrt(stats.t.interval(confidence, len(sq_error)-1, sq_error.mean(), stats.sem(sq_error)))"
   ]
  },
  {
   "cell_type": "markdown",
   "id": "isolated-donna",
   "metadata": {
    "papermill": {
     "duration": 0.066026,
     "end_time": "2021-07-05T23:22:39.538508",
     "exception": false,
     "start_time": "2021-07-05T23:22:39.472482",
     "status": "completed"
    },
    "tags": []
   },
   "source": [
    "This is the range estimate of the error in the population with 95% confidence. So"
   ]
  },
  {
   "cell_type": "code",
   "execution_count": null,
   "id": "clean-means",
   "metadata": {
    "papermill": {
     "duration": 0.06666,
     "end_time": "2021-07-05T23:22:39.671193",
     "exception": false,
     "start_time": "2021-07-05T23:22:39.604533",
     "status": "completed"
    },
    "tags": []
   },
   "outputs": [],
   "source": []
  }
 ],
 "metadata": {
  "kernelspec": {
   "display_name": "Python 3",
   "language": "python",
   "name": "python3"
  },
  "language_info": {
   "codemirror_mode": {
    "name": "ipython",
    "version": 3
   },
   "file_extension": ".py",
   "mimetype": "text/x-python",
   "name": "python",
   "nbconvert_exporter": "python",
   "pygments_lexer": "ipython3",
   "version": "3.7.9"
  },
  "papermill": {
   "default_parameters": {},
   "duration": 28.758753,
   "end_time": "2021-07-05T23:22:40.548164",
   "environment_variables": {},
   "exception": null,
   "input_path": "__notebook__.ipynb",
   "output_path": "__notebook__.ipynb",
   "parameters": {},
   "start_time": "2021-07-05T23:22:11.789411",
   "version": "2.3.2"
  }
 },
 "nbformat": 4,
 "nbformat_minor": 5
}
